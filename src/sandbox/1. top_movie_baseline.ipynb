{
 "cells": [
  {
   "cell_type": "code",
   "execution_count": null,
   "metadata": {},
   "outputs": [],
   "source": [
    "import numpy as np\n",
    "import pandas as pd\n",
    "from pandas import DataFrame\n",
    "from tqdm import tqdm\n"
   ]
  },
  {
   "cell_type": "code",
   "execution_count": null,
   "metadata": {},
   "outputs": [],
   "source": [
    "import sys\n",
    "\n",
    "sys.path.append(\"../\")\n",
    "\n",
    "from src.constants import MOVIE_PATH_SANDBOX, RATINGS_PATH_SANDBOX\n",
    "from src.utils import (\n",
    "    MovieEncoder,\n",
    "    mean_average_precision,\n",
    "    normalized_average_precision,\n",
    "    train_test_split,\n",
    ")"
   ]
  },
  {
   "cell_type": "code",
   "execution_count": null,
   "metadata": {},
   "outputs": [],
   "source": [
    "ratings = pd.read_csv(RATINGS_PATH_SANDBOX)\n",
    "ratings.head(5)"
   ]
  },
  {
   "cell_type": "markdown",
   "metadata": {},
   "source": [
    "# Train Test split"
   ]
  },
  {
   "cell_type": "code",
   "execution_count": null,
   "metadata": {},
   "outputs": [],
   "source": [
    "%time\n",
    "train_ratings, test_ratings = train_test_split(ratings)"
   ]
  },
  {
   "cell_type": "markdown",
   "metadata": {},
   "source": [
    "# Dummy baseline"
   ]
  },
  {
   "cell_type": "code",
   "execution_count": null,
   "metadata": {},
   "outputs": [],
   "source": [
    "def calculate_top_movies(df: DataFrame) -> dict:\n",
    "    # movies_metric = df.groupby('movieId')['rating'].sum()\n",
    "    movies_metric = df.groupby(\"movieId\")[\"rating\"].count()\n",
    "    movie_top = movies_metric.sort_values(ascending=False).to_dict()\n",
    "    return movie_top"
   ]
  },
  {
   "cell_type": "code",
   "execution_count": null,
   "metadata": {},
   "outputs": [],
   "source": [
    "top = calculate_top_movies(train_ratings)"
   ]
  },
  {
   "cell_type": "code",
   "execution_count": null,
   "metadata": {},
   "outputs": [],
   "source": [
    "encoder = MovieEncoder(movie_csv_path=MOVIE_PATH_SANDBOX)\n",
    "\n",
    "for idx, (movieId, rating) in enumerate(top.items()):\n",
    "    print(f\"{encoder.to_title(movieId)} с суммой рейтингов {rating}\")\n",
    "    if idx >= 10:\n",
    "        break"
   ]
  },
  {
   "cell_type": "markdown",
   "metadata": {},
   "source": [
    "# Check Hit Ratio @ 10"
   ]
  },
  {
   "cell_type": "code",
   "execution_count": null,
   "metadata": {},
   "outputs": [],
   "source": [
    "all_movieIds = ratings[\"movieId\"].unique()\n",
    "top_movieIDs = [idx for idx, _ in top.items()]"
   ]
  },
  {
   "cell_type": "code",
   "execution_count": null,
   "metadata": {},
   "outputs": [],
   "source": [
    "\"\"\"\n",
    "Проходимся по списку и если в ТОП10 фильмах есть фильм который он посмотрел => рекоменадция считается УДАЧНОЙ\n",
    "Считаем среднее по hits\n",
    "\"\"\"\n",
    "test_user_item_dict = test_ratings.groupby(\"userId\")[\"movieId\"].apply(list).to_dict()\n",
    "\n",
    "hits = []\n",
    "\n",
    "for u, i in tqdm(test_user_item_dict.items()):\n",
    "    # Calculate Hit Ratio\n",
    "    if i in top_movieIDs[:10]:\n",
    "        hits.append(1)\n",
    "    else:\n",
    "        hits.append(0)\n",
    "print(f\"The Hit Ratio @ 10 is {np.average(hits)}\")"
   ]
  },
  {
   "cell_type": "code",
   "execution_count": null,
   "metadata": {},
   "outputs": [],
   "source": [
    "# The Hit Ratio @ 10 is 0.0"
   ]
  },
  {
   "cell_type": "code",
   "execution_count": null,
   "metadata": {},
   "outputs": [],
   "source": [
    "top_10_recommended_dict = {\n",
    "    user: top_movieIDs[:10] for (user, _) in test_user_item_dict.items()\n",
    "}\n",
    "actual_dict = {user: items for (user, items) in test_user_item_dict.items()}\n",
    "print(f\"MAP@6 is {mean_average_precision(actual_dict, top_10_recommended_dict)}\")\n",
    "print(f\"NAP@6 is {normalized_average_precision(actual_dict, top_10_recommended_dict)}\")\n"
   ]
  },
  {
   "cell_type": "code",
   "execution_count": null,
   "metadata": {},
   "outputs": [],
   "source": [
    "# MAP@6 is 0.008033498684650784\n",
    "# NAP@6 is 0.008033498684650784"
   ]
  }
 ],
 "metadata": {
  "kernelspec": {
   "display_name": "Python 3",
   "language": "python",
   "name": "python3"
  },
  "language_info": {
   "codemirror_mode": {
    "name": "ipython",
    "version": 3
   },
   "file_extension": ".py",
   "mimetype": "text/x-python",
   "name": "python",
   "nbconvert_exporter": "python",
   "pygments_lexer": "ipython3",
   "version": "3.12.2"
  }
 },
 "nbformat": 4,
 "nbformat_minor": 2
}

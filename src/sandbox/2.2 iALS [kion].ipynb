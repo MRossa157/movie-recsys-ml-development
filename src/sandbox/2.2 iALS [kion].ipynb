{
 "cells": [
  {
   "cell_type": "code",
   "execution_count": 1,
   "metadata": {},
   "outputs": [
    {
     "name": "stderr",
     "output_type": "stream",
     "text": [
      "c:\\Users\\PC\\AppData\\Local\\Programs\\Python\\Python312\\Lib\\site-packages\\lightfm\\_lightfm_fast.py:9: UserWarning: LightFM was compiled without OpenMP support. Only a single thread will be used.\n",
      "  warnings.warn(\n"
     ]
    }
   ],
   "source": [
    "import pandas as pd\n",
    "import numpy as np\n",
    "import requests\n",
    "import optuna\n",
    "\n",
    "from implicit.als import AlternatingLeastSquares\n",
    "\n",
    "from rectools.metrics import Precision, Recall, MAP, calc_metrics\n",
    "from rectools.models import PopularModel, RandomModel, ImplicitALSWrapperModel\n",
    "from rectools import Columns\n",
    "from rectools.dataset import Dataset\n",
    "from rectools.models import ImplicitALSWrapperModel, LightFMWrapperModel\n",
    "\n",
    "from pathlib import Path\n",
    "import typing as tp\n",
    "from tqdm import tqdm\n",
    "\n",
    "from lightfm import LightFM\n",
    "\n",
    "from implicit.bpr import BayesianPersonalizedRanking\n",
    "\n",
    "from implicit.lmf import LogisticMatrixFactorization\n",
    "\n",
    "\n",
    "import warnings\n",
    "\n",
    "warnings.filterwarnings(action='ignore', category=UserWarning)"
   ]
  },
  {
   "cell_type": "code",
   "execution_count": 2,
   "metadata": {},
   "outputs": [
    {
     "name": "stdout",
     "output_type": "stream",
     "text": [
      "HAS_CUDA: False\n"
     ]
    }
   ],
   "source": [
    "from implicit.gpu import HAS_CUDA\n",
    "\n",
    "print('HAS_CUDA:', HAS_CUDA)"
   ]
  },
  {
   "cell_type": "code",
   "execution_count": 3,
   "metadata": {},
   "outputs": [],
   "source": [
    "import os\n",
    "\n",
    "os.environ['OPENBLAS_NUM_THREADS'] = '1'"
   ]
  },
  {
   "cell_type": "code",
   "execution_count": 4,
   "metadata": {},
   "outputs": [],
   "source": [
    "interactions = pd.read_csv('../datasets/kion/interactions.csv')\n",
    "users = pd.read_csv('../datasets/kion/users.csv')\n",
    "items = pd.read_csv('../datasets/kion/items.csv')"
   ]
  },
  {
   "cell_type": "markdown",
   "metadata": {},
   "source": [
    "# Обработка данных"
   ]
  },
  {
   "cell_type": "code",
   "execution_count": 5,
   "metadata": {},
   "outputs": [],
   "source": [
    "Columns.Datetime = 'last_watch_dt'"
   ]
  },
  {
   "cell_type": "code",
   "execution_count": 6,
   "metadata": {},
   "outputs": [],
   "source": [
    "interactions.drop(\n",
    "    interactions[interactions[Columns.Datetime].str.len() != 10].index,\n",
    "    inplace=True,\n",
    ")\n",
    "interactions[Columns.Datetime] = pd.to_datetime(\n",
    "    interactions[Columns.Datetime], format='%Y-%m-%d'\n",
    ")\n",
    "max_date = interactions[Columns.Datetime].max()\n",
    "interactions[Columns.Weight] = np.where(interactions['watched_pct'] > 10, 3, 1)"
   ]
  },
  {
   "cell_type": "code",
   "execution_count": 7,
   "metadata": {},
   "outputs": [],
   "source": [
    "# Разделяем на train и test\n",
    "train = interactions[\n",
    "    interactions[Columns.Datetime] < max_date - pd.Timedelta(days=7)\n",
    "].copy()\n",
    "test = interactions[\n",
    "    interactions[Columns.Datetime] >= max_date - pd.Timedelta(days=7)\n",
    "].copy()"
   ]
  },
  {
   "cell_type": "code",
   "execution_count": 8,
   "metadata": {},
   "outputs": [
    {
     "data": {
      "text/plain": [
       "72930"
      ]
     },
     "execution_count": 8,
     "metadata": {},
     "output_type": "execute_result"
    }
   ],
   "source": [
    "train.drop(train.query('total_dur < 300').index, inplace=True)\n",
    "cold_users = set(test[Columns.User]) - set(train[Columns.User])\n",
    "len(cold_users)"
   ]
  },
  {
   "cell_type": "code",
   "execution_count": 9,
   "metadata": {},
   "outputs": [],
   "source": [
    "# Отбрасываем холодных пользователей\n",
    "test.drop(test[test[Columns.User].isin(cold_users)].index, inplace=True)"
   ]
  },
  {
   "cell_type": "markdown",
   "metadata": {},
   "source": [
    "# Подготовка фич"
   ]
  },
  {
   "cell_type": "markdown",
   "metadata": {},
   "source": [
    "## User features"
   ]
  },
  {
   "cell_type": "code",
   "execution_count": 10,
   "metadata": {},
   "outputs": [],
   "source": [
    "users.fillna('Unknown', inplace=True)\n",
    "users = users.loc[users[Columns.User].isin(train[Columns.User])].copy()"
   ]
  },
  {
   "cell_type": "code",
   "execution_count": 11,
   "metadata": {},
   "outputs": [
    {
     "data": {
      "text/html": [
       "<div>\n",
       "<style scoped>\n",
       "    .dataframe tbody tr th:only-of-type {\n",
       "        vertical-align: middle;\n",
       "    }\n",
       "\n",
       "    .dataframe tbody tr th {\n",
       "        vertical-align: top;\n",
       "    }\n",
       "\n",
       "    .dataframe thead th {\n",
       "        text-align: right;\n",
       "    }\n",
       "</style>\n",
       "<table border=\"1\" class=\"dataframe\">\n",
       "  <thead>\n",
       "    <tr style=\"text-align: right;\">\n",
       "      <th></th>\n",
       "      <th>id</th>\n",
       "      <th>value</th>\n",
       "      <th>feature</th>\n",
       "    </tr>\n",
       "  </thead>\n",
       "  <tbody>\n",
       "    <tr>\n",
       "      <th>0</th>\n",
       "      <td>973171</td>\n",
       "      <td>М</td>\n",
       "      <td>sex</td>\n",
       "    </tr>\n",
       "    <tr>\n",
       "      <th>1</th>\n",
       "      <td>962099</td>\n",
       "      <td>М</td>\n",
       "      <td>sex</td>\n",
       "    </tr>\n",
       "    <tr>\n",
       "      <th>3</th>\n",
       "      <td>721985</td>\n",
       "      <td>Ж</td>\n",
       "      <td>sex</td>\n",
       "    </tr>\n",
       "    <tr>\n",
       "      <th>4</th>\n",
       "      <td>704055</td>\n",
       "      <td>Ж</td>\n",
       "      <td>sex</td>\n",
       "    </tr>\n",
       "    <tr>\n",
       "      <th>5</th>\n",
       "      <td>1037719</td>\n",
       "      <td>М</td>\n",
       "      <td>sex</td>\n",
       "    </tr>\n",
       "  </tbody>\n",
       "</table>\n",
       "</div>"
      ],
      "text/plain": [
       "        id value feature\n",
       "0   973171     М     sex\n",
       "1   962099     М     sex\n",
       "3   721985     Ж     sex\n",
       "4   704055     Ж     sex\n",
       "5  1037719     М     sex"
      ]
     },
     "execution_count": 11,
     "metadata": {},
     "output_type": "execute_result"
    }
   ],
   "source": [
    "user_features_frames = []\n",
    "for feature in ['sex', 'age', 'income']:\n",
    "    feature_frame = users.reindex(columns=[Columns.User, feature])\n",
    "    feature_frame.columns = ['id', 'value']\n",
    "    feature_frame['feature'] = feature\n",
    "    user_features_frames.append(feature_frame)\n",
    "user_features = pd.concat(user_features_frames)\n",
    "user_features.head()"
   ]
  },
  {
   "cell_type": "markdown",
   "metadata": {},
   "source": [
    "## Item features"
   ]
  },
  {
   "cell_type": "code",
   "execution_count": 12,
   "metadata": {},
   "outputs": [
    {
     "name": "stderr",
     "output_type": "stream",
     "text": [
      "C:\\Users\\PC\\AppData\\Local\\Temp\\ipykernel_3464\\2719428295.py:1: FutureWarning: Setting an item of incompatible dtype is deprecated and will raise an error in a future version of pandas. Value 'Unknown' has dtype incompatible with float64, please explicitly cast to a compatible dtype first.\n",
      "  items.fillna('Unknown', inplace=True)\n"
     ]
    }
   ],
   "source": [
    "items.fillna('Unknown', inplace=True)\n",
    "items = items.loc[items[Columns.Item].isin(train[Columns.Item])].copy()"
   ]
  },
  {
   "cell_type": "code",
   "execution_count": 13,
   "metadata": {},
   "outputs": [
    {
     "data": {
      "text/html": [
       "<div>\n",
       "<style scoped>\n",
       "    .dataframe tbody tr th:only-of-type {\n",
       "        vertical-align: middle;\n",
       "    }\n",
       "\n",
       "    .dataframe tbody tr th {\n",
       "        vertical-align: top;\n",
       "    }\n",
       "\n",
       "    .dataframe thead th {\n",
       "        text-align: right;\n",
       "    }\n",
       "</style>\n",
       "<table border=\"1\" class=\"dataframe\">\n",
       "  <thead>\n",
       "    <tr style=\"text-align: right;\">\n",
       "      <th></th>\n",
       "      <th>id</th>\n",
       "      <th>value</th>\n",
       "      <th>feature</th>\n",
       "    </tr>\n",
       "  </thead>\n",
       "  <tbody>\n",
       "    <tr>\n",
       "      <th>0</th>\n",
       "      <td>10711</td>\n",
       "      <td>драмы</td>\n",
       "      <td>genre</td>\n",
       "    </tr>\n",
       "    <tr>\n",
       "      <th>0</th>\n",
       "      <td>10711</td>\n",
       "      <td>зарубежные</td>\n",
       "      <td>genre</td>\n",
       "    </tr>\n",
       "    <tr>\n",
       "      <th>0</th>\n",
       "      <td>10711</td>\n",
       "      <td>детективы</td>\n",
       "      <td>genre</td>\n",
       "    </tr>\n",
       "    <tr>\n",
       "      <th>0</th>\n",
       "      <td>10711</td>\n",
       "      <td>мелодрамы</td>\n",
       "      <td>genre</td>\n",
       "    </tr>\n",
       "    <tr>\n",
       "      <th>1</th>\n",
       "      <td>2508</td>\n",
       "      <td>зарубежные</td>\n",
       "      <td>genre</td>\n",
       "    </tr>\n",
       "  </tbody>\n",
       "</table>\n",
       "</div>"
      ],
      "text/plain": [
       "      id       value feature\n",
       "0  10711       драмы   genre\n",
       "0  10711  зарубежные   genre\n",
       "0  10711   детективы   genre\n",
       "0  10711   мелодрамы   genre\n",
       "1   2508  зарубежные   genre"
      ]
     },
     "execution_count": 13,
     "metadata": {},
     "output_type": "execute_result"
    }
   ],
   "source": [
    "items['genre'] = (\n",
    "    items['genres']\n",
    "    .str.lower()\n",
    "    .str.replace(', ', ',', regex=False)\n",
    "    .str.split(',')\n",
    ")\n",
    "genre_feature = items[['item_id', 'genre']].explode('genre')\n",
    "genre_feature.columns = ['id', 'value']\n",
    "genre_feature['feature'] = 'genre'\n",
    "genre_feature.head()"
   ]
  },
  {
   "cell_type": "code",
   "execution_count": 14,
   "metadata": {},
   "outputs": [],
   "source": [
    "content_feature = items.reindex(columns=[Columns.Item, 'content_type'])\n",
    "content_feature.columns = ['id', 'value']\n",
    "content_feature['feature'] = 'content_type'"
   ]
  },
  {
   "cell_type": "code",
   "execution_count": 15,
   "metadata": {},
   "outputs": [],
   "source": [
    "countries_feature = items.reindex(columns=[Columns.Item, 'countries'])\n",
    "countries_feature.columns = ['id', 'value']\n",
    "countries_feature['feature'] = 'countries'"
   ]
  },
  {
   "cell_type": "code",
   "execution_count": 16,
   "metadata": {},
   "outputs": [],
   "source": [
    "item_features = pd.concat((genre_feature, content_feature, countries_feature))"
   ]
  },
  {
   "cell_type": "code",
   "execution_count": 17,
   "metadata": {},
   "outputs": [],
   "source": [
    "metrics_name = {\n",
    "    'Recall': Recall,\n",
    "    'MAP': MAP,\n",
    "}\n",
    "\n",
    "metrics = {}\n",
    "for metric_name, metric in metrics_name.items():\n",
    "    for k in range(1, 11):\n",
    "        metrics[f'{metric_name}@{k}'] = metric(k=k)"
   ]
  },
  {
   "cell_type": "code",
   "execution_count": 18,
   "metadata": {},
   "outputs": [],
   "source": [
    "dataset = Dataset.construct(\n",
    "    interactions_df=train,\n",
    "    user_features_df=user_features,\n",
    "    cat_user_features=['sex', 'age', 'income'],\n",
    "    item_features_df=item_features,\n",
    "    cat_item_features=['genre', 'content_type', 'countries'],\n",
    ")\n",
    "\n",
    "TEST_USERS = test[Columns.User].unique()"
   ]
  },
  {
   "cell_type": "markdown",
   "metadata": {},
   "source": [
    "# Подбор гиперпараметров"
   ]
  },
  {
   "cell_type": "markdown",
   "metadata": {},
   "source": [
    "## Подбор гиперпараметров ImplicitALS"
   ]
  },
  {
   "cell_type": "code",
   "execution_count": 19,
   "metadata": {},
   "outputs": [],
   "source": [
    "def ials_objective(trial):\n",
    "    factors = trial.suggest_categorical('factors', [4, 8, 16, 32, 64])\n",
    "    regularization = trial.suggest_float('regularization', 0.001, 0.1, log=True)\n",
    "    iterations = trial.suggest_categorical('iterations', [1, 3, 5, 10, 15])\n",
    "\n",
    "    model = ImplicitALSWrapperModel(\n",
    "        model=AlternatingLeastSquares(\n",
    "            factors=factors,\n",
    "            regularization=regularization,\n",
    "            iterations=iterations,\n",
    "            random_state=42,\n",
    "            num_threads=4,\n",
    "            use_gpu=False,\n",
    "        ),\n",
    "        fit_features_together=True,\n",
    "    )\n",
    "\n",
    "    model.fit(dataset)\n",
    "    recos = model.recommend(\n",
    "        users=TEST_USERS,\n",
    "        dataset=dataset,\n",
    "        k=10,\n",
    "        filter_viewed=True,\n",
    "    )\n",
    "\n",
    "    map10 = calc_metrics(metrics, recos, test, train)['MAP@10']\n",
    "    return map10"
   ]
  },
  {
   "cell_type": "code",
   "execution_count": null,
   "metadata": {},
   "outputs": [],
   "source": [
    "study = optuna.create_study(direction='maximize')\n",
    "study.optimize(ials_objective, n_trials=20)"
   ]
  },
  {
   "cell_type": "code",
   "execution_count": null,
   "metadata": {},
   "outputs": [],
   "source": [
    "print(f'Best MAP@10 value: {study.best_value}')\n",
    "print(f'Best parameters: {study.best_params}')"
   ]
  },
  {
   "cell_type": "code",
   "execution_count": null,
   "metadata": {},
   "outputs": [],
   "source": [
    "# Best MAP@10 value: 0.075254069127234\n",
    "# Best parameters: {'factors': 32, 'regularization': 0.01883534498756549, 'iterations': 5}"
   ]
  },
  {
   "cell_type": "markdown",
   "metadata": {},
   "source": [
    "# Лучшая модель"
   ]
  },
  {
   "cell_type": "code",
   "execution_count": 20,
   "metadata": {},
   "outputs": [],
   "source": [
    "dataset = Dataset.construct(\n",
    "    interactions_df=interactions,\n",
    "    user_features_df=user_features,\n",
    "    cat_user_features=['sex', 'age', 'income'],\n",
    "    item_features_df=item_features,\n",
    "    cat_item_features=['genre', 'content_type', 'countries'],\n",
    ")\n",
    "\n",
    "TEST_USERS = test[Columns.User].unique()"
   ]
  },
  {
   "cell_type": "code",
   "execution_count": 21,
   "metadata": {},
   "outputs": [
    {
     "name": "stderr",
     "output_type": "stream",
     "text": [
      "c:\\Users\\PC\\AppData\\Local\\Programs\\Python\\Python312\\Lib\\site-packages\\implicit\\cpu\\als.py:95: RuntimeWarning: OpenBLAS is configured to use 6 threads. It is highly recommended to disable its internal threadpool by setting the environment variable 'OPENBLAS_NUM_THREADS=1' or by calling 'threadpoolctl.threadpool_limits(1, \"blas\")'. Having OpenBLAS use a threadpool can lead to severe performance issues here.\n",
      "  check_blas_config()\n"
     ]
    }
   ],
   "source": [
    "model = ImplicitALSWrapperModel(\n",
    "    model=AlternatingLeastSquares(\n",
    "        factors=32,\n",
    "        regularization=0.01883534498756549,\n",
    "        iterations=5,\n",
    "        random_state=42,\n",
    "        num_threads=4,\n",
    "        use_gpu=False,\n",
    "    ),\n",
    "    fit_features_together=True,\n",
    ")"
   ]
  },
  {
   "cell_type": "markdown",
   "metadata": {},
   "source": [
    "# Искусственные пользователи"
   ]
  },
  {
   "cell_type": "markdown",
   "metadata": {},
   "source": [
    "Егор - любитель фильмов Квентина Тарантино"
   ]
  },
  {
   "cell_type": "code",
   "execution_count": 22,
   "metadata": {},
   "outputs": [],
   "source": [
    "users = pd.concat(\n",
    "    [\n",
    "        users,\n",
    "        pd.DataFrame([\n",
    "            {\n",
    "                'user_id': 1100000,\n",
    "                'age': 'age_18_24',\n",
    "                'income': 'income_60_90',\n",
    "                'sex': 'М',\n",
    "                'kids_flg': 0,\n",
    "            }\n",
    "        ]),\n",
    "    ],\n",
    "    ignore_index=True,\n",
    ")\n"
   ]
  },
  {
   "cell_type": "code",
   "execution_count": 23,
   "metadata": {},
   "outputs": [
    {
     "data": {
      "text/plain": [
       "user_id          1100000\n",
       "age            age_18_24\n",
       "income      income_60_90\n",
       "sex                    М\n",
       "kids_flg               0\n",
       "Name: 586668, dtype: object"
      ]
     },
     "execution_count": 23,
     "metadata": {},
     "output_type": "execute_result"
    }
   ],
   "source": [
    "users.iloc[-1]"
   ]
  },
  {
   "cell_type": "code",
   "execution_count": 24,
   "metadata": {},
   "outputs": [
    {
     "data": {
      "text/html": [
       "<div>\n",
       "<style scoped>\n",
       "    .dataframe tbody tr th:only-of-type {\n",
       "        vertical-align: middle;\n",
       "    }\n",
       "\n",
       "    .dataframe tbody tr th {\n",
       "        vertical-align: top;\n",
       "    }\n",
       "\n",
       "    .dataframe thead th {\n",
       "        text-align: right;\n",
       "    }\n",
       "</style>\n",
       "<table border=\"1\" class=\"dataframe\">\n",
       "  <thead>\n",
       "    <tr style=\"text-align: right;\">\n",
       "      <th></th>\n",
       "      <th>item_id</th>\n",
       "      <th>title</th>\n",
       "      <th>content_type</th>\n",
       "      <th>countries</th>\n",
       "      <th>genre</th>\n",
       "    </tr>\n",
       "  </thead>\n",
       "  <tbody>\n",
       "    <tr>\n",
       "      <th>107</th>\n",
       "      <td>14804</td>\n",
       "      <td>Криминальное чтиво</td>\n",
       "      <td>film</td>\n",
       "      <td>США</td>\n",
       "      <td>[зарубежные, триллеры, криминал, комедии]</td>\n",
       "    </tr>\n",
       "    <tr>\n",
       "      <th>3134</th>\n",
       "      <td>16382</td>\n",
       "      <td>Человек-паук</td>\n",
       "      <td>film</td>\n",
       "      <td>США</td>\n",
       "      <td>[боевики, фантастика, приключения]</td>\n",
       "    </tr>\n",
       "    <tr>\n",
       "      <th>4766</th>\n",
       "      <td>7693</td>\n",
       "      <td>Джанго освобождённый</td>\n",
       "      <td>film</td>\n",
       "      <td>США</td>\n",
       "      <td>[боевики, драмы, вестерн, комедии]</td>\n",
       "    </tr>\n",
       "    <tr>\n",
       "      <th>5806</th>\n",
       "      <td>11115</td>\n",
       "      <td>Бесславные ублюдки</td>\n",
       "      <td>film</td>\n",
       "      <td>Германия, США</td>\n",
       "      <td>[боевики, драмы, военные, комедии]</td>\n",
       "    </tr>\n",
       "    <tr>\n",
       "      <th>6992</th>\n",
       "      <td>898</td>\n",
       "      <td>Большой куш</td>\n",
       "      <td>film</td>\n",
       "      <td>Великобритания, США</td>\n",
       "      <td>[боевики, комедии]</td>\n",
       "    </tr>\n",
       "    <tr>\n",
       "      <th>10425</th>\n",
       "      <td>13715</td>\n",
       "      <td>Стекло</td>\n",
       "      <td>film</td>\n",
       "      <td>США, Китай</td>\n",
       "      <td>[драмы, фантастика, триллеры]</td>\n",
       "    </tr>\n",
       "    <tr>\n",
       "      <th>13803</th>\n",
       "      <td>8148</td>\n",
       "      <td>Бешеные псы</td>\n",
       "      <td>film</td>\n",
       "      <td>США</td>\n",
       "      <td>[драмы, триллеры]</td>\n",
       "    </tr>\n",
       "    <tr>\n",
       "      <th>15625</th>\n",
       "      <td>4072</td>\n",
       "      <td>Человек-паук 3: Враг в отражении</td>\n",
       "      <td>film</td>\n",
       "      <td>США</td>\n",
       "      <td>[боевики, фантастика, приключения]</td>\n",
       "    </tr>\n",
       "  </tbody>\n",
       "</table>\n",
       "</div>"
      ],
      "text/plain": [
       "       item_id                             title content_type  \\\n",
       "107      14804                Криминальное чтиво         film   \n",
       "3134     16382                      Человек-паук         film   \n",
       "4766      7693              Джанго освобождённый         film   \n",
       "5806     11115                Бесславные ублюдки         film   \n",
       "6992       898                       Большой куш         film   \n",
       "10425    13715                            Стекло         film   \n",
       "13803     8148                       Бешеные псы         film   \n",
       "15625     4072  Человек-паук 3: Враг в отражении         film   \n",
       "\n",
       "                 countries                                      genre  \n",
       "107                    США  [зарубежные, триллеры, криминал, комедии]  \n",
       "3134                   США         [боевики, фантастика, приключения]  \n",
       "4766                   США         [боевики, драмы, вестерн, комедии]  \n",
       "5806         Германия, США         [боевики, драмы, военные, комедии]  \n",
       "6992   Великобритания, США                         [боевики, комедии]  \n",
       "10425           США, Китай              [драмы, фантастика, триллеры]  \n",
       "13803                  США                          [драмы, триллеры]  \n",
       "15625                  США         [боевики, фантастика, приключения]  "
      ]
     },
     "execution_count": 24,
     "metadata": {},
     "output_type": "execute_result"
    }
   ],
   "source": [
    "items.loc[\n",
    "    items['item_id'].isin([14804, 7693, 11115, 8148, 16382, 4072, 898, 13715]),\n",
    "    ['item_id', 'title', 'content_type', 'countries', 'genre'],\n",
    "]"
   ]
  },
  {
   "cell_type": "code",
   "execution_count": 25,
   "metadata": {},
   "outputs": [],
   "source": [
    "first_items = [14804, 7693, 11115, 8148, 16382, 4072, 898, 13715]\n",
    "first_num_items = len(first_items)\n",
    "first_avatar = pd.DataFrame({\n",
    "    'user_id': np.full(first_num_items, fill_value=1100000),\n",
    "    'item_id': first_items,\n",
    "    'last_watch_dt': np.full(first_num_items, fill_value='2021-05-29'),\n",
    "    'total_dur': np.full(first_num_items, fill_value=np.nan),\n",
    "    'watched_pct': first_num_items * [100.0],\n",
    "    'weight': [3, 3, 3, 3, 3, 1, 3, 3],\n",
    "})\n",
    "\n",
    "first_avatar[Columns.Datetime] = pd.to_datetime(\n",
    "    first_avatar[Columns.Datetime], format='%Y-%m-%d'\n",
    ")"
   ]
  },
  {
   "cell_type": "code",
   "execution_count": 26,
   "metadata": {},
   "outputs": [],
   "source": [
    "avatars = pd.concat([first_avatar])\n",
    "train = pd.concat([train, avatars], ignore_index=True)"
   ]
  },
  {
   "cell_type": "code",
   "execution_count": 27,
   "metadata": {},
   "outputs": [],
   "source": [
    "# Соберем датасет\n",
    "dataset = Dataset.construct(\n",
    "    interactions_df=train,\n",
    "    user_features_df=user_features,\n",
    "    cat_user_features=['sex', 'age', 'income'],\n",
    "    item_features_df=item_features,\n",
    "    cat_item_features=['genre', 'content_type', 'countries'],\n",
    ")\n",
    "\n",
    "avatars_ids = avatars['user_id'].unique()"
   ]
  },
  {
   "cell_type": "code",
   "execution_count": 28,
   "metadata": {},
   "outputs": [
    {
     "data": {
      "text/plain": [
       "<rectools.models.implicit_als.ImplicitALSWrapperModel at 0x1ecd481bf20>"
      ]
     },
     "execution_count": 28,
     "metadata": {},
     "output_type": "execute_result"
    }
   ],
   "source": [
    "model.fit(dataset)"
   ]
  },
  {
   "cell_type": "code",
   "execution_count": 29,
   "metadata": {},
   "outputs": [],
   "source": [
    "recos = model.recommend(\n",
    "    users=avatars_ids,\n",
    "    dataset=dataset,\n",
    "    k=10,\n",
    "    filter_viewed=True,\n",
    ")"
   ]
  },
  {
   "cell_type": "code",
   "execution_count": 30,
   "metadata": {},
   "outputs": [],
   "source": [
    "recs = recos.merge(\n",
    "    items[['item_id', 'title', 'content_type', 'countries', 'genre']],\n",
    "    on='item_id',\n",
    ").sort_values(['user_id', 'rank'])"
   ]
  },
  {
   "cell_type": "code",
   "execution_count": 31,
   "metadata": {},
   "outputs": [
    {
     "data": {
      "text/html": [
       "<div>\n",
       "<style scoped>\n",
       "    .dataframe tbody tr th:only-of-type {\n",
       "        vertical-align: middle;\n",
       "    }\n",
       "\n",
       "    .dataframe tbody tr th {\n",
       "        vertical-align: top;\n",
       "    }\n",
       "\n",
       "    .dataframe thead th {\n",
       "        text-align: right;\n",
       "    }\n",
       "</style>\n",
       "<table border=\"1\" class=\"dataframe\">\n",
       "  <thead>\n",
       "    <tr style=\"text-align: right;\">\n",
       "      <th></th>\n",
       "      <th>user_id</th>\n",
       "      <th>item_id</th>\n",
       "      <th>score</th>\n",
       "      <th>rank</th>\n",
       "      <th>title</th>\n",
       "      <th>content_type</th>\n",
       "      <th>countries</th>\n",
       "      <th>genre</th>\n",
       "    </tr>\n",
       "  </thead>\n",
       "  <tbody>\n",
       "    <tr>\n",
       "      <th>0</th>\n",
       "      <td>1100000</td>\n",
       "      <td>15297</td>\n",
       "      <td>0.076061</td>\n",
       "      <td>1</td>\n",
       "      <td>Клиника счастья</td>\n",
       "      <td>series</td>\n",
       "      <td>Россия</td>\n",
       "      <td>[драмы, мелодрамы]</td>\n",
       "    </tr>\n",
       "    <tr>\n",
       "      <th>1</th>\n",
       "      <td>1100000</td>\n",
       "      <td>12798</td>\n",
       "      <td>0.037087</td>\n",
       "      <td>2</td>\n",
       "      <td>Игрушки для взрослых</td>\n",
       "      <td>film</td>\n",
       "      <td>США, Китай</td>\n",
       "      <td>[боевики, популярное, триллеры, комедии]</td>\n",
       "    </tr>\n",
       "    <tr>\n",
       "      <th>2</th>\n",
       "      <td>1100000</td>\n",
       "      <td>1287</td>\n",
       "      <td>0.035975</td>\n",
       "      <td>3</td>\n",
       "      <td>Терминатор: Тёмные судьбы</td>\n",
       "      <td>film</td>\n",
       "      <td>США, Китай</td>\n",
       "      <td>[боевики, фантастика, приключения]</td>\n",
       "    </tr>\n",
       "    <tr>\n",
       "      <th>3</th>\n",
       "      <td>1100000</td>\n",
       "      <td>5521</td>\n",
       "      <td>0.035578</td>\n",
       "      <td>4</td>\n",
       "      <td>Трансформеры 4: Эпоха истребления</td>\n",
       "      <td>film</td>\n",
       "      <td>США, Китай</td>\n",
       "      <td>[боевики, фантастика, приключения]</td>\n",
       "    </tr>\n",
       "    <tr>\n",
       "      <th>4</th>\n",
       "      <td>1100000</td>\n",
       "      <td>9728</td>\n",
       "      <td>0.035515</td>\n",
       "      <td>5</td>\n",
       "      <td>Гнев человеческий</td>\n",
       "      <td>film</td>\n",
       "      <td>Великобритания, США</td>\n",
       "      <td>[боевики, триллеры]</td>\n",
       "    </tr>\n",
       "    <tr>\n",
       "      <th>5</th>\n",
       "      <td>1100000</td>\n",
       "      <td>1382</td>\n",
       "      <td>0.035079</td>\n",
       "      <td>6</td>\n",
       "      <td>Удача Логана</td>\n",
       "      <td>film</td>\n",
       "      <td>США, Китай</td>\n",
       "      <td>[боевики, криминал, комедии]</td>\n",
       "    </tr>\n",
       "    <tr>\n",
       "      <th>6</th>\n",
       "      <td>1100000</td>\n",
       "      <td>5869</td>\n",
       "      <td>0.035047</td>\n",
       "      <td>7</td>\n",
       "      <td>Эверест</td>\n",
       "      <td>film</td>\n",
       "      <td>США, Китай</td>\n",
       "      <td>[боевики, драмы, триллеры, приключения]</td>\n",
       "    </tr>\n",
       "    <tr>\n",
       "      <th>7</th>\n",
       "      <td>1100000</td>\n",
       "      <td>7573</td>\n",
       "      <td>0.035018</td>\n",
       "      <td>8</td>\n",
       "      <td>Полтора шпиона</td>\n",
       "      <td>film</td>\n",
       "      <td>США, Китай</td>\n",
       "      <td>[боевики, криминал, комедии]</td>\n",
       "    </tr>\n",
       "    <tr>\n",
       "      <th>8</th>\n",
       "      <td>1100000</td>\n",
       "      <td>3673</td>\n",
       "      <td>0.034021</td>\n",
       "      <td>9</td>\n",
       "      <td>Джейсон Борн</td>\n",
       "      <td>film</td>\n",
       "      <td>США, Китай</td>\n",
       "      <td>[боевики, триллеры]</td>\n",
       "    </tr>\n",
       "    <tr>\n",
       "      <th>9</th>\n",
       "      <td>1100000</td>\n",
       "      <td>7671</td>\n",
       "      <td>0.033983</td>\n",
       "      <td>10</td>\n",
       "      <td>Джон Уик</td>\n",
       "      <td>film</td>\n",
       "      <td>США, Китай</td>\n",
       "      <td>[боевики, триллеры]</td>\n",
       "    </tr>\n",
       "  </tbody>\n",
       "</table>\n",
       "</div>"
      ],
      "text/plain": [
       "   user_id  item_id     score  rank                              title  \\\n",
       "0  1100000    15297  0.076061     1                    Клиника счастья   \n",
       "1  1100000    12798  0.037087     2               Игрушки для взрослых   \n",
       "2  1100000     1287  0.035975     3          Терминатор: Тёмные судьбы   \n",
       "3  1100000     5521  0.035578     4  Трансформеры 4: Эпоха истребления   \n",
       "4  1100000     9728  0.035515     5                  Гнев человеческий   \n",
       "5  1100000     1382  0.035079     6                       Удача Логана   \n",
       "6  1100000     5869  0.035047     7                            Эверест   \n",
       "7  1100000     7573  0.035018     8                     Полтора шпиона   \n",
       "8  1100000     3673  0.034021     9                       Джейсон Борн   \n",
       "9  1100000     7671  0.033983    10                           Джон Уик   \n",
       "\n",
       "  content_type            countries                                     genre  \n",
       "0       series               Россия                        [драмы, мелодрамы]  \n",
       "1         film           США, Китай  [боевики, популярное, триллеры, комедии]  \n",
       "2         film           США, Китай        [боевики, фантастика, приключения]  \n",
       "3         film           США, Китай        [боевики, фантастика, приключения]  \n",
       "4         film  Великобритания, США                       [боевики, триллеры]  \n",
       "5         film           США, Китай              [боевики, криминал, комедии]  \n",
       "6         film           США, Китай   [боевики, драмы, триллеры, приключения]  \n",
       "7         film           США, Китай              [боевики, криминал, комедии]  \n",
       "8         film           США, Китай                       [боевики, триллеры]  \n",
       "9         film           США, Китай                       [боевики, триллеры]  "
      ]
     },
     "execution_count": 31,
     "metadata": {},
     "output_type": "execute_result"
    }
   ],
   "source": [
    "# Рекомендации для пользователя, смотревшего только сериалы\n",
    "recs[recs['user_id'] == avatars_ids[0]]"
   ]
  }
 ],
 "metadata": {
  "kernelspec": {
   "display_name": ".venv",
   "language": "python",
   "name": "python3"
  },
  "language_info": {
   "codemirror_mode": {
    "name": "ipython",
    "version": 3
   },
   "file_extension": ".py",
   "mimetype": "text/x-python",
   "name": "python",
   "nbconvert_exporter": "python",
   "pygments_lexer": "ipython3",
   "version": "3.12.8"
  }
 },
 "nbformat": 4,
 "nbformat_minor": 2
}

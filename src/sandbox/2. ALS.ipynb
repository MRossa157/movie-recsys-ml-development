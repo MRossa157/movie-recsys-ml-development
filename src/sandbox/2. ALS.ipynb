{
 "cells": [
  {
   "cell_type": "code",
   "execution_count": null,
   "metadata": {},
   "outputs": [],
   "source": [
    "import warnings\n",
    "\n",
    "import implicit\n",
    "import numpy as np\n",
    "import pandas as pd\n",
    "from implicit.evaluation import mean_average_precision_at_k\n",
    "from pandas import DataFrame\n",
    "from scipy.sparse import coo_matrix, csr_matrix\n",
    "\n",
    "warnings.filterwarnings(\"ignore\")"
   ]
  },
  {
   "cell_type": "code",
   "execution_count": null,
   "metadata": {},
   "outputs": [],
   "source": [
    "import sys\n",
    "\n",
    "sys.path.append(\"../src\")\n",
    "\n",
    "import constants\n",
    "from utils import MovieEncoder, train_test_split"
   ]
  },
  {
   "cell_type": "markdown",
   "metadata": {},
   "source": [
    "# Read data"
   ]
  },
  {
   "cell_type": "code",
   "execution_count": null,
   "metadata": {},
   "outputs": [],
   "source": [
    "ratings = pd.read_csv(constants.RATINGS_PATH_SANDBOX)\n",
    "movies = pd.read_csv(constants.MOVIE_PATH_SANDBOX)"
   ]
  },
  {
   "cell_type": "markdown",
   "metadata": {},
   "source": [
    "# Data preprocessing"
   ]
  },
  {
   "cell_type": "code",
   "execution_count": null,
   "metadata": {},
   "outputs": [],
   "source": [
    "# In train propouses we will use only 30% of all ratings dataset\n",
    "# rand_userIds = np.random.choice(\n",
    "#     ratings[\"userId\"].unique(),\n",
    "#     size=int(len(ratings[\"userId\"].unique()) * 0.3),\n",
    "#     replace=False,\n",
    "# )\n",
    "\n",
    "# ratings = ratings.loc[ratings[\"userId\"].isin(rand_userIds)]\n",
    "# print(\"There are {} rows of data from {} users\".format(len(ratings), len(rand_userIds)))"
   ]
  },
  {
   "cell_type": "code",
   "execution_count": null,
   "metadata": {},
   "outputs": [],
   "source": [
    "ALL_USERS = ratings[\"userId\"].unique().tolist()\n",
    "ALL_ITEMS = movies[\"movieId\"].unique().tolist()\n",
    "\n",
    "user_ids = dict(list(enumerate(ALL_USERS)))\n",
    "item_ids = dict(list(enumerate(ALL_ITEMS)))\n",
    "\n",
    "user_map = {u: uidx for uidx, u in user_ids.items()}\n",
    "item_map = {i: iidx for iidx, i in item_ids.items()}\n",
    "\n",
    "ratings[\"mapped_user_id\"] = ratings[\"userId\"].map(user_map)\n",
    "ratings[\"mapped_movie_id\"] = ratings[\"movieId\"].map(item_map)"
   ]
  },
  {
   "cell_type": "markdown",
   "metadata": {},
   "source": [
    "### Train-test split"
   ]
  },
  {
   "cell_type": "code",
   "execution_count": null,
   "metadata": {},
   "outputs": [],
   "source": [
    "train_ratings, test_ratings = train_test_split(ratings)"
   ]
  },
  {
   "cell_type": "markdown",
   "metadata": {},
   "source": [
    "### Check that model works ok with data"
   ]
  },
  {
   "cell_type": "code",
   "execution_count": null,
   "metadata": {},
   "outputs": [],
   "source": [
    "row = train_ratings[\"mapped_user_id\"].values\n",
    "col = train_ratings[\"mapped_movie_id\"].values\n",
    "data = np.ones(train_ratings.shape[0])\n",
    "coo_train = coo_matrix((data, (row, col)), shape=(len(ALL_USERS), len(ALL_ITEMS)))\n",
    "coo_train"
   ]
  },
  {
   "cell_type": "code",
   "execution_count": null,
   "metadata": {},
   "outputs": [],
   "source": [
    "model = implicit.als.AlternatingLeastSquares(factors=10, iterations=2)\n",
    "model.fit(coo_train)"
   ]
  },
  {
   "cell_type": "markdown",
   "metadata": {},
   "source": [
    "# Validation"
   ]
  },
  {
   "cell_type": "markdown",
   "metadata": {},
   "source": [
    "### Functions required for validation"
   ]
  },
  {
   "cell_type": "code",
   "execution_count": null,
   "metadata": {},
   "outputs": [],
   "source": [
    "def to_user_item_coo(df: DataFrame):\n",
    "    \"\"\"Turn a dataframe with transactions into a COO sparse items x users matrix\"\"\"\n",
    "    row = df[\"mapped_user_id\"].values\n",
    "    col = df[\"mapped_movie_id\"].values\n",
    "    data = np.ones(df.shape[0])\n",
    "    coo = coo_matrix((data, (row, col)))\n",
    "    return coo"
   ]
  },
  {
   "cell_type": "markdown",
   "metadata": {},
   "source": [
    "*The code for hyperparameter selection used to be here*\n",
    "\n",
    "It's now in src/grid_search_ALS_hyperparams.py"
   ]
  },
  {
   "cell_type": "code",
   "execution_count": null,
   "metadata": {},
   "outputs": [],
   "source": [
    "best_params = {\"factors\": 100, \"iterations\": 12, \"regularization\": 0}"
   ]
  },
  {
   "cell_type": "markdown",
   "metadata": {},
   "source": [
    "# Training over the full dataset"
   ]
  },
  {
   "cell_type": "code",
   "execution_count": null,
   "metadata": {},
   "outputs": [],
   "source": [
    "coo_train = to_user_item_coo(train_ratings)\n",
    "csr_train = coo_train.tocsr()\n",
    "\n",
    "coo_test = to_user_item_coo(test_ratings)\n",
    "csr_test = coo_test.tocsr()"
   ]
  },
  {
   "cell_type": "code",
   "execution_count": null,
   "metadata": {},
   "outputs": [],
   "source": [
    "def train(\n",
    "    coo_train, factors=200, iterations=15, regularization=0.01, show_progress=True\n",
    "):\n",
    "    model = implicit.cpu.als.AlternatingLeastSquares(\n",
    "        factors=factors,\n",
    "        iterations=iterations,\n",
    "        regularization=regularization,\n",
    "        random_state=42,\n",
    "    )\n",
    "    model.fit(coo_train, show_progress=show_progress)\n",
    "    return model"
   ]
  },
  {
   "cell_type": "code",
   "execution_count": null,
   "metadata": {},
   "outputs": [],
   "source": [
    "model = train(csr_train, **best_params)"
   ]
  },
  {
   "cell_type": "markdown",
   "metadata": {},
   "source": [
    "---DEBUG ZONE---"
   ]
  },
  {
   "cell_type": "code",
   "execution_count": null,
   "metadata": {},
   "outputs": [],
   "source": [
    "import os\n",
    "\n",
    "if not os.path.exists(r\"weights\"):\n",
    "    os.makedirs(r\"weights\")\n",
    "\n",
    "model.save(r\"weights/als.npz\")"
   ]
  },
  {
   "cell_type": "code",
   "execution_count": null,
   "metadata": {},
   "outputs": [],
   "source": [
    "model = implicit.cpu.als.AlternatingLeastSquares.load(r\"../src/weights/als.npz\")"
   ]
  },
  {
   "cell_type": "markdown",
   "metadata": {},
   "source": [
    "--- END OF DEBUG ---"
   ]
  },
  {
   "cell_type": "code",
   "execution_count": null,
   "metadata": {},
   "outputs": [],
   "source": [
    "mean_average_precision_at_k(model, csr_train, csr_test, K=6, show_progress=True)\n",
    "# 0.08810264778725628\n"
   ]
  },
  {
   "cell_type": "code",
   "execution_count": null,
   "metadata": {},
   "outputs": [],
   "source": [
    "implicit.evaluation.ndcg_at_k(model, csr_train, csr_test, K=20, show_progress=True)\n",
    "# 0.13433445514353154\n"
   ]
  },
  {
   "cell_type": "markdown",
   "metadata": {},
   "source": [
    "# Debug Zone (смотрим адекватна ли модель или нет)"
   ]
  },
  {
   "cell_type": "code",
   "execution_count": null,
   "metadata": {},
   "outputs": [],
   "source": [
    "# Из списка выше выберем произвольного пользователя и оценим рекоменадцию \"на глаз\"\n",
    "USERID = 8\n",
    "\n",
    "\n",
    "encoder = MovieEncoder(movie_csv_path=constants.MOVIE_PATH_SANDBOX)\n",
    "user_viewed_movie_ids = ratings[ratings[\"userId\"] == USERID][\"movieId\"].values\n",
    "print(f\"Пользователь просмотрел эти фильмы ({len(user_viewed_movie_ids)} шт.):\")\n",
    "for movieId in user_viewed_movie_ids:\n",
    "    print(encoder.to_title(movieId))\n",
    "\n",
    "print()\n",
    "\n",
    "ids, scores = model.recommend(USERID, csr_train[USERID])\n",
    "print(\"Мы рекомендуем ему эти:\")\n",
    "for id, score in zip(ids, scores):\n",
    "    # Этого ID не существует в выборке\n",
    "    if id == 1195:\n",
    "        continue\n",
    "    print(encoder.to_title(id), score)"
   ]
  },
  {
   "cell_type": "code",
   "execution_count": null,
   "metadata": {},
   "outputs": [],
   "source": [
    "model.similar_users(USERID)"
   ]
  }
 ],
 "metadata": {
  "kernelspec": {
   "display_name": "Python 3",
   "language": "python",
   "name": "python3"
  },
  "language_info": {
   "codemirror_mode": {
    "name": "ipython",
    "version": 3
   },
   "file_extension": ".py",
   "mimetype": "text/x-python",
   "name": "python",
   "nbconvert_exporter": "python",
   "pygments_lexer": "ipython3",
   "version": "3.12.2"
  }
 },
 "nbformat": 4,
 "nbformat_minor": 2
}

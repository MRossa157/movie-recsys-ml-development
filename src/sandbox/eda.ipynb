{
 "cells": [
  {
   "cell_type": "markdown",
   "metadata": {
    "id": "UVW-c2ml23_4"
   },
   "source": [
    "# Загрузка библиотек"
   ]
  },
  {
   "cell_type": "code",
   "execution_count": null,
   "metadata": {
    "execution": {
     "iopub.execute_input": "2023-03-31T10:35:08.825036Z",
     "iopub.status.busy": "2023-03-31T10:35:08.824558Z",
     "iopub.status.idle": "2023-03-31T10:35:08.831504Z",
     "shell.execute_reply": "2023-03-31T10:35:08.829965Z",
     "shell.execute_reply.started": "2023-03-31T10:35:08.824999Z"
    },
    "executionInfo": {
     "elapsed": 2580,
     "status": "ok",
     "timestamp": 1680182611284,
     "user": {
      "displayName": "Айдар И",
      "userId": "17862391114143174856"
     },
     "user_tz": -300
    },
    "id": "uDgfLokO0Jvl",
    "trusted": true
   },
   "outputs": [],
   "source": [
    "import pandas as pd\n",
    "import matplotlib.pyplot as plt\n",
    "import seaborn as sns\n",
    "from tqdm.notebook import tqdm\n",
    "import requests\n",
    "import zipfile as zf\n",
    "import os\n",
    "import shutil\n"
   ]
  },
  {
   "cell_type": "markdown",
   "metadata": {
    "id": "849GP6kq3GWA"
   },
   "source": [
    "# Загрузка данных"
   ]
  },
  {
   "cell_type": "code",
   "execution_count": 2,
   "metadata": {},
   "outputs": [],
   "source": [
    "url = 'https://github.com/irsafilo/KION_DATASET/raw/f69775be31fa5779907cf0a92ddedb70037fb5ae/data_original.zip'"
   ]
  },
  {
   "cell_type": "code",
   "execution_count": null,
   "metadata": {},
   "outputs": [],
   "source": [
    "req = requests.get(url, stream=True)\n",
    "\n",
    "with open('kion.zip', 'wb') as fd:\n",
    "    total_size_in_bytes = int(req.headers.get('Content-Length', 0))\n",
    "    progress_bar = tqdm(\n",
    "        desc='kion dataset download',\n",
    "        total=total_size_in_bytes,\n",
    "        unit='iB',\n",
    "        unit_scale=True,\n",
    "    )\n",
    "    for chunk in req.iter_content(chunk_size=2**20):\n",
    "        progress_bar.update(len(chunk))\n",
    "        fd.write(chunk)"
   ]
  },
  {
   "cell_type": "code",
   "execution_count": 7,
   "metadata": {},
   "outputs": [],
   "source": [
    "with zf.ZipFile('kion.zip', 'r') as files:\n",
    "    files.extractall('../datasets/kion')\n",
    "\n",
    "source_dir = '../datasets/kion/data_original'\n",
    "target_dir = '../datasets/kion'\n",
    "\n",
    "for filename in os.listdir(source_dir):\n",
    "    shutil.move(\n",
    "        os.path.join(source_dir, filename), os.path.join(target_dir, filename)\n",
    "    )\n",
    "\n",
    "\n",
    "os.rmdir(source_dir)\n",
    "os.remove('kion.zip')\n"
   ]
  },
  {
   "cell_type": "code",
   "execution_count": 8,
   "metadata": {
    "execution": {
     "iopub.execute_input": "2023-03-31T10:35:13.904140Z",
     "iopub.status.busy": "2023-03-31T10:35:13.903683Z",
     "iopub.status.idle": "2023-03-31T10:35:14.440869Z",
     "shell.execute_reply": "2023-03-31T10:35:14.439055Z",
     "shell.execute_reply.started": "2023-03-31T10:35:13.904099Z"
    },
    "executionInfo": {
     "elapsed": 3702,
     "status": "ok",
     "timestamp": 1680182614981,
     "user": {
      "displayName": "Айдар И",
      "userId": "17862391114143174856"
     },
     "user_tz": -300
    },
    "id": "jIbia31j2vQP",
    "trusted": true
   },
   "outputs": [],
   "source": [
    "users = pd.read_csv('../datasets/kion/users.csv')"
   ]
  },
  {
   "cell_type": "markdown",
   "metadata": {
    "id": "uJsAuZuV3Lrn"
   },
   "source": [
    "В данном файле содержится информация о пользователях:\n",
    "\n",
    "**user_id** - ID пользователя\n",
    "\n",
    "**age** - возрастная группа пользователя, строка вида \"M_N\"\n",
    "* 18_24 - от 18 до 24 лет включительно\n",
    "* 25_34 - от 25 до 34 лет включительно\n",
    "* 35_44 - от 35 до 44 лет включительно\n",
    "* 45_54 - от 45 до 54 лет включительно\n",
    "* 55_64 - от 55 до 64 лет включительно\n",
    "* 65_inf - от 65 и старше\n",
    "\n",
    "**sex** - пол пользователя\n",
    "* М - мужчина\n",
    "* Ж - женщина\n",
    "\n",
    "**income** - доход пользователя, строка вида \"M_N\"\n",
    "* income_0_20\n",
    "* income_20_40\n",
    "* income_40_60\n",
    "* income_60_90  \n",
    "* income_90_150\n",
    "* income_150_inf\n",
    "\n",
    "**kids_flg** - флаг \"наличие ребенка\""
   ]
  },
  {
   "cell_type": "code",
   "execution_count": 9,
   "metadata": {
    "execution": {
     "iopub.execute_input": "2023-03-31T10:35:17.171795Z",
     "iopub.status.busy": "2023-03-31T10:35:17.171359Z",
     "iopub.status.idle": "2023-03-31T10:35:17.764805Z",
     "shell.execute_reply": "2023-03-31T10:35:17.763216Z",
     "shell.execute_reply.started": "2023-03-31T10:35:17.171758Z"
    },
    "executionInfo": {
     "elapsed": 5924,
     "status": "ok",
     "timestamp": 1680182620902,
     "user": {
      "displayName": "Айдар И",
      "userId": "17862391114143174856"
     },
     "user_tz": -300
    },
    "id": "KCK7djZL1Q_r",
    "trusted": true
   },
   "outputs": [],
   "source": [
    "items = pd.read_csv('../datasets/kion/items.csv')"
   ]
  },
  {
   "cell_type": "markdown",
   "metadata": {
    "id": "aOH52Ah93pZn"
   },
   "source": [
    "**item_id** - ID контента \\\n",
    "**content_type**- Тип контента (фильм, сериал) \\\n",
    "**title** - Название на русском \\\n",
    "**title_orig** - Название оригинальное \\\n",
    "**genres** - Жанры из источника (онлайн-кинотеатры) \\\n",
    "**countries** - страны \\\n",
    "**for_kids** - флаг \"контент для детей\" \\\n",
    "**age_rating** - возрастной рейтинг \\\n",
    "**studios** - студии \\\n",
    "**directors** - директора \\\n",
    "**actors** - актеры \\\n",
    "**keywords** - ключевые слова \\\n",
    "**description** - описание"
   ]
  },
  {
   "cell_type": "code",
   "execution_count": 10,
   "metadata": {
    "execution": {
     "iopub.execute_input": "2023-03-31T10:35:19.368362Z",
     "iopub.status.busy": "2023-03-31T10:35:19.367906Z",
     "iopub.status.idle": "2023-03-31T10:35:22.946544Z",
     "shell.execute_reply": "2023-03-31T10:35:22.945120Z",
     "shell.execute_reply.started": "2023-03-31T10:35:19.368325Z"
    },
    "executionInfo": {
     "elapsed": 14066,
     "status": "ok",
     "timestamp": 1680182634964,
     "user": {
      "displayName": "Айдар И",
      "userId": "17862391114143174856"
     },
     "user_tz": -300
    },
    "id": "u1amV2R13hO4",
    "trusted": true
   },
   "outputs": [],
   "source": [
    "interactions = pd.read_csv('../datasets/kion/interactions.csv')"
   ]
  },
  {
   "cell_type": "markdown",
   "metadata": {
    "id": "f9LwQeBD4EMe"
   },
   "source": [
    "**user_id** - ID пользователя \\\n",
    "**item_id** - ID контента \\\n",
    "**last_watch_dt** - Дата последнего просмотра \\\n",
    "**total_dur** - Общая продолжительность всех просмотров данного контента в секундах \\\n",
    "**watched_pct** - сколько % фильма просмотрено"
   ]
  },
  {
   "cell_type": "markdown",
   "metadata": {
    "id": "qz3cuc_L4HIW"
   },
   "source": [
    "# Визуальный анализа данных"
   ]
  },
  {
   "cell_type": "markdown",
   "metadata": {
    "id": "k47SX7gp4I92"
   },
   "source": [
    "## Users/Пользователи"
   ]
  },
  {
   "cell_type": "code",
   "execution_count": null,
   "metadata": {
    "colab": {
     "base_uri": "https://localhost:8080/",
     "height": 424
    },
    "execution": {
     "iopub.execute_input": "2023-03-31T10:35:23.075362Z",
     "iopub.status.busy": "2023-03-31T10:35:23.074357Z",
     "iopub.status.idle": "2023-03-31T10:35:23.098223Z",
     "shell.execute_reply": "2023-03-31T10:35:23.096556Z",
     "shell.execute_reply.started": "2023-03-31T10:35:23.075295Z"
    },
    "executionInfo": {
     "elapsed": 34,
     "status": "ok",
     "timestamp": 1680152316477,
     "user": {
      "displayName": "Айдар И",
      "userId": "17862391114143174856"
     },
     "user_tz": -300
    },
    "id": "9KMhTGV84CUD",
    "outputId": "af872b8a-9b24-4be4-859e-ec8b8317d6b9",
    "trusted": true
   },
   "outputs": [],
   "source": [
    "users"
   ]
  },
  {
   "cell_type": "code",
   "execution_count": null,
   "metadata": {
    "colab": {
     "base_uri": "https://localhost:8080/"
    },
    "execution": {
     "iopub.execute_input": "2023-03-31T09:41:18.695558Z",
     "iopub.status.busy": "2023-03-31T09:41:18.695051Z",
     "iopub.status.idle": "2023-03-31T09:41:18.845270Z",
     "shell.execute_reply": "2023-03-31T09:41:18.844028Z",
     "shell.execute_reply.started": "2023-03-31T09:41:18.695516Z"
    },
    "executionInfo": {
     "elapsed": 22,
     "status": "ok",
     "timestamp": 1680152316478,
     "user": {
      "displayName": "Айдар И",
      "userId": "17862391114143174856"
     },
     "user_tz": -300
    },
    "id": "a4EDv5Bf4LNw",
    "outputId": "0c6785ba-631d-447b-97ea-22d58a714507",
    "trusted": true
   },
   "outputs": [],
   "source": [
    "users.info()"
   ]
  },
  {
   "cell_type": "code",
   "execution_count": null,
   "metadata": {
    "colab": {
     "base_uri": "https://localhost:8080/"
    },
    "execution": {
     "iopub.execute_input": "2023-03-31T09:41:22.656682Z",
     "iopub.status.busy": "2023-03-31T09:41:22.656279Z",
     "iopub.status.idle": "2023-03-31T09:41:22.794001Z",
     "shell.execute_reply": "2023-03-31T09:41:22.792235Z",
     "shell.execute_reply.started": "2023-03-31T09:41:22.656648Z"
    },
    "executionInfo": {
     "elapsed": 589,
     "status": "ok",
     "timestamp": 1680152317049,
     "user": {
      "displayName": "Айдар И",
      "userId": "17862391114143174856"
     },
     "user_tz": -300
    },
    "id": "SxUR5vTj4NAH",
    "outputId": "100f31f2-e9fc-4af7-baa8-f0fd68bb6bbb",
    "trusted": true
   },
   "outputs": [],
   "source": [
    "users.isnull().sum()"
   ]
  },
  {
   "cell_type": "markdown",
   "metadata": {
    "id": "waIQ5jyX4QRG"
   },
   "source": [
    "Есть пропуски, которые в дальнейшем надо будет обработать."
   ]
  },
  {
   "cell_type": "code",
   "execution_count": null,
   "metadata": {
    "colab": {
     "base_uri": "https://localhost:8080/"
    },
    "execution": {
     "iopub.execute_input": "2023-03-31T09:41:24.861728Z",
     "iopub.status.busy": "2023-03-31T09:41:24.861298Z",
     "iopub.status.idle": "2023-03-31T09:41:25.182984Z",
     "shell.execute_reply": "2023-03-31T09:41:25.181597Z",
     "shell.execute_reply.started": "2023-03-31T09:41:24.861688Z"
    },
    "executionInfo": {
     "elapsed": 412,
     "status": "ok",
     "timestamp": 1680152317457,
     "user": {
      "displayName": "Айдар И",
      "userId": "17862391114143174856"
     },
     "user_tz": -300
    },
    "id": "evHcXV51AIMJ",
    "outputId": "75c02874-d371-46d6-d86a-12a303a7434d",
    "trusted": true
   },
   "outputs": [],
   "source": [
    "users.loc[users.age.isna(), 'age'] = 'age_unknown'\n",
    "users.loc[users.income.isna(), 'income'] = 'income_unknown'\n",
    "users.loc[users.sex.isna(), 'sex'] = 'sex_unknown'\n",
    "\n",
    "users.isnull().sum()"
   ]
  },
  {
   "cell_type": "markdown",
   "metadata": {
    "id": "Gc3gkNR_BoYW"
   },
   "source": [
    "Пропусков больше нет. Также изменим некоторые типы данных (данные будут меньше потреблять оперативной памяти)"
   ]
  },
  {
   "cell_type": "code",
   "execution_count": null,
   "metadata": {
    "colab": {
     "base_uri": "https://localhost:8080/"
    },
    "execution": {
     "iopub.execute_input": "2023-03-31T09:41:34.918091Z",
     "iopub.status.busy": "2023-03-31T09:41:34.917591Z",
     "iopub.status.idle": "2023-03-31T09:41:35.221198Z",
     "shell.execute_reply": "2023-03-31T09:41:35.219206Z",
     "shell.execute_reply.started": "2023-03-31T09:41:34.918052Z"
    },
    "executionInfo": {
     "elapsed": 592,
     "status": "ok",
     "timestamp": 1680152318047,
     "user": {
      "displayName": "Айдар И",
      "userId": "17862391114143174856"
     },
     "user_tz": -300
    },
    "id": "ovKji9KiCSVY",
    "outputId": "aa9fee57-3c12-460d-a705-63556c3eed70",
    "trusted": true
   },
   "outputs": [],
   "source": [
    "users['sex'] = users['sex'].astype('category')\n",
    "users['age'] = users['age'].astype('category')\n",
    "users['income'] = users['income'].astype('category')\n",
    "users['kids_flg'] = users['kids_flg'].astype('bool')\n",
    "\n",
    "users.info()"
   ]
  },
  {
   "cell_type": "code",
   "execution_count": null,
   "metadata": {
    "colab": {
     "base_uri": "https://localhost:8080/",
     "height": 425
    },
    "execution": {
     "iopub.execute_input": "2023-03-31T09:41:56.792312Z",
     "iopub.status.busy": "2023-03-31T09:41:56.791802Z",
     "iopub.status.idle": "2023-03-31T09:41:57.506919Z",
     "shell.execute_reply": "2023-03-31T09:41:57.505499Z",
     "shell.execute_reply.started": "2023-03-31T09:41:56.792271Z"
    },
    "executionInfo": {
     "elapsed": 749,
     "status": "ok",
     "timestamp": 1680152318794,
     "user": {
      "displayName": "Айдар И",
      "userId": "17862391114143174856"
     },
     "user_tz": -300
    },
    "id": "gvL4_SyS4PU_",
    "outputId": "da349cce-d5e3-4e09-ba72-abf3c24d1558",
    "trusted": true
   },
   "outputs": [],
   "source": [
    "fig, axes = plt.subplots(nrows=1, ncols=4, sharey=True, figsize=(16, 4))\n",
    "\n",
    "# кол-во пользователей по возрастным группам\n",
    "users.age.value_counts().plot.bar(ax=axes[0])\n",
    "\n",
    "# кол-во пользователей по уровню дохода\n",
    "users.income.value_counts().plot.bar(ax=axes[1])\n",
    "\n",
    "# кол-во пользователей по полу\n",
    "users.sex.value_counts().plot.bar(ax=axes[2])\n",
    "\n",
    "# кол-во пользователей без детей и с детьми\n",
    "users.kids_flg.value_counts().plot.bar(ax=axes[3])\n",
    "\n",
    "plt.show()"
   ]
  },
  {
   "cell_type": "markdown",
   "metadata": {
    "id": "YFh61Rd216Ep"
   },
   "source": [
    "Самая многочисленная аудитория в возрастной категории от 25 до 34 лет, самая малочисленная - от 65 лет и старше.\n",
    "\n",
    "Самая многочисленная аудитория в категории доход от 20 до 40, самая малочисленная - от 150 и более.\n",
    "\n",
    "Распределение по полу пользователей практически одинаково.\n",
    "\n",
    "Бездетных пользователей примерно в 2 раза больше чем пользователей с детьми."
   ]
  },
  {
   "cell_type": "markdown",
   "metadata": {
    "id": "eJ96zJcyFvWz"
   },
   "source": [
    "Проверим, что id пользователей не задублировались."
   ]
  },
  {
   "cell_type": "code",
   "execution_count": null,
   "metadata": {
    "colab": {
     "base_uri": "https://localhost:8080/"
    },
    "execution": {
     "iopub.execute_input": "2023-03-31T09:42:03.536550Z",
     "iopub.status.busy": "2023-03-31T09:42:03.536046Z",
     "iopub.status.idle": "2023-03-31T09:42:03.675795Z",
     "shell.execute_reply": "2023-03-31T09:42:03.674458Z",
     "shell.execute_reply.started": "2023-03-31T09:42:03.536510Z"
    },
    "executionInfo": {
     "elapsed": 24,
     "status": "ok",
     "timestamp": 1680152318795,
     "user": {
      "displayName": "Айдар И",
      "userId": "17862391114143174856"
     },
     "user_tz": -300
    },
    "id": "Jxc0lsHoFueK",
    "outputId": "7375401f-9642-47b4-db34-548495d5c695",
    "trusted": true
   },
   "outputs": [],
   "source": [
    "users.duplicated(subset=['user_id']).sum()"
   ]
  },
  {
   "cell_type": "markdown",
   "metadata": {
    "id": "UuZ3NsD44deH"
   },
   "source": [
    "## Items/Контент"
   ]
  },
  {
   "cell_type": "code",
   "execution_count": null,
   "metadata": {
    "colab": {
     "base_uri": "https://localhost:8080/",
     "height": 652
    },
    "execution": {
     "iopub.execute_input": "2023-03-31T09:42:05.756845Z",
     "iopub.status.busy": "2023-03-31T09:42:05.756400Z",
     "iopub.status.idle": "2023-03-31T09:42:05.782066Z",
     "shell.execute_reply": "2023-03-31T09:42:05.779668Z",
     "shell.execute_reply.started": "2023-03-31T09:42:05.756804Z"
    },
    "executionInfo": {
     "elapsed": 21,
     "status": "ok",
     "timestamp": 1680152318796,
     "user": {
      "displayName": "Айдар И",
      "userId": "17862391114143174856"
     },
     "user_tz": -300
    },
    "id": "8nx4yDqO4WPj",
    "outputId": "15bdbf46-8704-4e08-b1c6-fdcf6c42ba5d",
    "trusted": true
   },
   "outputs": [],
   "source": [
    "items.head()"
   ]
  },
  {
   "cell_type": "code",
   "execution_count": null,
   "metadata": {
    "colab": {
     "base_uri": "https://localhost:8080/"
    },
    "execution": {
     "iopub.execute_input": "2023-03-31T09:42:24.820955Z",
     "iopub.status.busy": "2023-03-31T09:42:24.819338Z",
     "iopub.status.idle": "2023-03-31T09:42:24.851613Z",
     "shell.execute_reply": "2023-03-31T09:42:24.849951Z",
     "shell.execute_reply.started": "2023-03-31T09:42:24.820901Z"
    },
    "executionInfo": {
     "elapsed": 22,
     "status": "ok",
     "timestamp": 1680152318798,
     "user": {
      "displayName": "Айдар И",
      "userId": "17862391114143174856"
     },
     "user_tz": -300
    },
    "id": "V9rYEgNu4fjH",
    "outputId": "ed37a019-7dcd-482d-cb53-a88950142870",
    "trusted": true
   },
   "outputs": [],
   "source": [
    "items.info()"
   ]
  },
  {
   "cell_type": "code",
   "execution_count": null,
   "metadata": {
    "colab": {
     "base_uri": "https://localhost:8080/"
    },
    "execution": {
     "iopub.execute_input": "2023-03-31T09:42:30.925127Z",
     "iopub.status.busy": "2023-03-31T09:42:30.924677Z",
     "iopub.status.idle": "2023-03-31T09:42:31.004267Z",
     "shell.execute_reply": "2023-03-31T09:42:31.002778Z",
     "shell.execute_reply.started": "2023-03-31T09:42:30.925088Z"
    },
    "executionInfo": {
     "elapsed": 19,
     "status": "ok",
     "timestamp": 1680152318798,
     "user": {
      "displayName": "Айдар И",
      "userId": "17862391114143174856"
     },
     "user_tz": -300
    },
    "id": "2zXTHF7Y9v5E",
    "outputId": "1483af30-819c-4af8-e1ef-b03a9ca2eb35",
    "trusted": true
   },
   "outputs": [],
   "source": [
    "items.nunique()"
   ]
  },
  {
   "cell_type": "markdown",
   "metadata": {
    "id": "FRtCQeMpD2QB"
   },
   "source": [
    "### content_type"
   ]
  },
  {
   "cell_type": "code",
   "execution_count": null,
   "metadata": {
    "colab": {
     "base_uri": "https://localhost:8080/",
     "height": 258
    },
    "executionInfo": {
     "elapsed": 734,
     "status": "ok",
     "timestamp": 1680152319517,
     "user": {
      "displayName": "Айдар И",
      "userId": "17862391114143174856"
     },
     "user_tz": -300
    },
    "id": "_HkAqw_F4g54",
    "outputId": "ad0fcdc1-343c-4176-f409-0fae06f24a1a"
   },
   "outputs": [],
   "source": [
    "items.content_type.value_counts().plot.bar(figsize=(2, 2))"
   ]
  },
  {
   "cell_type": "code",
   "execution_count": null,
   "metadata": {
    "colab": {
     "base_uri": "https://localhost:8080/"
    },
    "execution": {
     "iopub.execute_input": "2023-03-31T09:45:50.415378Z",
     "iopub.status.busy": "2023-03-31T09:45:50.414827Z",
     "iopub.status.idle": "2023-03-31T09:45:50.425456Z",
     "shell.execute_reply": "2023-03-31T09:45:50.424009Z",
     "shell.execute_reply.started": "2023-03-31T09:45:50.415334Z"
    },
    "executionInfo": {
     "elapsed": 31,
     "status": "ok",
     "timestamp": 1680152319517,
     "user": {
      "displayName": "Айдар И",
      "userId": "17862391114143174856"
     },
     "user_tz": -300
    },
    "id": "5tiEaOQQEBQ9",
    "outputId": "d9a8df69-5b91-494a-9a0a-ea67d18811d2",
    "trusted": true
   },
   "outputs": [],
   "source": [
    "items.content_type.isna().sum()"
   ]
  },
  {
   "cell_type": "markdown",
   "metadata": {
    "id": "0-xVQLpa6ORR"
   },
   "source": [
    "Основной контент видеосервиса - фильмы. Пропусков нет."
   ]
  },
  {
   "cell_type": "code",
   "execution_count": 23,
   "metadata": {
    "execution": {
     "iopub.execute_input": "2023-03-31T09:45:51.738366Z",
     "iopub.status.busy": "2023-03-31T09:45:51.737905Z",
     "iopub.status.idle": "2023-03-31T09:45:51.749408Z",
     "shell.execute_reply": "2023-03-31T09:45:51.748352Z",
     "shell.execute_reply.started": "2023-03-31T09:45:51.738330Z"
    },
    "id": "zB4Oyul9GK8y",
    "trusted": true
   },
   "outputs": [],
   "source": [
    "items.content_type = items.content_type.astype('category')"
   ]
  },
  {
   "cell_type": "markdown",
   "metadata": {
    "id": "qJQ8u6RVEMRh"
   },
   "source": [
    "### title,\ttitle_orig"
   ]
  },
  {
   "cell_type": "code",
   "execution_count": null,
   "metadata": {
    "colab": {
     "base_uri": "https://localhost:8080/"
    },
    "execution": {
     "iopub.execute_input": "2023-03-31T09:45:52.971506Z",
     "iopub.status.busy": "2023-03-31T09:45:52.970380Z",
     "iopub.status.idle": "2023-03-31T09:45:52.982374Z",
     "shell.execute_reply": "2023-03-31T09:45:52.981144Z",
     "shell.execute_reply.started": "2023-03-31T09:45:52.971434Z"
    },
    "executionInfo": {
     "elapsed": 30,
     "status": "ok",
     "timestamp": 1680152319520,
     "user": {
      "displayName": "Айдар И",
      "userId": "17862391114143174856"
     },
     "user_tz": -300
    },
    "id": "G7W3v1YqEQEG",
    "outputId": "7c6781cb-489d-420f-b1b0-52d5e4678fd0",
    "trusted": true
   },
   "outputs": [],
   "source": [
    "# пропуски?\n",
    "items.title.isna().sum()"
   ]
  },
  {
   "cell_type": "code",
   "execution_count": null,
   "metadata": {
    "colab": {
     "base_uri": "https://localhost:8080/"
    },
    "execution": {
     "iopub.execute_input": "2023-03-31T09:45:56.493137Z",
     "iopub.status.busy": "2023-03-31T09:45:56.492307Z",
     "iopub.status.idle": "2023-03-31T09:45:56.500575Z",
     "shell.execute_reply": "2023-03-31T09:45:56.499624Z",
     "shell.execute_reply.started": "2023-03-31T09:45:56.493093Z"
    },
    "executionInfo": {
     "elapsed": 31,
     "status": "ok",
     "timestamp": 1680152319524,
     "user": {
      "displayName": "Айдар И",
      "userId": "17862391114143174856"
     },
     "user_tz": -300
    },
    "id": "E9Z-awT0EP_P",
    "outputId": "82101e19-95dc-419f-9365-e410f6074fd5",
    "trusted": true
   },
   "outputs": [],
   "source": [
    "# пропуски?\n",
    "items.title_orig.isna().sum()"
   ]
  },
  {
   "cell_type": "markdown",
   "metadata": {
    "id": "eBXTOVwREjJv"
   },
   "source": [
    "Не у всех объектов заполнен признак title_orig, заполним их"
   ]
  },
  {
   "cell_type": "code",
   "execution_count": null,
   "metadata": {
    "colab": {
     "base_uri": "https://localhost:8080/"
    },
    "execution": {
     "iopub.execute_input": "2023-03-31T09:46:07.256129Z",
     "iopub.status.busy": "2023-03-31T09:46:07.255639Z",
     "iopub.status.idle": "2023-03-31T09:46:07.270264Z",
     "shell.execute_reply": "2023-03-31T09:46:07.268849Z",
     "shell.execute_reply.started": "2023-03-31T09:46:07.256091Z"
    },
    "executionInfo": {
     "elapsed": 32,
     "status": "ok",
     "timestamp": 1680152319528,
     "user": {
      "displayName": "Айдар И",
      "userId": "17862391114143174856"
     },
     "user_tz": -300
    },
    "id": "QbMAwST3Er4n",
    "outputId": "c399d7b7-2900-4b5c-dd9e-0e837a1eb852",
    "trusted": true
   },
   "outputs": [],
   "source": [
    "items.loc[items.title_orig.isna(), 'title_orig'] = 'None_title_orig'\n",
    "items.title_orig.isna().sum()"
   ]
  },
  {
   "cell_type": "markdown",
   "metadata": {
    "id": "LYd5sK9NKnpe"
   },
   "source": [
    "Заменим типы данных"
   ]
  },
  {
   "cell_type": "code",
   "execution_count": 27,
   "metadata": {
    "execution": {
     "iopub.execute_input": "2023-03-31T09:46:09.647987Z",
     "iopub.status.busy": "2023-03-31T09:46:09.647516Z",
     "iopub.status.idle": "2023-03-31T09:46:09.698119Z",
     "shell.execute_reply": "2023-03-31T09:46:09.696529Z",
     "shell.execute_reply.started": "2023-03-31T09:46:09.647945Z"
    },
    "id": "I0A2oM5LGbIV",
    "trusted": true
   },
   "outputs": [],
   "source": [
    "items.title = items.title.astype('category')\n",
    "items.title_orig = items.title_orig.astype('category')"
   ]
  },
  {
   "cell_type": "markdown",
   "metadata": {
    "id": "MYDzVZ39KqnN"
   },
   "source": [
    "Так как одно и тоже слово может быть написано текстом разного регистра приведем весь текст к нижнему."
   ]
  },
  {
   "cell_type": "code",
   "execution_count": 28,
   "metadata": {
    "execution": {
     "iopub.execute_input": "2023-03-31T09:46:21.512831Z",
     "iopub.status.busy": "2023-03-31T09:46:21.512362Z",
     "iopub.status.idle": "2023-03-31T09:46:21.534143Z",
     "shell.execute_reply": "2023-03-31T09:46:21.532441Z",
     "shell.execute_reply.started": "2023-03-31T09:46:21.512794Z"
    },
    "id": "Er5XMh90KC15",
    "trusted": true
   },
   "outputs": [],
   "source": [
    "items.title = items.title.str.lower()"
   ]
  },
  {
   "cell_type": "markdown",
   "metadata": {
    "id": "vdUr9bc3F-y6"
   },
   "source": [
    "### release_year"
   ]
  },
  {
   "cell_type": "code",
   "execution_count": null,
   "metadata": {
    "colab": {
     "base_uri": "https://localhost:8080/",
     "height": 346
    },
    "execution": {
     "iopub.execute_input": "2023-03-31T09:46:24.824161Z",
     "iopub.status.busy": "2023-03-31T09:46:24.823646Z",
     "iopub.status.idle": "2023-03-31T09:46:26.467785Z",
     "shell.execute_reply": "2023-03-31T09:46:26.466292Z",
     "shell.execute_reply.started": "2023-03-31T09:46:24.824115Z"
    },
    "executionInfo": {
     "elapsed": 781,
     "status": "ok",
     "timestamp": 1680152320284,
     "user": {
      "displayName": "Айдар И",
      "userId": "17862391114143174856"
     },
     "user_tz": -300
    },
    "id": "8wK9CniWF50G",
    "outputId": "cfc44173-491f-4c59-9614-f0ff5413afc1",
    "trusted": true
   },
   "outputs": [],
   "source": [
    "# кол-во контента по годам выпуска\n",
    "items.release_year.value_counts().sort_index().plot.bar(figsize=(18, 4))"
   ]
  },
  {
   "cell_type": "markdown",
   "metadata": {
    "id": "bkNGluWWIN2u"
   },
   "source": [
    "С каждым годом видеоконтента снимается все больше."
   ]
  },
  {
   "cell_type": "code",
   "execution_count": null,
   "metadata": {
    "colab": {
     "base_uri": "https://localhost:8080/"
    },
    "execution": {
     "iopub.execute_input": "2023-03-31T09:46:37.389680Z",
     "iopub.status.busy": "2023-03-31T09:46:37.389211Z",
     "iopub.status.idle": "2023-03-31T09:46:37.399085Z",
     "shell.execute_reply": "2023-03-31T09:46:37.397457Z",
     "shell.execute_reply.started": "2023-03-31T09:46:37.389639Z"
    },
    "executionInfo": {
     "elapsed": 49,
     "status": "ok",
     "timestamp": 1680152320287,
     "user": {
      "displayName": "Айдар И",
      "userId": "17862391114143174856"
     },
     "user_tz": -300
    },
    "id": "DUHkoIxjEr12",
    "outputId": "a5dea4d2-40a7-4033-b2ce-7aa33cd48428",
    "trusted": true
   },
   "outputs": [],
   "source": [
    "# есть ли пропуски?\n",
    "items.release_year.isna().sum()"
   ]
  },
  {
   "cell_type": "code",
   "execution_count": null,
   "metadata": {
    "colab": {
     "base_uri": "https://localhost:8080/",
     "height": 669
    },
    "execution": {
     "iopub.execute_input": "2023-03-31T09:46:38.499392Z",
     "iopub.status.busy": "2023-03-31T09:46:38.498949Z",
     "iopub.status.idle": "2023-03-31T09:46:38.533683Z",
     "shell.execute_reply": "2023-03-31T09:46:38.532458Z",
     "shell.execute_reply.started": "2023-03-31T09:46:38.499352Z"
    },
    "executionInfo": {
     "elapsed": 53,
     "status": "ok",
     "timestamp": 1680152320298,
     "user": {
      "displayName": "Айдар И",
      "userId": "17862391114143174856"
     },
     "user_tz": -300
    },
    "id": "bGPjEbDAEP8R",
    "outputId": "1379af35-d1e5-46fc-f5bf-80303c16e205",
    "trusted": true
   },
   "outputs": [],
   "source": [
    "# посмотрим на эти объекты\n",
    "items[items.release_year.isna()].head()"
   ]
  },
  {
   "cell_type": "code",
   "execution_count": null,
   "metadata": {
    "colab": {
     "base_uri": "https://localhost:8080/"
    },
    "execution": {
     "iopub.execute_input": "2023-03-31T09:47:02.522190Z",
     "iopub.status.busy": "2023-03-31T09:47:02.520833Z",
     "iopub.status.idle": "2023-03-31T09:47:02.537636Z",
     "shell.execute_reply": "2023-03-31T09:47:02.535712Z",
     "shell.execute_reply.started": "2023-03-31T09:47:02.522131Z"
    },
    "executionInfo": {
     "elapsed": 51,
     "status": "ok",
     "timestamp": 1680152320299,
     "user": {
      "displayName": "Айдар И",
      "userId": "17862391114143174856"
     },
     "user_tz": -300
    },
    "id": "mqybqiB9GxtX",
    "outputId": "944f7282-2720-4d58-abc4-e6522187ee76",
    "trusted": true
   },
   "outputs": [],
   "source": [
    "# заменим\n",
    "items.loc[items.release_year.isna(), 'release_year'] = 'release_year_unknown'\n",
    "items.release_year.isna().sum()"
   ]
  },
  {
   "cell_type": "markdown",
   "metadata": {},
   "source": [
    "Добавляем объединия по десятилетиям (1990-1999, 2000-2009, 2010-2019 ит.д)"
   ]
  },
  {
   "cell_type": "code",
   "execution_count": 33,
   "metadata": {},
   "outputs": [],
   "source": [
    "items['release_year_int'] = pd.to_numeric(items['release_year'], errors='coerce')\n",
    "\n",
    "items['release_decade'] = items['release_year_int'] // 10 * 10\n",
    "items['release_decade'] = items['release_decade'].astype(str) + 's'\n",
    "\n",
    "items['release_decade'] = items['release_decade'].replace(\n",
    "    'nans', 'release_year_unknown'\n",
    ")\n"
   ]
  },
  {
   "cell_type": "code",
   "execution_count": null,
   "metadata": {},
   "outputs": [],
   "source": [
    "items.release_decade.value_counts().sort_index().plot.bar(figsize=(18, 4))"
   ]
  },
  {
   "cell_type": "markdown",
   "metadata": {
    "id": "2jBMjsc1JbZ4"
   },
   "source": [
    "### genres"
   ]
  },
  {
   "cell_type": "code",
   "execution_count": null,
   "metadata": {
    "colab": {
     "base_uri": "https://localhost:8080/"
    },
    "execution": {
     "iopub.execute_input": "2023-03-31T09:47:05.038534Z",
     "iopub.status.busy": "2023-03-31T09:47:05.037764Z",
     "iopub.status.idle": "2023-03-31T09:47:05.051149Z",
     "shell.execute_reply": "2023-03-31T09:47:05.049622Z",
     "shell.execute_reply.started": "2023-03-31T09:47:05.038489Z"
    },
    "executionInfo": {
     "elapsed": 47,
     "status": "ok",
     "timestamp": 1680152320300,
     "user": {
      "displayName": "Айдар И",
      "userId": "17862391114143174856"
     },
     "user_tz": -300
    },
    "id": "0RtxAi7QGxn4",
    "outputId": "2927756d-85ec-4235-f876-0083488d1506",
    "trusted": true
   },
   "outputs": [],
   "source": [
    "items.genres.value_counts()"
   ]
  },
  {
   "cell_type": "code",
   "execution_count": null,
   "metadata": {
    "colab": {
     "base_uri": "https://localhost:8080/"
    },
    "execution": {
     "iopub.execute_input": "2023-03-31T09:47:08.158600Z",
     "iopub.status.busy": "2023-03-31T09:47:08.158154Z",
     "iopub.status.idle": "2023-03-31T09:47:08.168180Z",
     "shell.execute_reply": "2023-03-31T09:47:08.166730Z",
     "shell.execute_reply.started": "2023-03-31T09:47:08.158563Z"
    },
    "executionInfo": {
     "elapsed": 42,
     "status": "ok",
     "timestamp": 1680152320301,
     "user": {
      "displayName": "Айдар И",
      "userId": "17862391114143174856"
     },
     "user_tz": -300
    },
    "id": "8jp6cTzOJa51",
    "outputId": "c80fc5e5-3cbc-4637-d054-4777ce95289e",
    "trusted": true
   },
   "outputs": [],
   "source": [
    "# пропуски?\n",
    "items.genres.isna().sum()"
   ]
  },
  {
   "cell_type": "code",
   "execution_count": 37,
   "metadata": {
    "execution": {
     "iopub.execute_input": "2023-03-31T09:47:09.104996Z",
     "iopub.status.busy": "2023-03-31T09:47:09.104166Z",
     "iopub.status.idle": "2023-03-31T09:47:09.122023Z",
     "shell.execute_reply": "2023-03-31T09:47:09.120578Z",
     "shell.execute_reply.started": "2023-03-31T09:47:09.104953Z"
    },
    "id": "aEvIixIgJa27",
    "trusted": true
   },
   "outputs": [],
   "source": [
    "# приведем текст к нижнему регистру\n",
    "items.genres = items.genres.str.lower()"
   ]
  },
  {
   "cell_type": "code",
   "execution_count": 38,
   "metadata": {
    "execution": {
     "iopub.execute_input": "2023-03-31T09:47:09.692746Z",
     "iopub.status.busy": "2023-03-31T09:47:09.691463Z",
     "iopub.status.idle": "2023-03-31T09:47:09.712906Z",
     "shell.execute_reply": "2023-03-31T09:47:09.711641Z",
     "shell.execute_reply.started": "2023-03-31T09:47:09.692696Z"
    },
    "id": "6X3HCkStMGnv",
    "trusted": true
   },
   "outputs": [],
   "source": [
    "items.genres = items.genres.astype('category')"
   ]
  },
  {
   "cell_type": "markdown",
   "metadata": {
    "id": "1m5FlQMKLUzB"
   },
   "source": [
    "### countries"
   ]
  },
  {
   "cell_type": "code",
   "execution_count": null,
   "metadata": {
    "colab": {
     "base_uri": "https://localhost:8080/",
     "height": 567
    },
    "execution": {
     "iopub.execute_input": "2023-03-31T09:47:13.208792Z",
     "iopub.status.busy": "2023-03-31T09:47:13.208388Z",
     "iopub.status.idle": "2023-03-31T09:47:13.513896Z",
     "shell.execute_reply": "2023-03-31T09:47:13.512438Z",
     "shell.execute_reply.started": "2023-03-31T09:47:13.208756Z"
    },
    "executionInfo": {
     "elapsed": 764,
     "status": "ok",
     "timestamp": 1680152321030,
     "user": {
      "displayName": "Айдар И",
      "userId": "17862391114143174856"
     },
     "user_tz": -300
    },
    "id": "I6IlO-ih4irX",
    "outputId": "f7956977-bb60-4a13-ce52-9ad3d0946599",
    "trusted": true
   },
   "outputs": [],
   "source": [
    "# Top-10 стран по количеству контента в базе\n",
    "items.countries.value_counts().head(10).plot.bar()"
   ]
  },
  {
   "cell_type": "markdown",
   "metadata": {
    "id": "4TUeUyfX6U_N"
   },
   "source": [
    "Самые крупные страны-производители фильмов в данном видеосервисе - это Россия и США."
   ]
  },
  {
   "cell_type": "code",
   "execution_count": 40,
   "metadata": {
    "execution": {
     "iopub.execute_input": "2023-03-31T09:47:17.874325Z",
     "iopub.status.busy": "2023-03-31T09:47:17.873878Z",
     "iopub.status.idle": "2023-03-31T09:47:17.889026Z",
     "shell.execute_reply": "2023-03-31T09:47:17.887354Z",
     "shell.execute_reply.started": "2023-03-31T09:47:17.874286Z"
    },
    "id": "dtGkQltkLfta",
    "trusted": true
   },
   "outputs": [],
   "source": [
    "# приведем к нижнему регистру\n",
    "items.countries = items.countries.str.lower()"
   ]
  },
  {
   "cell_type": "code",
   "execution_count": null,
   "metadata": {
    "colab": {
     "base_uri": "https://localhost:8080/"
    },
    "execution": {
     "iopub.execute_input": "2023-03-31T09:47:18.080428Z",
     "iopub.status.busy": "2023-03-31T09:47:18.079946Z",
     "iopub.status.idle": "2023-03-31T09:47:18.090611Z",
     "shell.execute_reply": "2023-03-31T09:47:18.088996Z",
     "shell.execute_reply.started": "2023-03-31T09:47:18.080387Z"
    },
    "executionInfo": {
     "elapsed": 26,
     "status": "ok",
     "timestamp": 1680152321031,
     "user": {
      "displayName": "Айдар И",
      "userId": "17862391114143174856"
     },
     "user_tz": -300
    },
    "id": "JSQ6KvKmLfo-",
    "outputId": "5b54d318-c7a2-44df-c391-9e0ef7394a4e",
    "trusted": true
   },
   "outputs": [],
   "source": [
    "# пропуски?\n",
    "items.countries.isna().sum()"
   ]
  },
  {
   "cell_type": "code",
   "execution_count": null,
   "metadata": {
    "colab": {
     "base_uri": "https://localhost:8080/"
    },
    "execution": {
     "iopub.execute_input": "2023-03-31T09:47:18.602554Z",
     "iopub.status.busy": "2023-03-31T09:47:18.601097Z",
     "iopub.status.idle": "2023-03-31T09:47:18.614612Z",
     "shell.execute_reply": "2023-03-31T09:47:18.613394Z",
     "shell.execute_reply.started": "2023-03-31T09:47:18.602501Z"
    },
    "executionInfo": {
     "elapsed": 24,
     "status": "ok",
     "timestamp": 1680152321032,
     "user": {
      "displayName": "Айдар И",
      "userId": "17862391114143174856"
     },
     "user_tz": -300
    },
    "id": "qZLI33EnLfle",
    "outputId": "b3bff046-c1ac-473b-a159-c29ac25e6d14",
    "trusted": true
   },
   "outputs": [],
   "source": [
    "items.loc[items.countries.isna(), 'countries'] = 'countries_unknown'\n",
    "items.countries.isna().sum()"
   ]
  },
  {
   "cell_type": "code",
   "execution_count": 43,
   "metadata": {
    "execution": {
     "iopub.execute_input": "2023-03-31T09:47:19.463618Z",
     "iopub.status.busy": "2023-03-31T09:47:19.462464Z",
     "iopub.status.idle": "2023-03-31T09:47:19.477414Z",
     "shell.execute_reply": "2023-03-31T09:47:19.474839Z",
     "shell.execute_reply.started": "2023-03-31T09:47:19.463571Z"
    },
    "id": "V0k_YrE7Lffo",
    "trusted": true
   },
   "outputs": [],
   "source": [
    "items.countries = items.countries.astype('category')"
   ]
  },
  {
   "cell_type": "markdown",
   "metadata": {
    "id": "etDZvU_PMZO6"
   },
   "source": [
    "### for_kids"
   ]
  },
  {
   "cell_type": "code",
   "execution_count": null,
   "metadata": {
    "colab": {
     "base_uri": "https://localhost:8080/"
    },
    "execution": {
     "iopub.execute_input": "2023-03-31T09:47:22.236065Z",
     "iopub.status.busy": "2023-03-31T09:47:22.235636Z",
     "iopub.status.idle": "2023-03-31T09:47:22.244228Z",
     "shell.execute_reply": "2023-03-31T09:47:22.242773Z",
     "shell.execute_reply.started": "2023-03-31T09:47:22.236027Z"
    },
    "executionInfo": {
     "elapsed": 21,
     "status": "ok",
     "timestamp": 1680152321033,
     "user": {
      "displayName": "Айдар И",
      "userId": "17862391114143174856"
     },
     "user_tz": -300
    },
    "id": "KtsMAf57Mt13",
    "outputId": "e8f9da24-c3cf-4ac9-a012-2b3d9029c0de",
    "trusted": true
   },
   "outputs": [],
   "source": [
    "# пропуски\n",
    "items.for_kids.isna().sum()"
   ]
  },
  {
   "cell_type": "markdown",
   "metadata": {},
   "source": [
    "Посмотрим какие возрастные категории обозначены флагом for_kids"
   ]
  },
  {
   "cell_type": "code",
   "execution_count": null,
   "metadata": {
    "execution": {
     "iopub.execute_input": "2023-03-31T09:49:41.901631Z",
     "iopub.status.busy": "2023-03-31T09:49:41.900176Z",
     "iopub.status.idle": "2023-03-31T09:49:41.917435Z",
     "shell.execute_reply": "2023-03-31T09:49:41.915059Z",
     "shell.execute_reply.started": "2023-03-31T09:49:41.901578Z"
    },
    "trusted": true
   },
   "outputs": [],
   "source": [
    "items[items.for_kids == 1][['for_kids', 'age_rating']].value_counts()"
   ]
  },
  {
   "cell_type": "code",
   "execution_count": null,
   "metadata": {
    "execution": {
     "iopub.execute_input": "2023-03-31T09:51:07.045676Z",
     "iopub.status.busy": "2023-03-31T09:51:07.045133Z",
     "iopub.status.idle": "2023-03-31T09:51:07.062574Z",
     "shell.execute_reply": "2023-03-31T09:51:07.060830Z",
     "shell.execute_reply.started": "2023-03-31T09:51:07.045634Z"
    },
    "trusted": true
   },
   "outputs": [],
   "source": [
    "items[items.for_kids == 0][['for_kids', 'age_rating']].value_counts()"
   ]
  },
  {
   "cell_type": "markdown",
   "metadata": {},
   "source": [
    "Было бы логично, что признак установлен для возрастной категории 0+ и 6+. Но есть случаи когда и на 0+ и на 6+ стоит значение 0. \\\n",
    "Очень много пропусков, не будем использовать этот признак."
   ]
  },
  {
   "cell_type": "markdown",
   "metadata": {
    "id": "MtRZLXzsMbs9"
   },
   "source": [
    "### age_rating"
   ]
  },
  {
   "cell_type": "code",
   "execution_count": null,
   "metadata": {
    "colab": {
     "base_uri": "https://localhost:8080/",
     "height": 468
    },
    "execution": {
     "iopub.execute_input": "2023-03-31T10:04:48.232333Z",
     "iopub.status.busy": "2023-03-31T10:04:48.231820Z",
     "iopub.status.idle": "2023-03-31T10:04:48.418100Z",
     "shell.execute_reply": "2023-03-31T10:04:48.416631Z",
     "shell.execute_reply.started": "2023-03-31T10:04:48.232290Z"
    },
    "executionInfo": {
     "elapsed": 487,
     "status": "ok",
     "timestamp": 1680152321506,
     "user": {
      "displayName": "Айдар И",
      "userId": "17862391114143174856"
     },
     "user_tz": -300
    },
    "id": "Mt9IfuQM4kLX",
    "outputId": "d4532040-6720-48dd-c2e5-fad1d1ac628f",
    "trusted": true
   },
   "outputs": [],
   "source": [
    "# Кол-во фильмов по рейтингам\n",
    "items.age_rating.value_counts().plot.bar()"
   ]
  },
  {
   "cell_type": "markdown",
   "metadata": {
    "id": "SLKFFpcB6pVQ"
   },
   "source": [
    "Самый большой выбор контента в категории 16+."
   ]
  },
  {
   "cell_type": "code",
   "execution_count": null,
   "metadata": {
    "colab": {
     "base_uri": "https://localhost:8080/"
    },
    "execution": {
     "iopub.execute_input": "2023-03-31T10:04:53.915723Z",
     "iopub.status.busy": "2023-03-31T10:04:53.915272Z",
     "iopub.status.idle": "2023-03-31T10:04:53.927576Z",
     "shell.execute_reply": "2023-03-31T10:04:53.925702Z",
     "shell.execute_reply.started": "2023-03-31T10:04:53.915683Z"
    },
    "executionInfo": {
     "elapsed": 19,
     "status": "ok",
     "timestamp": 1680152321507,
     "user": {
      "displayName": "Айдар И",
      "userId": "17862391114143174856"
     },
     "user_tz": -300
    },
    "id": "gM6Yk2zoN7VC",
    "outputId": "a3f8025e-80c1-4579-a0f9-415807af9ca1",
    "trusted": true
   },
   "outputs": [],
   "source": [
    "# пропуски?\n",
    "items.age_rating.isna().sum()"
   ]
  },
  {
   "cell_type": "markdown",
   "metadata": {},
   "source": [
    "Всего два пропуска, посмотрим их."
   ]
  },
  {
   "cell_type": "code",
   "execution_count": null,
   "metadata": {
    "execution": {
     "iopub.execute_input": "2023-03-31T10:05:57.512425Z",
     "iopub.status.busy": "2023-03-31T10:05:57.511657Z",
     "iopub.status.idle": "2023-03-31T10:05:57.533705Z",
     "shell.execute_reply": "2023-03-31T10:05:57.532326Z",
     "shell.execute_reply.started": "2023-03-31T10:05:57.512375Z"
    },
    "trusted": true
   },
   "outputs": [],
   "source": [
    "items[items.age_rating.isna()]"
   ]
  },
  {
   "cell_type": "markdown",
   "metadata": {},
   "source": [
    "Это детские мультики 0+"
   ]
  },
  {
   "cell_type": "code",
   "execution_count": null,
   "metadata": {
    "colab": {
     "base_uri": "https://localhost:8080/"
    },
    "execution": {
     "iopub.execute_input": "2023-03-31T10:06:48.022888Z",
     "iopub.status.busy": "2023-03-31T10:06:48.022428Z",
     "iopub.status.idle": "2023-03-31T10:06:48.034518Z",
     "shell.execute_reply": "2023-03-31T10:06:48.032230Z",
     "shell.execute_reply.started": "2023-03-31T10:06:48.022853Z"
    },
    "executionInfo": {
     "elapsed": 16,
     "status": "ok",
     "timestamp": 1680152321507,
     "user": {
      "displayName": "Айдар И",
      "userId": "17862391114143174856"
     },
     "user_tz": -300
    },
    "id": "XV-ZrNajN7LP",
    "outputId": "7277cf15-2844-4fd5-e496-56062049bb06",
    "trusted": true
   },
   "outputs": [],
   "source": [
    "items.loc[items.age_rating.isna(), 'age_rating'] = 0\n",
    "items.age_rating.isna().sum()"
   ]
  },
  {
   "cell_type": "markdown",
   "metadata": {
    "id": "vaKI9PUBNjtj"
   },
   "source": [
    "Данный признак является числовым, переделаем его в категориальный"
   ]
  },
  {
   "cell_type": "code",
   "execution_count": 51,
   "metadata": {
    "execution": {
     "iopub.execute_input": "2023-03-31T10:07:17.870380Z",
     "iopub.status.busy": "2023-03-31T10:07:17.869927Z",
     "iopub.status.idle": "2023-03-31T10:07:17.879807Z",
     "shell.execute_reply": "2023-03-31T10:07:17.878258Z",
     "shell.execute_reply.started": "2023-03-31T10:07:17.870344Z"
    },
    "id": "J9tsnfNHNvgb",
    "trusted": true
   },
   "outputs": [],
   "source": [
    "items.age_rating = items.age_rating.astype('category')"
   ]
  },
  {
   "cell_type": "markdown",
   "metadata": {
    "id": "SeOOV098MeUq"
   },
   "source": [
    "### studios"
   ]
  },
  {
   "cell_type": "code",
   "execution_count": null,
   "metadata": {
    "colab": {
     "base_uri": "https://localhost:8080/",
     "height": 454
    },
    "execution": {
     "iopub.execute_input": "2023-03-31T10:07:46.373269Z",
     "iopub.status.busy": "2023-03-31T10:07:46.372816Z",
     "iopub.status.idle": "2023-03-31T10:07:46.893010Z",
     "shell.execute_reply": "2023-03-31T10:07:46.890821Z",
     "shell.execute_reply.started": "2023-03-31T10:07:46.373217Z"
    },
    "executionInfo": {
     "elapsed": 1382,
     "status": "ok",
     "timestamp": 1680152322877,
     "user": {
      "displayName": "Айдар И",
      "userId": "17862391114143174856"
     },
     "user_tz": -300
    },
    "id": "TMEYF6HhOq-C",
    "outputId": "cc442832-7ed9-4c44-9186-15cf12734c07",
    "trusted": true
   },
   "outputs": [],
   "source": [
    "items.studios.value_counts().plot.bar(figsize=(18, 4))"
   ]
  },
  {
   "cell_type": "markdown",
   "metadata": {
    "id": "B8LsO2XaPvPp"
   },
   "source": [
    "Топ-3 - это студии HBO, Ленфильм и Sony Pictures"
   ]
  },
  {
   "cell_type": "code",
   "execution_count": null,
   "metadata": {
    "colab": {
     "base_uri": "https://localhost:8080/"
    },
    "execution": {
     "iopub.execute_input": "2023-03-31T10:07:51.127986Z",
     "iopub.status.busy": "2023-03-31T10:07:51.127583Z",
     "iopub.status.idle": "2023-03-31T10:07:51.137590Z",
     "shell.execute_reply": "2023-03-31T10:07:51.136402Z",
     "shell.execute_reply.started": "2023-03-31T10:07:51.127949Z"
    },
    "executionInfo": {
     "elapsed": 29,
     "status": "ok",
     "timestamp": 1680152322878,
     "user": {
      "displayName": "Айдар И",
      "userId": "17862391114143174856"
     },
     "user_tz": -300
    },
    "id": "7RvSJVQsP7H9",
    "outputId": "b19349a7-70ef-453c-cfaa-3fd32afbce82",
    "trusted": true
   },
   "outputs": [],
   "source": [
    "# пропуски\n",
    "items.studios.isna().sum()"
   ]
  },
  {
   "cell_type": "code",
   "execution_count": null,
   "metadata": {
    "colab": {
     "base_uri": "https://localhost:8080/"
    },
    "execution": {
     "iopub.execute_input": "2023-03-31T10:07:56.513819Z",
     "iopub.status.busy": "2023-03-31T10:07:56.512474Z",
     "iopub.status.idle": "2023-03-31T10:07:56.526230Z",
     "shell.execute_reply": "2023-03-31T10:07:56.524513Z",
     "shell.execute_reply.started": "2023-03-31T10:07:56.513768Z"
    },
    "executionInfo": {
     "elapsed": 24,
     "status": "ok",
     "timestamp": 1680152322880,
     "user": {
      "displayName": "Айдар И",
      "userId": "17862391114143174856"
     },
     "user_tz": -300
    },
    "id": "DwHXIzYUP7Ez",
    "outputId": "25106053-5937-423a-92fb-3c67bf2b920c",
    "trusted": true
   },
   "outputs": [],
   "source": [
    "items.loc[items.studios.isna(), 'studios'] = 'studios_unknown'\n",
    "items.studios.isna().sum()"
   ]
  },
  {
   "cell_type": "code",
   "execution_count": 55,
   "metadata": {
    "execution": {
     "iopub.execute_input": "2023-03-31T10:07:59.742734Z",
     "iopub.status.busy": "2023-03-31T10:07:59.742104Z",
     "iopub.status.idle": "2023-03-31T10:07:59.757935Z",
     "shell.execute_reply": "2023-03-31T10:07:59.755611Z",
     "shell.execute_reply.started": "2023-03-31T10:07:59.742680Z"
    },
    "id": "XmRi4fP8ax61",
    "trusted": true
   },
   "outputs": [],
   "source": [
    "# приведем к нижнему регистру\n",
    "items.studios = items.studios.str.lower()"
   ]
  },
  {
   "cell_type": "code",
   "execution_count": 56,
   "metadata": {
    "execution": {
     "iopub.execute_input": "2023-03-31T10:08:00.042319Z",
     "iopub.status.busy": "2023-03-31T10:08:00.041104Z",
     "iopub.status.idle": "2023-03-31T10:08:00.056344Z",
     "shell.execute_reply": "2023-03-31T10:08:00.054387Z",
     "shell.execute_reply.started": "2023-03-31T10:08:00.042154Z"
    },
    "id": "OfqjdQGeQQVz",
    "trusted": true
   },
   "outputs": [],
   "source": [
    "items.studios = items.studios.astype('category')"
   ]
  },
  {
   "cell_type": "markdown",
   "metadata": {
    "id": "EInbGZ91Mfwp"
   },
   "source": [
    "### directors"
   ]
  },
  {
   "cell_type": "code",
   "execution_count": null,
   "metadata": {
    "colab": {
     "base_uri": "https://localhost:8080/"
    },
    "execution": {
     "iopub.execute_input": "2023-03-31T10:08:03.056134Z",
     "iopub.status.busy": "2023-03-31T10:08:03.055559Z",
     "iopub.status.idle": "2023-03-31T10:08:03.074385Z",
     "shell.execute_reply": "2023-03-31T10:08:03.072754Z",
     "shell.execute_reply.started": "2023-03-31T10:08:03.056090Z"
    },
    "executionInfo": {
     "elapsed": 22,
     "status": "ok",
     "timestamp": 1680152322882,
     "user": {
      "displayName": "Айдар И",
      "userId": "17862391114143174856"
     },
     "user_tz": -300
    },
    "id": "WXEVYdNwOrap",
    "outputId": "4b0ea206-deb2-4e0c-e172-3b86fa0f9775",
    "trusted": true
   },
   "outputs": [],
   "source": [
    "items.directors.value_counts()"
   ]
  },
  {
   "cell_type": "code",
   "execution_count": null,
   "metadata": {
    "colab": {
     "base_uri": "https://localhost:8080/"
    },
    "execution": {
     "iopub.execute_input": "2023-03-31T10:08:09.911598Z",
     "iopub.status.busy": "2023-03-31T10:08:09.911122Z",
     "iopub.status.idle": "2023-03-31T10:08:09.921742Z",
     "shell.execute_reply": "2023-03-31T10:08:09.920406Z",
     "shell.execute_reply.started": "2023-03-31T10:08:09.911557Z"
    },
    "executionInfo": {
     "elapsed": 713,
     "status": "ok",
     "timestamp": 1680152323577,
     "user": {
      "displayName": "Айдар И",
      "userId": "17862391114143174856"
     },
     "user_tz": -300
    },
    "id": "LtYPQnYhRE-t",
    "outputId": "c70286cc-3787-46a8-9cf7-a3b75967f43c",
    "trusted": true
   },
   "outputs": [],
   "source": [
    "items.directors.isna().sum()"
   ]
  },
  {
   "cell_type": "code",
   "execution_count": null,
   "metadata": {
    "colab": {
     "base_uri": "https://localhost:8080/"
    },
    "execution": {
     "iopub.execute_input": "2023-03-31T10:08:13.927824Z",
     "iopub.status.busy": "2023-03-31T10:08:13.926287Z",
     "iopub.status.idle": "2023-03-31T10:08:13.945811Z",
     "shell.execute_reply": "2023-03-31T10:08:13.943734Z",
     "shell.execute_reply.started": "2023-03-31T10:08:13.927762Z"
    },
    "executionInfo": {
     "elapsed": 74,
     "status": "ok",
     "timestamp": 1680152323577,
     "user": {
      "displayName": "Айдар И",
      "userId": "17862391114143174856"
     },
     "user_tz": -300
    },
    "id": "Zw9X-0sVRI9c",
    "outputId": "2443178b-a399-46aa-9694-e6b31c55af62",
    "trusted": true
   },
   "outputs": [],
   "source": [
    "items.directors.fillna('directors_unknown', inplace=True)\n",
    "items.directors.isna().sum()"
   ]
  },
  {
   "cell_type": "code",
   "execution_count": 60,
   "metadata": {
    "execution": {
     "iopub.execute_input": "2023-03-31T10:08:16.556284Z",
     "iopub.status.busy": "2023-03-31T10:08:16.555860Z",
     "iopub.status.idle": "2023-03-31T10:08:16.575421Z",
     "shell.execute_reply": "2023-03-31T10:08:16.573509Z",
     "shell.execute_reply.started": "2023-03-31T10:08:16.556231Z"
    },
    "id": "mq8FruTMa1UD",
    "trusted": true
   },
   "outputs": [],
   "source": [
    "# приведем к нижнему регистру\n",
    "items.directors = items.directors.str.lower()"
   ]
  },
  {
   "cell_type": "code",
   "execution_count": 61,
   "metadata": {
    "execution": {
     "iopub.execute_input": "2023-03-31T10:08:16.818279Z",
     "iopub.status.busy": "2023-03-31T10:08:16.817773Z",
     "iopub.status.idle": "2023-03-31T10:08:16.846524Z",
     "shell.execute_reply": "2023-03-31T10:08:16.845265Z",
     "shell.execute_reply.started": "2023-03-31T10:08:16.818215Z"
    },
    "id": "_DAZ5EpPRWpC",
    "trusted": true
   },
   "outputs": [],
   "source": [
    "items.directors = items.directors.astype('category')"
   ]
  },
  {
   "cell_type": "markdown",
   "metadata": {
    "id": "clxSMqBsMhyn"
   },
   "source": [
    "### actors"
   ]
  },
  {
   "cell_type": "code",
   "execution_count": null,
   "metadata": {
    "execution": {
     "iopub.execute_input": "2023-03-31T10:08:44.340843Z",
     "iopub.status.busy": "2023-03-31T10:08:44.339503Z",
     "iopub.status.idle": "2023-03-31T10:08:44.365799Z",
     "shell.execute_reply": "2023-03-31T10:08:44.364108Z",
     "shell.execute_reply.started": "2023-03-31T10:08:44.340787Z"
    },
    "trusted": true
   },
   "outputs": [],
   "source": [
    "items.actors.value_counts()"
   ]
  },
  {
   "cell_type": "code",
   "execution_count": null,
   "metadata": {
    "colab": {
     "base_uri": "https://localhost:8080/"
    },
    "execution": {
     "iopub.execute_input": "2023-03-31T10:08:58.221191Z",
     "iopub.status.busy": "2023-03-31T10:08:58.220777Z",
     "iopub.status.idle": "2023-03-31T10:08:58.233467Z",
     "shell.execute_reply": "2023-03-31T10:08:58.231699Z",
     "shell.execute_reply.started": "2023-03-31T10:08:58.221155Z"
    },
    "executionInfo": {
     "elapsed": 70,
     "status": "ok",
     "timestamp": 1680152323579,
     "user": {
      "displayName": "Айдар И",
      "userId": "17862391114143174856"
     },
     "user_tz": -300
    },
    "id": "UBwy_8fVOsAT",
    "outputId": "6623cb8c-0ac9-4914-f7bc-bade8098da56",
    "trusted": true
   },
   "outputs": [],
   "source": [
    "items.actors.isna().sum()"
   ]
  },
  {
   "cell_type": "code",
   "execution_count": null,
   "metadata": {
    "colab": {
     "base_uri": "https://localhost:8080/"
    },
    "execution": {
     "iopub.execute_input": "2023-03-31T10:09:02.728475Z",
     "iopub.status.busy": "2023-03-31T10:09:02.727914Z",
     "iopub.status.idle": "2023-03-31T10:09:02.746963Z",
     "shell.execute_reply": "2023-03-31T10:09:02.745715Z",
     "shell.execute_reply.started": "2023-03-31T10:09:02.728429Z"
    },
    "executionInfo": {
     "elapsed": 66,
     "status": "ok",
     "timestamp": 1680152323579,
     "user": {
      "displayName": "Айдар И",
      "userId": "17862391114143174856"
     },
     "user_tz": -300
    },
    "id": "kfvS4AUIakAG",
    "outputId": "8d6b7a31-7955-404e-a0de-8088c1321b0f",
    "trusted": true
   },
   "outputs": [],
   "source": [
    "items.actors.fillna('actors_unknown', inplace=True)\n",
    "items.actors.isna().sum()"
   ]
  },
  {
   "cell_type": "code",
   "execution_count": 65,
   "metadata": {
    "execution": {
     "iopub.execute_input": "2023-03-31T10:09:05.828686Z",
     "iopub.status.busy": "2023-03-31T10:09:05.828159Z",
     "iopub.status.idle": "2023-03-31T10:09:05.855958Z",
     "shell.execute_reply": "2023-03-31T10:09:05.854438Z",
     "shell.execute_reply.started": "2023-03-31T10:09:05.828642Z"
    },
    "id": "frk54bPnarxv",
    "trusted": true
   },
   "outputs": [],
   "source": [
    "# приведем к нижнему регистру\n",
    "items.actors = items.actors.str.lower()"
   ]
  },
  {
   "cell_type": "code",
   "execution_count": 66,
   "metadata": {
    "execution": {
     "iopub.execute_input": "2023-03-31T10:09:05.858939Z",
     "iopub.status.busy": "2023-03-31T10:09:05.858467Z",
     "iopub.status.idle": "2023-03-31T10:09:05.927770Z",
     "shell.execute_reply": "2023-03-31T10:09:05.926070Z",
     "shell.execute_reply.started": "2023-03-31T10:09:05.858890Z"
    },
    "id": "ZJHdjRmdaoKj",
    "trusted": true
   },
   "outputs": [],
   "source": [
    "items.actors = items.actors.astype('category')"
   ]
  },
  {
   "cell_type": "markdown",
   "metadata": {
    "id": "1U2gUsnUMjuB"
   },
   "source": [
    "### description"
   ]
  },
  {
   "cell_type": "code",
   "execution_count": null,
   "metadata": {
    "colab": {
     "base_uri": "https://localhost:8080/"
    },
    "execution": {
     "iopub.execute_input": "2023-03-31T10:09:08.513190Z",
     "iopub.status.busy": "2023-03-31T10:09:08.512621Z",
     "iopub.status.idle": "2023-03-31T10:09:08.525647Z",
     "shell.execute_reply": "2023-03-31T10:09:08.524428Z",
     "shell.execute_reply.started": "2023-03-31T10:09:08.513137Z"
    },
    "executionInfo": {
     "elapsed": 60,
     "status": "ok",
     "timestamp": 1680152323580,
     "user": {
      "displayName": "Айдар И",
      "userId": "17862391114143174856"
     },
     "user_tz": -300
    },
    "id": "i7oklv4wOsjU",
    "outputId": "7fc61b7f-8dba-4bed-908f-7f13badc7aa8",
    "trusted": true
   },
   "outputs": [],
   "source": [
    "items.description"
   ]
  },
  {
   "cell_type": "code",
   "execution_count": null,
   "metadata": {
    "colab": {
     "base_uri": "https://localhost:8080/"
    },
    "execution": {
     "iopub.execute_input": "2023-03-31T10:09:15.877285Z",
     "iopub.status.busy": "2023-03-31T10:09:15.876798Z",
     "iopub.status.idle": "2023-03-31T10:09:15.890550Z",
     "shell.execute_reply": "2023-03-31T10:09:15.888805Z",
     "shell.execute_reply.started": "2023-03-31T10:09:15.877221Z"
    },
    "executionInfo": {
     "elapsed": 56,
     "status": "ok",
     "timestamp": 1680152323581,
     "user": {
      "displayName": "Айдар И",
      "userId": "17862391114143174856"
     },
     "user_tz": -300
    },
    "id": "nLvBbZzHber1",
    "outputId": "abbd21d6-9c96-4a0f-a2da-cb27e8de83e8",
    "trusted": true
   },
   "outputs": [],
   "source": [
    "items.description.isna().sum()"
   ]
  },
  {
   "cell_type": "code",
   "execution_count": null,
   "metadata": {
    "colab": {
     "base_uri": "https://localhost:8080/"
    },
    "execution": {
     "iopub.execute_input": "2023-03-31T10:09:24.276540Z",
     "iopub.status.busy": "2023-03-31T10:09:24.275134Z",
     "iopub.status.idle": "2023-03-31T10:09:24.293474Z",
     "shell.execute_reply": "2023-03-31T10:09:24.292358Z",
     "shell.execute_reply.started": "2023-03-31T10:09:24.276462Z"
    },
    "executionInfo": {
     "elapsed": 52,
     "status": "ok",
     "timestamp": 1680152323581,
     "user": {
      "displayName": "Айдар И",
      "userId": "17862391114143174856"
     },
     "user_tz": -300
    },
    "id": "ozSnp-TfbiuC",
    "outputId": "272b7b5b-1e2d-40f6-9148-7415b6a9ef14",
    "trusted": true
   },
   "outputs": [],
   "source": [
    "items.description.fillna('None_description', inplace=True)\n",
    "items.description.isna().sum()"
   ]
  },
  {
   "cell_type": "markdown",
   "metadata": {
    "id": "Dl4ayUWLMmTO"
   },
   "source": [
    "### keywords"
   ]
  },
  {
   "cell_type": "code",
   "execution_count": null,
   "metadata": {
    "colab": {
     "base_uri": "https://localhost:8080/"
    },
    "execution": {
     "iopub.execute_input": "2023-03-31T10:09:30.933574Z",
     "iopub.status.busy": "2023-03-31T10:09:30.933115Z",
     "iopub.status.idle": "2023-03-31T10:09:30.945590Z",
     "shell.execute_reply": "2023-03-31T10:09:30.943958Z",
     "shell.execute_reply.started": "2023-03-31T10:09:30.933536Z"
    },
    "executionInfo": {
     "elapsed": 48,
     "status": "ok",
     "timestamp": 1680152323581,
     "user": {
      "displayName": "Айдар И",
      "userId": "17862391114143174856"
     },
     "user_tz": -300
    },
    "id": "jeGQ_T8tbsud",
    "outputId": "8b23609f-c471-42dd-8584-4e5757b2273b",
    "trusted": true
   },
   "outputs": [],
   "source": [
    "items.keywords"
   ]
  },
  {
   "cell_type": "code",
   "execution_count": null,
   "metadata": {
    "colab": {
     "base_uri": "https://localhost:8080/"
    },
    "execution": {
     "iopub.execute_input": "2023-03-31T10:09:55.344630Z",
     "iopub.status.busy": "2023-03-31T10:09:55.344176Z",
     "iopub.status.idle": "2023-03-31T10:09:55.356467Z",
     "shell.execute_reply": "2023-03-31T10:09:55.354805Z",
     "shell.execute_reply.started": "2023-03-31T10:09:55.344588Z"
    },
    "executionInfo": {
     "elapsed": 44,
     "status": "ok",
     "timestamp": 1680152323582,
     "user": {
      "displayName": "Айдар И",
      "userId": "17862391114143174856"
     },
     "user_tz": -300
    },
    "id": "SU35mnOAbxyv",
    "outputId": "afb040c4-f885-4ba5-bdff-0a3d60adecfb",
    "trusted": true
   },
   "outputs": [],
   "source": [
    "items.keywords.isna().sum()"
   ]
  },
  {
   "cell_type": "markdown",
   "metadata": {},
   "source": [
    "Тут можно попробовать еще вариант - подобрать ключевые слова из description. Пока заполним None"
   ]
  },
  {
   "cell_type": "code",
   "execution_count": null,
   "metadata": {
    "colab": {
     "base_uri": "https://localhost:8080/"
    },
    "execution": {
     "iopub.execute_input": "2023-03-31T10:10:57.530945Z",
     "iopub.status.busy": "2023-03-31T10:10:57.530460Z",
     "iopub.status.idle": "2023-03-31T10:10:57.547374Z",
     "shell.execute_reply": "2023-03-31T10:10:57.545953Z",
     "shell.execute_reply.started": "2023-03-31T10:10:57.530906Z"
    },
    "executionInfo": {
     "elapsed": 38,
     "status": "ok",
     "timestamp": 1680152323582,
     "user": {
      "displayName": "Айдар И",
      "userId": "17862391114143174856"
     },
     "user_tz": -300
    },
    "id": "8tAs2PYWbxpd",
    "outputId": "fe3dd6d2-22fb-4833-811a-9a22761fadd5",
    "trusted": true
   },
   "outputs": [],
   "source": [
    "items.keywords.fillna('None_keywords', inplace=True)\n",
    "items.keywords.isna().sum()"
   ]
  },
  {
   "cell_type": "markdown",
   "metadata": {
    "id": "qumkVvwLcC7r"
   },
   "source": [
    "### Повторы\n",
    "\n",
    "Посмотрим, есть ли дубликаты."
   ]
  },
  {
   "cell_type": "code",
   "execution_count": null,
   "metadata": {
    "colab": {
     "base_uri": "https://localhost:8080/",
     "height": 93
    },
    "execution": {
     "iopub.execute_input": "2023-03-31T10:10:59.999114Z",
     "iopub.status.busy": "2023-03-31T10:10:59.998595Z",
     "iopub.status.idle": "2023-03-31T10:11:00.020978Z",
     "shell.execute_reply": "2023-03-31T10:11:00.019553Z",
     "shell.execute_reply.started": "2023-03-31T10:10:59.999071Z"
    },
    "executionInfo": {
     "elapsed": 35,
     "status": "ok",
     "timestamp": 1680152323582,
     "user": {
      "displayName": "Айдар И",
      "userId": "17862391114143174856"
     },
     "user_tz": -300
    },
    "id": "eZS8UG1hcwJJ",
    "outputId": "c762ee52-b1f1-45c2-9790-24560348b138",
    "trusted": true
   },
   "outputs": [],
   "source": [
    "# по id фильма\n",
    "items[items.duplicated(subset=['item_id'], keep=False)]"
   ]
  },
  {
   "cell_type": "code",
   "execution_count": null,
   "metadata": {
    "colab": {
     "base_uri": "https://localhost:8080/",
     "height": 384
    },
    "execution": {
     "iopub.execute_input": "2023-03-31T10:11:23.745603Z",
     "iopub.status.busy": "2023-03-31T10:11:23.745059Z",
     "iopub.status.idle": "2023-03-31T10:11:23.789320Z",
     "shell.execute_reply": "2023-03-31T10:11:23.787815Z",
     "shell.execute_reply.started": "2023-03-31T10:11:23.745559Z"
    },
    "executionInfo": {
     "elapsed": 34,
     "status": "ok",
     "timestamp": 1680152323583,
     "user": {
      "displayName": "Айдар И",
      "userId": "17862391114143174856"
     },
     "user_tz": -300
    },
    "id": "EnGPDxxJcGYs",
    "outputId": "6aae6da5-76fa-4169-abec-91b5ef826d6c",
    "trusted": true
   },
   "outputs": [],
   "source": [
    "# по нескольким признакам\n",
    "items[\n",
    "    items.duplicated(\n",
    "        subset=['content_type', 'countries', 'title', 'directors'], keep=False\n",
    "    )\n",
    "]"
   ]
  },
  {
   "cell_type": "code",
   "execution_count": null,
   "metadata": {
    "colab": {
     "base_uri": "https://localhost:8080/",
     "height": 93
    },
    "execution": {
     "iopub.execute_input": "2023-03-31T10:11:28.167104Z",
     "iopub.status.busy": "2023-03-31T10:11:28.166694Z",
     "iopub.status.idle": "2023-03-31T10:11:28.214629Z",
     "shell.execute_reply": "2023-03-31T10:11:28.213118Z",
     "shell.execute_reply.started": "2023-03-31T10:11:28.167069Z"
    },
    "executionInfo": {
     "elapsed": 651,
     "status": "ok",
     "timestamp": 1680152366691,
     "user": {
      "displayName": "Айдар И",
      "userId": "17862391114143174856"
     },
     "user_tz": -300
    },
    "id": "-myhT2HEdUa9",
    "outputId": "8ce0d71f-3ff2-42c1-896b-e7258531eb9d",
    "trusted": true
   },
   "outputs": [],
   "source": [
    "# удалим обнаруженный дубликат\n",
    "items.drop_duplicates(\n",
    "    subset=['content_type', 'countries', 'title', 'directors'], inplace=True\n",
    ")\n",
    "items[\n",
    "    items.duplicated(\n",
    "        subset=['content_type', 'countries', 'title', 'directors'], keep=False\n",
    "    )\n",
    "]"
   ]
  },
  {
   "cell_type": "markdown",
   "metadata": {
    "id": "YaZ1IbKDeYlU"
   },
   "source": [
    "### Итог"
   ]
  },
  {
   "cell_type": "code",
   "execution_count": null,
   "metadata": {
    "colab": {
     "base_uri": "https://localhost:8080/"
    },
    "execution": {
     "iopub.execute_input": "2023-03-31T10:11:31.380362Z",
     "iopub.status.busy": "2023-03-31T10:11:31.379930Z",
     "iopub.status.idle": "2023-03-31T10:11:31.435463Z",
     "shell.execute_reply": "2023-03-31T10:11:31.433726Z",
     "shell.execute_reply.started": "2023-03-31T10:11:31.380325Z"
    },
    "executionInfo": {
     "elapsed": 479,
     "status": "ok",
     "timestamp": 1680152372168,
     "user": {
      "displayName": "Айдар И",
      "userId": "17862391114143174856"
     },
     "user_tz": -300
    },
    "id": "R7-Rl0e-dyQw",
    "outputId": "b1f78c81-6dd2-49a4-d50a-f624334ebe02",
    "trusted": true
   },
   "outputs": [],
   "source": [
    "items.info()"
   ]
  },
  {
   "cell_type": "markdown",
   "metadata": {
    "id": "2lntlLCsfMm4"
   },
   "source": [
    "Пропущенные значения заполнили определнными значениями, при необходимости их можно будет заменить."
   ]
  },
  {
   "cell_type": "markdown",
   "metadata": {
    "id": "xGZpCBlyCcF2"
   },
   "source": [
    "## Interactions/Взаимодействия"
   ]
  },
  {
   "cell_type": "code",
   "execution_count": null,
   "metadata": {
    "colab": {
     "base_uri": "https://localhost:8080/",
     "height": 424
    },
    "execution": {
     "iopub.execute_input": "2023-03-31T10:11:43.028594Z",
     "iopub.status.busy": "2023-03-31T10:11:43.028093Z",
     "iopub.status.idle": "2023-03-31T10:11:43.049414Z",
     "shell.execute_reply": "2023-03-31T10:11:43.047892Z",
     "shell.execute_reply.started": "2023-03-31T10:11:43.028552Z"
    },
    "executionInfo": {
     "elapsed": 809,
     "status": "ok",
     "timestamp": 1680152379933,
     "user": {
      "displayName": "Айдар И",
      "userId": "17862391114143174856"
     },
     "user_tz": -300
    },
    "id": "GSr4BRBj_9DB",
    "outputId": "5818d6a6-8a07-4da6-ce55-9c3357e86e27",
    "trusted": true
   },
   "outputs": [],
   "source": [
    "interactions"
   ]
  },
  {
   "cell_type": "code",
   "execution_count": null,
   "metadata": {
    "colab": {
     "base_uri": "https://localhost:8080/"
    },
    "execution": {
     "iopub.execute_input": "2023-03-31T10:11:48.966077Z",
     "iopub.status.busy": "2023-03-31T10:11:48.965627Z",
     "iopub.status.idle": "2023-03-31T10:11:49.292324Z",
     "shell.execute_reply": "2023-03-31T10:11:49.290738Z",
     "shell.execute_reply.started": "2023-03-31T10:11:48.966038Z"
    },
    "executionInfo": {
     "elapsed": 421,
     "status": "ok",
     "timestamp": 1680152382824,
     "user": {
      "displayName": "Айдар И",
      "userId": "17862391114143174856"
     },
     "user_tz": -300
    },
    "id": "OaFKTjQ6C-10",
    "outputId": "91c2e09b-573c-4248-8687-e838fbac82a6",
    "trusted": true
   },
   "outputs": [],
   "source": [
    "interactions.isnull().sum()"
   ]
  },
  {
   "cell_type": "code",
   "execution_count": null,
   "metadata": {
    "colab": {
     "base_uri": "https://localhost:8080/",
     "height": 482
    },
    "execution": {
     "iopub.execute_input": "2023-03-31T10:12:57.722302Z",
     "iopub.status.busy": "2023-03-31T10:12:57.721803Z",
     "iopub.status.idle": "2023-03-31T10:13:04.379761Z",
     "shell.execute_reply": "2023-03-31T10:13:04.378602Z",
     "shell.execute_reply.started": "2023-03-31T10:12:57.722260Z"
    },
    "executionInfo": {
     "elapsed": 6303,
     "status": "ok",
     "timestamp": 1680153353253,
     "user": {
      "displayName": "Айдар И",
      "userId": "17862391114143174856"
     },
     "user_tz": -300
    },
    "id": "IYhiLGEd1UKc",
    "outputId": "4202c538-db7e-4768-8938-36397f646be6",
    "trusted": true
   },
   "outputs": [],
   "source": [
    "sns.histplot(interactions.watched_pct)"
   ]
  },
  {
   "cell_type": "markdown",
   "metadata": {
    "id": "vH8STp0U6GGT"
   },
   "source": [
    "Большая часть досматривает видео до конца. Также очень много тех, кто перестает смотреть сразу же. И, конечно, есть варианты между ними."
   ]
  },
  {
   "cell_type": "code",
   "execution_count": null,
   "metadata": {
    "colab": {
     "base_uri": "https://localhost:8080/"
    },
    "execution": {
     "iopub.execute_input": "2023-03-31T10:23:38.560284Z",
     "iopub.status.busy": "2023-03-31T10:23:38.559768Z",
     "iopub.status.idle": "2023-03-31T10:23:38.589431Z",
     "shell.execute_reply": "2023-03-31T10:23:38.588105Z",
     "shell.execute_reply.started": "2023-03-31T10:23:38.560227Z"
    },
    "executionInfo": {
     "elapsed": 529,
     "status": "ok",
     "timestamp": 1680153402700,
     "user": {
      "displayName": "Айдар И",
      "userId": "17862391114143174856"
     },
     "user_tz": -300
    },
    "id": "DR8935vf7zje",
    "outputId": "744e79a7-30d5-4cbf-e04a-c2df956cd17d",
    "trusted": true
   },
   "outputs": [],
   "source": [
    "# пропуски заменим нулем\n",
    "interactions.watched_pct.fillna(0, inplace=True)\n",
    "interactions.watched_pct.isna().sum()"
   ]
  },
  {
   "cell_type": "markdown",
   "metadata": {},
   "source": [
    "Как вариант еще. Пропущенные значения watched_pct можно посчиать, так как известно время просмотра, только для этого нужно откуда-то спарсить общую продолжительность фильма."
   ]
  },
  {
   "cell_type": "markdown",
   "metadata": {
    "id": "wU-J0AlO82CQ"
   },
   "source": [
    "### Повторы"
   ]
  },
  {
   "cell_type": "code",
   "execution_count": null,
   "metadata": {
    "colab": {
     "base_uri": "https://localhost:8080/"
    },
    "execution": {
     "iopub.execute_input": "2023-03-31T10:23:43.129581Z",
     "iopub.status.busy": "2023-03-31T10:23:43.128839Z",
     "iopub.status.idle": "2023-03-31T10:23:44.683936Z",
     "shell.execute_reply": "2023-03-31T10:23:44.682371Z",
     "shell.execute_reply.started": "2023-03-31T10:23:43.129536Z"
    },
    "executionInfo": {
     "elapsed": 3578,
     "status": "ok",
     "timestamp": 1680153454514,
     "user": {
      "displayName": "Айдар И",
      "userId": "17862391114143174856"
     },
     "user_tz": -300
    },
    "id": "v8w17uea8vnF",
    "outputId": "bb837e2e-e787-415c-a19c-7aa992a0596f",
    "trusted": true
   },
   "outputs": [],
   "source": [
    "# проверка на дубли\n",
    "interactions.duplicated(subset=['user_id', 'item_id'], keep=False).sum()"
   ]
  },
  {
   "cell_type": "markdown",
   "metadata": {
    "id": "a-l8pOMBf8H8"
   },
   "source": [
    "# Еще немного статистики\n",
    "\n",
    "В users: пользователи + фичи \\\n",
    "В items: объекты + фичи \\\n",
    "В interactions: пользователи + объекты + взаимодействия "
   ]
  },
  {
   "cell_type": "code",
   "execution_count": 82,
   "metadata": {
    "execution": {
     "iopub.execute_input": "2023-03-31T10:16:16.232888Z",
     "iopub.status.busy": "2023-03-31T10:16:16.229419Z",
     "iopub.status.idle": "2023-03-31T10:16:19.502487Z",
     "shell.execute_reply": "2023-03-31T10:16:19.500826Z",
     "shell.execute_reply.started": "2023-03-31T10:16:16.232807Z"
    },
    "id": "araxPOlogeLr",
    "trusted": true
   },
   "outputs": [],
   "source": [
    "# пользователи с фичами и взаимодействиями - это пересечение users & interactions\n",
    "users_features_interactions = list(\n",
    "    set(users.user_id) & set(interactions.user_id.unique())\n",
    ")\n",
    "\n",
    "# пользователи только с фичами - это users минус interactions\n",
    "users_only_features = list(\n",
    "    set(users.user_id) - set(interactions.user_id.unique())\n",
    ")\n",
    "\n",
    "# пользователи только с действиями - это interactions минус users\n",
    "users_only_interactions = list(\n",
    "    set(interactions.user_id.unique()) - set(users.user_id)\n",
    ")\n",
    "\n",
    "# всего пользователей\n",
    "users_total = (\n",
    "    users_features_interactions + users_only_features + users_only_interactions\n",
    ")"
   ]
  },
  {
   "cell_type": "code",
   "execution_count": null,
   "metadata": {
    "colab": {
     "base_uri": "https://localhost:8080/"
    },
    "execution": {
     "iopub.execute_input": "2023-03-31T10:16:19.505316Z",
     "iopub.status.busy": "2023-03-31T10:16:19.504830Z",
     "iopub.status.idle": "2023-03-31T10:16:19.513636Z",
     "shell.execute_reply": "2023-03-31T10:16:19.511943Z",
     "shell.execute_reply.started": "2023-03-31T10:16:19.505278Z"
    },
    "executionInfo": {
     "elapsed": 8,
     "status": "ok",
     "timestamp": 1680156554998,
     "user": {
      "displayName": "Айдар И",
      "userId": "17862391114143174856"
     },
     "user_tz": -300
    },
    "id": "q0absY-uA6Ju",
    "outputId": "eaf732bb-5822-42fc-b739-abcebe89c4b0",
    "trusted": true
   },
   "outputs": [],
   "source": [
    "print(f'Кол-во пользователей всего - {len(users_total)}')\n",
    "print(f'Кол-во пользователей только c фичами - {len(users_only_features)}')\n",
    "print(\n",
    "    f'Кол-во пользователей только c взаимодействиями - {len(users_only_interactions)}'\n",
    ")\n",
    "print(\n",
    "    f'Кол-во пользователей c взаимодействиями и фичами - {len(users_features_interactions)}'\n",
    ")"
   ]
  },
  {
   "cell_type": "code",
   "execution_count": 84,
   "metadata": {
    "execution": {
     "iopub.execute_input": "2023-03-31T10:16:21.493460Z",
     "iopub.status.busy": "2023-03-31T10:16:21.493042Z",
     "iopub.status.idle": "2023-03-31T10:16:21.668243Z",
     "shell.execute_reply": "2023-03-31T10:16:21.667093Z",
     "shell.execute_reply.started": "2023-03-31T10:16:21.493424Z"
    },
    "id": "bHcBtdOkEYmB",
    "trusted": true
   },
   "outputs": [],
   "source": [
    "# объекты с фичами и взаимодействиями - это пересечение  items & interactions\n",
    "items_features_interactions = list(\n",
    "    set(items.item_id) & set(interactions.item_id.unique())\n",
    ")\n",
    "\n",
    "# объекты только с фичами - это items минус interactions\n",
    "items_only_features = list(\n",
    "    set(items.item_id) - set(interactions.item_id.unique())\n",
    ")\n",
    "\n",
    "# объекты только с действиями - это interactions минус items\n",
    "items_only_interactions = list(\n",
    "    set(interactions.item_id.unique()) - set(items.item_id)\n",
    ")\n",
    "\n",
    "# всего пользователей\n",
    "items_total = (\n",
    "    items_features_interactions + items_only_features + items_only_interactions\n",
    ")"
   ]
  },
  {
   "cell_type": "code",
   "execution_count": null,
   "metadata": {
    "colab": {
     "base_uri": "https://localhost:8080/"
    },
    "execution": {
     "iopub.execute_input": "2023-03-31T10:16:21.973098Z",
     "iopub.status.busy": "2023-03-31T10:16:21.971800Z",
     "iopub.status.idle": "2023-03-31T10:16:21.980520Z",
     "shell.execute_reply": "2023-03-31T10:16:21.978934Z",
     "shell.execute_reply.started": "2023-03-31T10:16:21.973051Z"
    },
    "executionInfo": {
     "elapsed": 602,
     "status": "ok",
     "timestamp": 1680156598439,
     "user": {
      "displayName": "Айдар И",
      "userId": "17862391114143174856"
     },
     "user_tz": -300
    },
    "id": "plXRlzBoIQ4j",
    "outputId": "2553e70f-b430-480c-eb7f-b9b9297ac2dc",
    "trusted": true
   },
   "outputs": [],
   "source": [
    "print(f'Кол-во объектов всего - {len(items_total)}')\n",
    "print(f'Кол-во объектов только c фичами - {len(items_only_features)}')\n",
    "print(\n",
    "    f'Кол-во объектов только c взаимодействиями - {len(items_only_interactions)}'\n",
    ")\n",
    "print(\n",
    "    f'Кол-во объектов c взаимодействиями и фичами - {len(items_features_interactions)}'\n",
    ")"
   ]
  },
  {
   "cell_type": "markdown",
   "metadata": {
    "id": "2eu2eGJYKqXn"
   },
   "source": [
    "# Сохранение\n",
    "\n",
    "Сохраним подготовленные данные"
   ]
  },
  {
   "cell_type": "code",
   "execution_count": 86,
   "metadata": {
    "execution": {
     "iopub.execute_input": "2023-03-31T10:23:54.439423Z",
     "iopub.status.busy": "2023-03-31T10:23:54.438951Z",
     "iopub.status.idle": "2023-03-31T10:24:07.266893Z",
     "shell.execute_reply": "2023-03-31T10:24:07.265287Z",
     "shell.execute_reply.started": "2023-03-31T10:23:54.439377Z"
    },
    "id": "8dfXUkcqKtao",
    "trusted": true
   },
   "outputs": [],
   "source": [
    "users.to_csv(r'../datasets/users_processed.csv', index=False)\n",
    "items.drop(columns=['for_kids']).to_csv(\n",
    "    r'../datasets/items_processed.csv',\n",
    "    index=False,\n",
    ")\n",
    "interactions.to_csv(r'../datasets/interactions_processed.csv', index=False)"
   ]
  }
 ],
 "metadata": {
  "colab": {
   "authorship_tag": "ABX9TyMkGD9GeYtCJsUVtq/1mOs2",
   "mount_file_id": "1rjnwKomucl7Hay4gYUJZH1hkECuwBQ5S",
   "provenance": [],
   "toc_visible": true
  },
  "kernelspec": {
   "display_name": ".venv",
   "language": "python",
   "name": "python3"
  },
  "language_info": {
   "codemirror_mode": {
    "name": "ipython",
    "version": 3
   },
   "file_extension": ".py",
   "mimetype": "text/x-python",
   "name": "python",
   "nbconvert_exporter": "python",
   "pygments_lexer": "ipython3",
   "version": "3.9.9"
  }
 },
 "nbformat": 4,
 "nbformat_minor": 4
}

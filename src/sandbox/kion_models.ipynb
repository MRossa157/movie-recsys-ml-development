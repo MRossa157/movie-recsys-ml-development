{
 "cells": [
  {
   "cell_type": "code",
   "execution_count": null,
   "metadata": {},
   "outputs": [],
   "source": [
    "import warnings\n",
    "\n",
    "import numpy as np\n",
    "import optuna\n",
    "import pandas as pd\n",
    "from implicit.als import AlternatingLeastSquares\n",
    "from lightfm import LightFM\n",
    "from rectools import Columns\n",
    "from rectools.dataset import Dataset\n",
    "from rectools.metrics import MAP, Precision, Recall, calc_metrics\n",
    "from rectools.models import (\n",
    "    ImplicitALSWrapperModel,\n",
    "    LightFMWrapperModel,\n",
    "    PopularModel,\n",
    "    RandomModel,\n",
    ")\n",
    "\n",
    "warnings.filterwarnings(action='ignore', category=UserWarning)"
   ]
  },
  {
   "cell_type": "code",
   "execution_count": null,
   "metadata": {},
   "outputs": [],
   "source": [
    "from enum import Enum\n",
    "\n",
    "\n",
    "class ItemsFeatureTopKConfig(int, Enum):\n",
    "    \"\"\"Конфигурация для ограничения количества топовых значений фич.\"\"\"\n",
    "\n",
    "    DIRECTORS_TOP_K = 30\n",
    "    STUDIOS_TOP_K = 15\n"
   ]
  },
  {
   "cell_type": "code",
   "execution_count": null,
   "metadata": {},
   "outputs": [],
   "source": [
    "import os\n",
    "\n",
    "os.environ['OPENBLAS_NUM_THREADS'] = '1'"
   ]
  },
  {
   "cell_type": "code",
   "execution_count": null,
   "metadata": {},
   "outputs": [],
   "source": [
    "interactions = pd.read_csv('interactions_processed.csv')\n",
    "users = pd.read_csv('users_processed.csv')\n",
    "items = pd.read_csv('items_processed.csv')"
   ]
  },
  {
   "cell_type": "markdown",
   "metadata": {},
   "source": [
    "# Обработка данных"
   ]
  },
  {
   "cell_type": "code",
   "execution_count": null,
   "metadata": {},
   "outputs": [],
   "source": [
    "Columns.Datetime = 'last_watch_dt'"
   ]
  },
  {
   "cell_type": "code",
   "execution_count": null,
   "metadata": {},
   "outputs": [],
   "source": [
    "interactions.drop(\n",
    "    interactions[interactions[Columns.Datetime].str.len() != 10].index,\n",
    "    inplace=True,\n",
    ")\n",
    "interactions[Columns.Datetime] = pd.to_datetime(\n",
    "    interactions[Columns.Datetime], format='%Y-%m-%d'\n",
    ")\n",
    "max_date = interactions[Columns.Datetime].max()\n",
    "interactions[Columns.Weight] = np.where(interactions['watched_pct'] > 20, 3, 1)"
   ]
  },
  {
   "cell_type": "code",
   "execution_count": null,
   "metadata": {},
   "outputs": [],
   "source": [
    "# Разделяем на train и test\n",
    "train = interactions[\n",
    "    interactions[Columns.Datetime] < max_date - pd.Timedelta(days=7)\n",
    "].copy()\n",
    "test = interactions[\n",
    "    interactions[Columns.Datetime] >= max_date - pd.Timedelta(days=7)\n",
    "].copy()"
   ]
  },
  {
   "cell_type": "code",
   "execution_count": null,
   "metadata": {},
   "outputs": [],
   "source": [
    "train.drop(train.query('total_dur < 300').index, inplace=True)\n",
    "cold_users = set(test[Columns.User]) - set(train[Columns.User])\n",
    "len(cold_users)"
   ]
  },
  {
   "cell_type": "code",
   "execution_count": null,
   "metadata": {},
   "outputs": [],
   "source": [
    "# Отбрасываем холодных пользователей\n",
    "test.drop(test[test[Columns.User].isin(cold_users)].index, inplace=True)"
   ]
  },
  {
   "cell_type": "markdown",
   "metadata": {},
   "source": [
    "# Подготовка фич"
   ]
  },
  {
   "cell_type": "markdown",
   "metadata": {},
   "source": [
    "## User features"
   ]
  },
  {
   "cell_type": "code",
   "execution_count": null,
   "metadata": {},
   "outputs": [],
   "source": [
    "users"
   ]
  },
  {
   "cell_type": "code",
   "execution_count": null,
   "metadata": {},
   "outputs": [],
   "source": [
    "users = users.loc[users[Columns.User].isin(train[Columns.User])].copy()"
   ]
  },
  {
   "cell_type": "code",
   "execution_count": null,
   "metadata": {},
   "outputs": [],
   "source": [
    "user_features_frames = []\n",
    "for feature in ['sex', 'age', 'income']:\n",
    "    feature_frame = users.reindex(columns=[Columns.User, feature])\n",
    "    feature_frame.columns = ['id', 'value']\n",
    "    feature_frame['feature'] = feature\n",
    "    user_features_frames.append(feature_frame)\n",
    "user_features = pd.concat(user_features_frames)\n",
    "user_features.head()"
   ]
  },
  {
   "cell_type": "markdown",
   "metadata": {},
   "source": [
    "## Item features"
   ]
  },
  {
   "cell_type": "code",
   "execution_count": null,
   "metadata": {},
   "outputs": [],
   "source": [
    "items = items.loc[items[Columns.Item].isin(train[Columns.Item])].copy()"
   ]
  },
  {
   "cell_type": "code",
   "execution_count": null,
   "metadata": {},
   "outputs": [],
   "source": [
    "items['genre'] = (\n",
    "    items['genres'].str.replace(', ', ',', regex=False).str.split(',')\n",
    ")\n",
    "genre_feature = items[[Columns.Item, 'genre']].explode('genre')\n",
    "genre_feature.columns = ['id', 'value']\n",
    "genre_feature['feature'] = 'genre'\n",
    "genre_feature.head()"
   ]
  },
  {
   "cell_type": "code",
   "execution_count": null,
   "metadata": {},
   "outputs": [],
   "source": [
    "content_feature = items.reindex(columns=[Columns.Item, 'content_type'])\n",
    "content_feature.columns = ['id', 'value']\n",
    "content_feature['feature'] = 'content_type'"
   ]
  },
  {
   "cell_type": "code",
   "execution_count": null,
   "metadata": {},
   "outputs": [],
   "source": [
    "countries_feature = items.reindex(columns=[Columns.Item, 'countries'])\n",
    "countries_feature.columns = ['id', 'value']\n",
    "countries_feature['feature'] = 'countries'"
   ]
  },
  {
   "cell_type": "code",
   "execution_count": null,
   "metadata": {},
   "outputs": [],
   "source": [
    "release_decade_feature = items.reindex(columns=[Columns.Item, 'release_decade'])\n",
    "release_decade_feature.columns = ['id', 'value']\n",
    "release_decade_feature['feature'] = 'release_decade'"
   ]
  },
  {
   "cell_type": "code",
   "execution_count": null,
   "metadata": {},
   "outputs": [],
   "source": [
    "release_decade_feature['value'].value_counts()"
   ]
  },
  {
   "cell_type": "code",
   "execution_count": null,
   "metadata": {},
   "outputs": [],
   "source": [
    "age_rating_feature = items.reindex(columns=[Columns.Item, 'age_rating'])\n",
    "age_rating_feature.columns = ['id', 'value']\n",
    "age_rating_feature['feature'] = 'age_rating'"
   ]
  },
  {
   "cell_type": "markdown",
   "metadata": {},
   "source": [
    "Берем только ТОП-K студий, а остальные заменяем на 'other_studio'. 'other_studio' и 'unknown_studio' - **разные** вещи!"
   ]
  },
  {
   "cell_type": "code",
   "execution_count": null,
   "metadata": {},
   "outputs": [],
   "source": [
    "def replace_rare_studios(studio_list):\n",
    "    return [\n",
    "        studio if studio in top_studios else 'other_studio'\n",
    "        for studio in studio_list\n",
    "    ]\n",
    "\n",
    "\n",
    "items['studio'] = items['studios'].str.split(r',\\s*')\n",
    "top_studios = (\n",
    "    items['studio']\n",
    "    .explode()\n",
    "    .value_counts()\n",
    "    .head(ItemsFeatureTopKConfig.STUDIOS_TOP_K)\n",
    "    .index\n",
    ")\n",
    "items['studio'] = items['studio'].apply(replace_rare_studios)"
   ]
  },
  {
   "cell_type": "code",
   "execution_count": null,
   "metadata": {},
   "outputs": [],
   "source": [
    "studios_feature = items[[Columns.Item, 'studio']].explode('studio')\n",
    "studios_feature.columns = ['id', 'value']\n",
    "studios_feature['feature'] = 'studios'"
   ]
  },
  {
   "cell_type": "code",
   "execution_count": null,
   "metadata": {},
   "outputs": [],
   "source": [
    "# Для директоров оставляем топ-30, остальные заменяем на 'other'\n",
    "items['directors'] = (\n",
    "    items['directors'].str.replace(', ', ',', regex=False).str.split(',')\n",
    ")\n",
    "top_directors = (\n",
    "    items['directors']\n",
    "    .explode()\n",
    "    .value_counts()\n",
    "    .head(ItemsFeatureTopKConfig.DIRECTORS_TOP_K)\n",
    "    .index\n",
    ")\n",
    "\n",
    "items['director'] = items['directors'].apply(\n",
    "    lambda x: [d if d in top_directors else 'other_director' for d in x]\n",
    ")"
   ]
  },
  {
   "cell_type": "code",
   "execution_count": null,
   "metadata": {},
   "outputs": [],
   "source": [
    "directors_feature = items[[Columns.Item, 'director']].explode('director')\n",
    "directors_feature.columns = ['id', 'value']\n",
    "directors_feature['feature'] = 'director'\n",
    "directors_feature.head()"
   ]
  },
  {
   "cell_type": "code",
   "execution_count": null,
   "metadata": {},
   "outputs": [],
   "source": [
    "item_features = pd.concat((\n",
    "    genre_feature,\n",
    "    content_feature,\n",
    "    countries_feature,\n",
    "    release_decade_feature,\n",
    "    age_rating_feature,\n",
    "    studios_feature,\n",
    "    directors_feature,\n",
    "))\n"
   ]
  },
  {
   "cell_type": "code",
   "execution_count": null,
   "metadata": {},
   "outputs": [],
   "source": [
    "item_features.info()"
   ]
  },
  {
   "cell_type": "code",
   "execution_count": null,
   "metadata": {},
   "outputs": [],
   "source": [
    "CAT_USER_FEATURES = list(user_features['feature'].unique())\n",
    "CAT_ITEM_FEATURES = list(item_features['feature'].unique())"
   ]
  },
  {
   "cell_type": "code",
   "execution_count": null,
   "metadata": {},
   "outputs": [],
   "source": [
    "CAT_ITEM_FEATURES"
   ]
  },
  {
   "cell_type": "code",
   "execution_count": null,
   "metadata": {},
   "outputs": [],
   "source": [
    "metrics_name = {\n",
    "    'Recall': Recall,\n",
    "    'MAP': MAP,\n",
    "}\n",
    "\n",
    "metrics = {}\n",
    "for metric_name, metric in metrics_name.items():\n",
    "    for k in range(1, 11):\n",
    "        metrics[f'{metric_name}@{k}'] = metric(k=k)"
   ]
  },
  {
   "cell_type": "code",
   "execution_count": null,
   "metadata": {},
   "outputs": [],
   "source": [
    "dataset = Dataset.construct(\n",
    "    interactions_df=train,\n",
    "    user_features_df=user_features,\n",
    "    cat_user_features=CAT_USER_FEATURES,\n",
    "    item_features_df=item_features,\n",
    "    cat_item_features=CAT_ITEM_FEATURES,\n",
    ")\n",
    "\n",
    "TEST_USERS = test[Columns.User].unique()"
   ]
  },
  {
   "cell_type": "markdown",
   "metadata": {},
   "source": [
    "# Подбор гиперпараметров"
   ]
  },
  {
   "cell_type": "markdown",
   "metadata": {},
   "source": [
    "### Подбор гиперпараметров ImplicitALS"
   ]
  },
  {
   "cell_type": "code",
   "execution_count": null,
   "metadata": {},
   "outputs": [],
   "source": [
    "def ials_objective(trial):\n",
    "    factors = trial.suggest_categorical('factors', [4, 8, 16, 32, 64])\n",
    "    regularization = trial.suggest_float('regularization', 0.001, 0.1, log=True)\n",
    "    iterations = trial.suggest_categorical('iterations', [1, 3, 5, 10, 15])\n",
    "\n",
    "    model = ImplicitALSWrapperModel(\n",
    "        model=AlternatingLeastSquares(\n",
    "            factors=factors,\n",
    "            regularization=regularization,\n",
    "            iterations=iterations,\n",
    "            random_state=42,\n",
    "            num_threads=4,\n",
    "            use_gpu=False,\n",
    "        ),\n",
    "        fit_features_together=True,\n",
    "    )\n",
    "\n",
    "    model.fit(dataset)\n",
    "    recos = model.recommend(\n",
    "        users=TEST_USERS,\n",
    "        dataset=dataset,\n",
    "        k=10,\n",
    "        filter_viewed=True,\n",
    "    )\n",
    "\n",
    "    map10 = calc_metrics(metrics, recos, test, train)['MAP@10']\n",
    "    return map10"
   ]
  },
  {
   "cell_type": "code",
   "execution_count": null,
   "metadata": {},
   "outputs": [],
   "source": [
    "study = optuna.create_study(direction='maximize')\n",
    "study.optimize(ials_objective, n_trials=20)"
   ]
  },
  {
   "cell_type": "code",
   "execution_count": null,
   "metadata": {},
   "outputs": [],
   "source": [
    "print(f'Best MAP@10 value: {study.best_value}')\n",
    "print(f'Best parameters: {study.best_params}')"
   ]
  },
  {
   "cell_type": "code",
   "execution_count": null,
   "metadata": {},
   "outputs": [],
   "source": [
    "# Best MAP@10 value: 0.075254069127234\n",
    "# Best parameters: {'factors': 32, 'regularization': 0.01883534498756549, 'iterations': 5}"
   ]
  },
  {
   "cell_type": "markdown",
   "metadata": {},
   "source": [
    "### Подбор гиперпараметров LightFM"
   ]
  },
  {
   "cell_type": "code",
   "execution_count": null,
   "metadata": {},
   "outputs": [],
   "source": [
    "def lfm_objective(trial):\n",
    "    no_components = trial.suggest_categorical(\n",
    "        'no_components', [8, 16, 32, 64, 128]\n",
    "    )\n",
    "    learning_rate = trial.suggest_float('learning_rate', 0.005, 0.05, log=True)\n",
    "    rho = trial.suggest_float('rho', 0.9, 0.99, log=True)\n",
    "    epsilon = trial.suggest_float('epsilon', 1e-6, 1e-5, log=True)\n",
    "\n",
    "    model = LightFMWrapperModel(\n",
    "        LightFM(\n",
    "            no_components=no_components,\n",
    "            learning_rate=learning_rate,\n",
    "            rho=rho,\n",
    "            epsilon=epsilon,\n",
    "            user_alpha=0,\n",
    "            item_alpha=0,\n",
    "            random_state=42,\n",
    "        ),\n",
    "        epochs=1,\n",
    "        num_threads=16,\n",
    "    )\n",
    "    model.fit(dataset)\n",
    "    recos = model.recommend(\n",
    "        users=TEST_USERS,\n",
    "        dataset=dataset,\n",
    "        k=10,\n",
    "        filter_viewed=True,\n",
    "    )\n",
    "\n",
    "    map10 = calc_metrics(metrics, recos, test, train)['MAP@10']\n",
    "    return map10"
   ]
  },
  {
   "cell_type": "code",
   "execution_count": null,
   "metadata": {},
   "outputs": [],
   "source": [
    "study = optuna.create_study(direction='maximize')\n",
    "study.optimize(lfm_objective, n_trials=30)"
   ]
  },
  {
   "cell_type": "markdown",
   "metadata": {},
   "source": [
    "# Лучшая модель"
   ]
  },
  {
   "cell_type": "code",
   "execution_count": null,
   "metadata": {},
   "outputs": [],
   "source": [
    "model = ImplicitALSWrapperModel(\n",
    "    model=AlternatingLeastSquares(\n",
    "        factors=32,\n",
    "        regularization=0.01883534498756549,\n",
    "        iterations=5,\n",
    "        random_state=42,\n",
    "        num_threads=4,\n",
    "        use_gpu=False,\n",
    "    ),\n",
    "    fit_features_together=True,\n",
    ")"
   ]
  },
  {
   "cell_type": "markdown",
   "metadata": {},
   "source": [
    "# Искусственные пользователи"
   ]
  },
  {
   "cell_type": "markdown",
   "metadata": {},
   "source": [
    "Егор - любитель фильмов Квентина Тарантино"
   ]
  },
  {
   "cell_type": "code",
   "execution_count": null,
   "metadata": {},
   "outputs": [],
   "source": [
    "users = pd.concat(\n",
    "    [\n",
    "        users,\n",
    "        pd.DataFrame([\n",
    "            {\n",
    "                'user_id': 1100000,\n",
    "                'age': 'age_18_24',\n",
    "                'income': 'income_60_90',\n",
    "                'sex': 'М',\n",
    "                'kids_flg': 0,\n",
    "            }\n",
    "        ]),\n",
    "    ],\n",
    "    ignore_index=True,\n",
    ")\n"
   ]
  },
  {
   "cell_type": "code",
   "execution_count": null,
   "metadata": {},
   "outputs": [],
   "source": [
    "items.loc[\n",
    "    items['item_id'].isin([14804, 7693, 11115, 8148, 16382, 4072, 898, 13715]),\n",
    "    ['item_id', 'title', *CAT_ITEM_FEATURES],\n",
    "]"
   ]
  },
  {
   "cell_type": "code",
   "execution_count": null,
   "metadata": {},
   "outputs": [],
   "source": [
    "first_items = [14804, 7693, 11115, 8148, 16382, 4072, 898]\n",
    "first_num_items = len(first_items)\n",
    "first_avatar = pd.DataFrame({\n",
    "    'user_id': np.full(first_num_items, fill_value=1100000),\n",
    "    'item_id': first_items,\n",
    "    'last_watch_dt': np.full(first_num_items, fill_value='2021-05-29'),\n",
    "    'total_dur': np.full(first_num_items, fill_value=np.nan),\n",
    "    'watched_pct': first_num_items * [100.0],\n",
    "    'weight': [3, 3, 3, 3, 3, 3, 3],\n",
    "})\n",
    "\n",
    "first_avatar[Columns.Datetime] = pd.to_datetime(\n",
    "    first_avatar[Columns.Datetime], format='%Y-%m-%d'\n",
    ")"
   ]
  },
  {
   "cell_type": "code",
   "execution_count": null,
   "metadata": {},
   "outputs": [],
   "source": [
    "avatars = pd.concat([first_avatar])\n",
    "interactions = pd.concat([interactions, avatars], ignore_index=True)"
   ]
  },
  {
   "cell_type": "code",
   "execution_count": null,
   "metadata": {},
   "outputs": [],
   "source": [
    "# Соберем датасет\n",
    "dataset = Dataset.construct(\n",
    "    interactions_df=interactions,\n",
    "    user_features_df=user_features,\n",
    "    cat_user_features=CAT_USER_FEATURES,\n",
    "    item_features_df=item_features,\n",
    "    cat_item_features=CAT_ITEM_FEATURES,\n",
    ")\n",
    "\n",
    "avatars_ids = avatars['user_id'].unique()"
   ]
  },
  {
   "cell_type": "code",
   "execution_count": null,
   "metadata": {},
   "outputs": [],
   "source": [
    "%%time\n",
    "model.fit(dataset)"
   ]
  },
  {
   "cell_type": "code",
   "execution_count": null,
   "metadata": {},
   "outputs": [],
   "source": [
    "recos = model.recommend(\n",
    "    users=avatars_ids,\n",
    "    dataset=dataset,\n",
    "    k=10,\n",
    "    filter_viewed=True,\n",
    ")"
   ]
  },
  {
   "cell_type": "code",
   "execution_count": null,
   "metadata": {},
   "outputs": [],
   "source": [
    "recs = recos.merge(\n",
    "    items[['item_id', 'title', *CAT_ITEM_FEATURES]],\n",
    "    on='item_id',\n",
    ").sort_values(['user_id', 'rank'])"
   ]
  },
  {
   "cell_type": "code",
   "execution_count": null,
   "metadata": {},
   "outputs": [],
   "source": [
    "recs[recs['user_id'] == avatars_ids[0]]"
   ]
  }
 ],
 "metadata": {
  "kernelspec": {
   "display_name": ".venv",
   "language": "python",
   "name": "python3"
  },
  "language_info": {
   "codemirror_mode": {
    "name": "ipython",
    "version": 3
   },
   "file_extension": ".py",
   "mimetype": "text/x-python",
   "name": "python",
   "nbconvert_exporter": "python",
   "pygments_lexer": "ipython3",
   "version": "3.12.8"
  }
 },
 "nbformat": 4,
 "nbformat_minor": 2
}

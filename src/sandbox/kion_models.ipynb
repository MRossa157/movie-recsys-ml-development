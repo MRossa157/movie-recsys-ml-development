{
 "cells": [
  {
   "cell_type": "code",
   "execution_count": 28,
   "metadata": {},
   "outputs": [],
   "source": [
    "import warnings\n",
    "\n",
    "import numpy as np\n",
    "import optuna\n",
    "import pandas as pd\n",
    "from implicit.als import AlternatingLeastSquares\n",
    "from lightfm import LightFM\n",
    "from rectools import Columns\n",
    "from rectools.dataset import Dataset\n",
    "from rectools.metrics import MAP, Precision, Recall, calc_metrics\n",
    "from rectools.models import (\n",
    "    ImplicitALSWrapperModel,\n",
    "    LightFMWrapperModel,\n",
    "    PopularModel,\n",
    "    RandomModel,\n",
    ")\n",
    "\n",
    "warnings.filterwarnings(action='ignore', category=UserWarning)"
   ]
  },
  {
   "cell_type": "code",
   "execution_count": 29,
   "metadata": {},
   "outputs": [],
   "source": [
    "from enum import Enum\n",
    "\n",
    "\n",
    "class ItemsFeatureTopKConfig(int, Enum):\n",
    "    \"\"\"Конфигурация для ограничения количества топовых значений фич.\"\"\"\n",
    "\n",
    "    DIRECTORS_TOP_K = 30\n",
    "    STUDIOS_TOP_K = 15\n"
   ]
  },
  {
   "cell_type": "code",
   "execution_count": 31,
   "metadata": {},
   "outputs": [],
   "source": [
    "interactions = pd.read_csv('interactions_processed.csv')\n",
    "users = pd.read_csv('users_processed.csv')\n",
    "items = pd.read_csv('items_processed.csv')"
   ]
  },
  {
   "cell_type": "markdown",
   "metadata": {},
   "source": [
    "# Обработка данных"
   ]
  },
  {
   "cell_type": "code",
   "execution_count": 32,
   "metadata": {},
   "outputs": [],
   "source": [
    "Columns.Datetime = 'last_watch_dt'"
   ]
  },
  {
   "cell_type": "code",
   "execution_count": 33,
   "metadata": {},
   "outputs": [],
   "source": [
    "interactions.drop(\n",
    "    interactions[interactions[Columns.Datetime].str.len() != 10].index,\n",
    "    inplace=True,\n",
    ")\n",
    "interactions[Columns.Datetime] = pd.to_datetime(\n",
    "    interactions[Columns.Datetime], format='%Y-%m-%d'\n",
    ")\n",
    "max_date = interactions[Columns.Datetime].max()\n",
    "interactions[Columns.Weight] = np.where(interactions['watched_pct'] > 20, 3, 1)"
   ]
  },
  {
   "cell_type": "code",
   "execution_count": 34,
   "metadata": {},
   "outputs": [],
   "source": [
    "# Разделяем на train и test\n",
    "train = interactions[\n",
    "    interactions[Columns.Datetime] < max_date - pd.Timedelta(days=7)\n",
    "].copy()\n",
    "test = interactions[\n",
    "    interactions[Columns.Datetime] >= max_date - pd.Timedelta(days=7)\n",
    "].copy()"
   ]
  },
  {
   "cell_type": "code",
   "execution_count": 35,
   "metadata": {},
   "outputs": [
    {
     "data": {
      "text/plain": [
       "72930"
      ]
     },
     "execution_count": 35,
     "metadata": {},
     "output_type": "execute_result"
    }
   ],
   "source": [
    "train.drop(train.query('total_dur < 300').index, inplace=True)\n",
    "cold_users = set(test[Columns.User]) - set(train[Columns.User])\n",
    "len(cold_users)"
   ]
  },
  {
   "cell_type": "code",
   "execution_count": 36,
   "metadata": {},
   "outputs": [],
   "source": [
    "# Отбрасываем холодных пользователей\n",
    "test.drop(test[test[Columns.User].isin(cold_users)].index, inplace=True)"
   ]
  },
  {
   "cell_type": "markdown",
   "metadata": {},
   "source": [
    "# Подготовка фич"
   ]
  },
  {
   "cell_type": "markdown",
   "metadata": {},
   "source": [
    "## User features"
   ]
  },
  {
   "cell_type": "code",
   "execution_count": 37,
   "metadata": {},
   "outputs": [
    {
     "data": {
      "text/html": [
       "<div>\n",
       "<style scoped>\n",
       "    .dataframe tbody tr th:only-of-type {\n",
       "        vertical-align: middle;\n",
       "    }\n",
       "\n",
       "    .dataframe tbody tr th {\n",
       "        vertical-align: top;\n",
       "    }\n",
       "\n",
       "    .dataframe thead th {\n",
       "        text-align: right;\n",
       "    }\n",
       "</style>\n",
       "<table border=\"1\" class=\"dataframe\">\n",
       "  <thead>\n",
       "    <tr style=\"text-align: right;\">\n",
       "      <th></th>\n",
       "      <th>user_id</th>\n",
       "      <th>age</th>\n",
       "      <th>income</th>\n",
       "      <th>sex</th>\n",
       "      <th>kids_flg</th>\n",
       "    </tr>\n",
       "  </thead>\n",
       "  <tbody>\n",
       "    <tr>\n",
       "      <th>0</th>\n",
       "      <td>973171</td>\n",
       "      <td>age_25_34</td>\n",
       "      <td>income_60_90</td>\n",
       "      <td>М</td>\n",
       "      <td>True</td>\n",
       "    </tr>\n",
       "    <tr>\n",
       "      <th>1</th>\n",
       "      <td>962099</td>\n",
       "      <td>age_18_24</td>\n",
       "      <td>income_20_40</td>\n",
       "      <td>М</td>\n",
       "      <td>False</td>\n",
       "    </tr>\n",
       "    <tr>\n",
       "      <th>2</th>\n",
       "      <td>1047345</td>\n",
       "      <td>age_45_54</td>\n",
       "      <td>income_40_60</td>\n",
       "      <td>Ж</td>\n",
       "      <td>False</td>\n",
       "    </tr>\n",
       "    <tr>\n",
       "      <th>3</th>\n",
       "      <td>721985</td>\n",
       "      <td>age_45_54</td>\n",
       "      <td>income_20_40</td>\n",
       "      <td>Ж</td>\n",
       "      <td>False</td>\n",
       "    </tr>\n",
       "    <tr>\n",
       "      <th>4</th>\n",
       "      <td>704055</td>\n",
       "      <td>age_35_44</td>\n",
       "      <td>income_60_90</td>\n",
       "      <td>Ж</td>\n",
       "      <td>False</td>\n",
       "    </tr>\n",
       "    <tr>\n",
       "      <th>...</th>\n",
       "      <td>...</td>\n",
       "      <td>...</td>\n",
       "      <td>...</td>\n",
       "      <td>...</td>\n",
       "      <td>...</td>\n",
       "    </tr>\n",
       "    <tr>\n",
       "      <th>840192</th>\n",
       "      <td>339025</td>\n",
       "      <td>age_65_inf</td>\n",
       "      <td>income_0_20</td>\n",
       "      <td>Ж</td>\n",
       "      <td>False</td>\n",
       "    </tr>\n",
       "    <tr>\n",
       "      <th>840193</th>\n",
       "      <td>983617</td>\n",
       "      <td>age_18_24</td>\n",
       "      <td>income_20_40</td>\n",
       "      <td>Ж</td>\n",
       "      <td>True</td>\n",
       "    </tr>\n",
       "    <tr>\n",
       "      <th>840194</th>\n",
       "      <td>251008</td>\n",
       "      <td>age_unknown</td>\n",
       "      <td>income_unknown</td>\n",
       "      <td>sex_unknown</td>\n",
       "      <td>False</td>\n",
       "    </tr>\n",
       "    <tr>\n",
       "      <th>840195</th>\n",
       "      <td>590706</td>\n",
       "      <td>age_unknown</td>\n",
       "      <td>income_unknown</td>\n",
       "      <td>Ж</td>\n",
       "      <td>False</td>\n",
       "    </tr>\n",
       "    <tr>\n",
       "      <th>840196</th>\n",
       "      <td>166555</td>\n",
       "      <td>age_65_inf</td>\n",
       "      <td>income_20_40</td>\n",
       "      <td>Ж</td>\n",
       "      <td>False</td>\n",
       "    </tr>\n",
       "  </tbody>\n",
       "</table>\n",
       "<p>840197 rows × 5 columns</p>\n",
       "</div>"
      ],
      "text/plain": [
       "        user_id          age          income          sex  kids_flg\n",
       "0        973171    age_25_34    income_60_90            М      True\n",
       "1        962099    age_18_24    income_20_40            М     False\n",
       "2       1047345    age_45_54    income_40_60            Ж     False\n",
       "3        721985    age_45_54    income_20_40            Ж     False\n",
       "4        704055    age_35_44    income_60_90            Ж     False\n",
       "...         ...          ...             ...          ...       ...\n",
       "840192   339025   age_65_inf     income_0_20            Ж     False\n",
       "840193   983617    age_18_24    income_20_40            Ж      True\n",
       "840194   251008  age_unknown  income_unknown  sex_unknown     False\n",
       "840195   590706  age_unknown  income_unknown            Ж     False\n",
       "840196   166555   age_65_inf    income_20_40            Ж     False\n",
       "\n",
       "[840197 rows x 5 columns]"
      ]
     },
     "execution_count": 37,
     "metadata": {},
     "output_type": "execute_result"
    }
   ],
   "source": [
    "users"
   ]
  },
  {
   "cell_type": "code",
   "execution_count": 38,
   "metadata": {},
   "outputs": [],
   "source": [
    "users = users.loc[users[Columns.User].isin(train[Columns.User])].copy()"
   ]
  },
  {
   "cell_type": "code",
   "execution_count": 39,
   "metadata": {},
   "outputs": [
    {
     "data": {
      "text/html": [
       "<div>\n",
       "<style scoped>\n",
       "    .dataframe tbody tr th:only-of-type {\n",
       "        vertical-align: middle;\n",
       "    }\n",
       "\n",
       "    .dataframe tbody tr th {\n",
       "        vertical-align: top;\n",
       "    }\n",
       "\n",
       "    .dataframe thead th {\n",
       "        text-align: right;\n",
       "    }\n",
       "</style>\n",
       "<table border=\"1\" class=\"dataframe\">\n",
       "  <thead>\n",
       "    <tr style=\"text-align: right;\">\n",
       "      <th></th>\n",
       "      <th>id</th>\n",
       "      <th>value</th>\n",
       "      <th>feature</th>\n",
       "    </tr>\n",
       "  </thead>\n",
       "  <tbody>\n",
       "    <tr>\n",
       "      <th>0</th>\n",
       "      <td>973171</td>\n",
       "      <td>М</td>\n",
       "      <td>sex</td>\n",
       "    </tr>\n",
       "    <tr>\n",
       "      <th>1</th>\n",
       "      <td>962099</td>\n",
       "      <td>М</td>\n",
       "      <td>sex</td>\n",
       "    </tr>\n",
       "    <tr>\n",
       "      <th>3</th>\n",
       "      <td>721985</td>\n",
       "      <td>Ж</td>\n",
       "      <td>sex</td>\n",
       "    </tr>\n",
       "    <tr>\n",
       "      <th>4</th>\n",
       "      <td>704055</td>\n",
       "      <td>Ж</td>\n",
       "      <td>sex</td>\n",
       "    </tr>\n",
       "    <tr>\n",
       "      <th>5</th>\n",
       "      <td>1037719</td>\n",
       "      <td>М</td>\n",
       "      <td>sex</td>\n",
       "    </tr>\n",
       "  </tbody>\n",
       "</table>\n",
       "</div>"
      ],
      "text/plain": [
       "        id value feature\n",
       "0   973171     М     sex\n",
       "1   962099     М     sex\n",
       "3   721985     Ж     sex\n",
       "4   704055     Ж     sex\n",
       "5  1037719     М     sex"
      ]
     },
     "execution_count": 39,
     "metadata": {},
     "output_type": "execute_result"
    }
   ],
   "source": [
    "user_features_frames = []\n",
    "for feature in ['sex', 'age', 'income']:\n",
    "    feature_frame = users.reindex(columns=[Columns.User, feature])\n",
    "    feature_frame.columns = ['id', 'value']\n",
    "    feature_frame['feature'] = feature\n",
    "    user_features_frames.append(feature_frame)\n",
    "user_features = pd.concat(user_features_frames)\n",
    "user_features.head()"
   ]
  },
  {
   "cell_type": "markdown",
   "metadata": {},
   "source": [
    "## Item features"
   ]
  },
  {
   "cell_type": "code",
   "execution_count": 40,
   "metadata": {},
   "outputs": [],
   "source": [
    "items = items.loc[items[Columns.Item].isin(train[Columns.Item])].copy()"
   ]
  },
  {
   "cell_type": "code",
   "execution_count": 41,
   "metadata": {},
   "outputs": [
    {
     "data": {
      "text/html": [
       "<div>\n",
       "<style scoped>\n",
       "    .dataframe tbody tr th:only-of-type {\n",
       "        vertical-align: middle;\n",
       "    }\n",
       "\n",
       "    .dataframe tbody tr th {\n",
       "        vertical-align: top;\n",
       "    }\n",
       "\n",
       "    .dataframe thead th {\n",
       "        text-align: right;\n",
       "    }\n",
       "</style>\n",
       "<table border=\"1\" class=\"dataframe\">\n",
       "  <thead>\n",
       "    <tr style=\"text-align: right;\">\n",
       "      <th></th>\n",
       "      <th>id</th>\n",
       "      <th>value</th>\n",
       "      <th>feature</th>\n",
       "    </tr>\n",
       "  </thead>\n",
       "  <tbody>\n",
       "    <tr>\n",
       "      <th>0</th>\n",
       "      <td>10711</td>\n",
       "      <td>драмы</td>\n",
       "      <td>genre</td>\n",
       "    </tr>\n",
       "    <tr>\n",
       "      <th>0</th>\n",
       "      <td>10711</td>\n",
       "      <td>зарубежные</td>\n",
       "      <td>genre</td>\n",
       "    </tr>\n",
       "    <tr>\n",
       "      <th>0</th>\n",
       "      <td>10711</td>\n",
       "      <td>детективы</td>\n",
       "      <td>genre</td>\n",
       "    </tr>\n",
       "    <tr>\n",
       "      <th>0</th>\n",
       "      <td>10711</td>\n",
       "      <td>мелодрамы</td>\n",
       "      <td>genre</td>\n",
       "    </tr>\n",
       "    <tr>\n",
       "      <th>1</th>\n",
       "      <td>2508</td>\n",
       "      <td>зарубежные</td>\n",
       "      <td>genre</td>\n",
       "    </tr>\n",
       "  </tbody>\n",
       "</table>\n",
       "</div>"
      ],
      "text/plain": [
       "      id       value feature\n",
       "0  10711       драмы   genre\n",
       "0  10711  зарубежные   genre\n",
       "0  10711   детективы   genre\n",
       "0  10711   мелодрамы   genre\n",
       "1   2508  зарубежные   genre"
      ]
     },
     "execution_count": 41,
     "metadata": {},
     "output_type": "execute_result"
    }
   ],
   "source": [
    "items['genre'] = (\n",
    "    items['genres'].str.replace(', ', ',', regex=False).str.split(',')\n",
    ")\n",
    "genre_feature = items[[Columns.Item, 'genre']].explode('genre')\n",
    "genre_feature.columns = ['id', 'value']\n",
    "genre_feature['feature'] = 'genre'\n",
    "genre_feature.head()"
   ]
  },
  {
   "cell_type": "code",
   "execution_count": 42,
   "metadata": {},
   "outputs": [],
   "source": [
    "content_feature = items.reindex(columns=[Columns.Item, 'content_type'])\n",
    "content_feature.columns = ['id', 'value']\n",
    "content_feature['feature'] = 'content_type'"
   ]
  },
  {
   "cell_type": "code",
   "execution_count": 43,
   "metadata": {},
   "outputs": [],
   "source": [
    "countries_feature = items.reindex(columns=[Columns.Item, 'countries'])\n",
    "countries_feature.columns = ['id', 'value']\n",
    "countries_feature['feature'] = 'countries'"
   ]
  },
  {
   "cell_type": "code",
   "execution_count": 44,
   "metadata": {},
   "outputs": [],
   "source": [
    "release_decade_feature = items.reindex(columns=[Columns.Item, 'release_decade'])\n",
    "release_decade_feature.columns = ['id', 'value']\n",
    "release_decade_feature['feature'] = 'release_decade'"
   ]
  },
  {
   "cell_type": "code",
   "execution_count": 45,
   "metadata": {},
   "outputs": [
    {
     "data": {
      "text/plain": [
       "value\n",
       "2010.0s                 8091\n",
       "2000.0s                 1955\n",
       "2020.0s                 1682\n",
       "1980.0s                  613\n",
       "1990.0s                  572\n",
       "1970.0s                  467\n",
       "1960.0s                  270\n",
       "1950.0s                  143\n",
       "1940.0s                   91\n",
       "1930.0s                   80\n",
       "release_year_unknown      31\n",
       "1920.0s                   17\n",
       "1910.0s                    6\n",
       "Name: count, dtype: int64"
      ]
     },
     "execution_count": 45,
     "metadata": {},
     "output_type": "execute_result"
    }
   ],
   "source": [
    "release_decade_feature['value'].value_counts()"
   ]
  },
  {
   "cell_type": "code",
   "execution_count": 46,
   "metadata": {},
   "outputs": [],
   "source": [
    "age_rating_feature = items.reindex(columns=[Columns.Item, 'age_rating'])\n",
    "age_rating_feature.columns = ['id', 'value']\n",
    "age_rating_feature['feature'] = 'age_rating'"
   ]
  },
  {
   "cell_type": "markdown",
   "metadata": {},
   "source": [
    "Берем только ТОП-K студий, а остальные заменяем на 'other_studio'. 'other_studio' и 'unknown_studio' - **разные** вещи!"
   ]
  },
  {
   "cell_type": "code",
   "execution_count": 47,
   "metadata": {},
   "outputs": [],
   "source": [
    "def replace_rare_studios(studio_list):\n",
    "    return [\n",
    "        studio if studio in top_studios else 'other_studio'\n",
    "        for studio in studio_list\n",
    "    ]\n",
    "\n",
    "\n",
    "items['studio'] = items['studios'].str.split(r',\\s*')\n",
    "top_studios = (\n",
    "    items['studio']\n",
    "    .explode()\n",
    "    .value_counts()\n",
    "    .head(ItemsFeatureTopKConfig.STUDIOS_TOP_K)\n",
    "    .index\n",
    ")\n",
    "items['studio'] = items['studio'].apply(replace_rare_studios)"
   ]
  },
  {
   "cell_type": "code",
   "execution_count": 48,
   "metadata": {},
   "outputs": [],
   "source": [
    "studios_feature = items[[Columns.Item, 'studio']].explode('studio')\n",
    "studios_feature.columns = ['id', 'value']\n",
    "studios_feature['feature'] = 'studios'"
   ]
  },
  {
   "cell_type": "code",
   "execution_count": 49,
   "metadata": {},
   "outputs": [],
   "source": [
    "# Для директоров оставляем топ-30, остальные заменяем на 'other'\n",
    "items['directors'] = (\n",
    "    items['directors'].str.replace(', ', ',', regex=False).str.split(',')\n",
    ")\n",
    "top_directors = (\n",
    "    items['directors']\n",
    "    .explode()\n",
    "    .value_counts()\n",
    "    .head(ItemsFeatureTopKConfig.DIRECTORS_TOP_K)\n",
    "    .index\n",
    ")\n",
    "\n",
    "items['director'] = items['directors'].apply(\n",
    "    lambda x: [d if d in top_directors else 'other_director' for d in x]\n",
    ")"
   ]
  },
  {
   "cell_type": "code",
   "execution_count": 50,
   "metadata": {},
   "outputs": [
    {
     "data": {
      "text/html": [
       "<div>\n",
       "<style scoped>\n",
       "    .dataframe tbody tr th:only-of-type {\n",
       "        vertical-align: middle;\n",
       "    }\n",
       "\n",
       "    .dataframe tbody tr th {\n",
       "        vertical-align: top;\n",
       "    }\n",
       "\n",
       "    .dataframe thead th {\n",
       "        text-align: right;\n",
       "    }\n",
       "</style>\n",
       "<table border=\"1\" class=\"dataframe\">\n",
       "  <thead>\n",
       "    <tr style=\"text-align: right;\">\n",
       "      <th></th>\n",
       "      <th>id</th>\n",
       "      <th>value</th>\n",
       "      <th>feature</th>\n",
       "    </tr>\n",
       "  </thead>\n",
       "  <tbody>\n",
       "    <tr>\n",
       "      <th>0</th>\n",
       "      <td>10711</td>\n",
       "      <td>other_director</td>\n",
       "      <td>director</td>\n",
       "    </tr>\n",
       "    <tr>\n",
       "      <th>1</th>\n",
       "      <td>2508</td>\n",
       "      <td>other_director</td>\n",
       "      <td>director</td>\n",
       "    </tr>\n",
       "    <tr>\n",
       "      <th>2</th>\n",
       "      <td>10716</td>\n",
       "      <td>other_director</td>\n",
       "      <td>director</td>\n",
       "    </tr>\n",
       "    <tr>\n",
       "      <th>3</th>\n",
       "      <td>7868</td>\n",
       "      <td>other_director</td>\n",
       "      <td>director</td>\n",
       "    </tr>\n",
       "    <tr>\n",
       "      <th>4</th>\n",
       "      <td>16268</td>\n",
       "      <td>other_director</td>\n",
       "      <td>director</td>\n",
       "    </tr>\n",
       "  </tbody>\n",
       "</table>\n",
       "</div>"
      ],
      "text/plain": [
       "      id           value   feature\n",
       "0  10711  other_director  director\n",
       "1   2508  other_director  director\n",
       "2  10716  other_director  director\n",
       "3   7868  other_director  director\n",
       "4  16268  other_director  director"
      ]
     },
     "execution_count": 50,
     "metadata": {},
     "output_type": "execute_result"
    }
   ],
   "source": [
    "directors_feature = items[[Columns.Item, 'director']].explode('director')\n",
    "directors_feature.columns = ['id', 'value']\n",
    "directors_feature['feature'] = 'director'\n",
    "directors_feature.head()"
   ]
  },
  {
   "cell_type": "markdown",
   "metadata": {},
   "source": [
    "Можно еще добавить description_feature"
   ]
  },
  {
   "cell_type": "code",
   "execution_count": 51,
   "metadata": {},
   "outputs": [],
   "source": [
    "item_features = pd.concat((\n",
    "    genre_feature,\n",
    "    content_feature,\n",
    "    countries_feature,\n",
    "    release_decade_feature,\n",
    "    age_rating_feature,\n",
    "    studios_feature,\n",
    "    directors_feature,\n",
    "))\n"
   ]
  },
  {
   "cell_type": "code",
   "execution_count": 52,
   "metadata": {},
   "outputs": [
    {
     "name": "stdout",
     "output_type": "stream",
     "text": [
      "<class 'pandas.core.frame.DataFrame'>\n",
      "Index: 123469 entries, 0 to 15961\n",
      "Data columns (total 3 columns):\n",
      " #   Column   Non-Null Count   Dtype \n",
      "---  ------   --------------   ----- \n",
      " 0   id       123469 non-null  int64 \n",
      " 1   value    123469 non-null  object\n",
      " 2   feature  123469 non-null  object\n",
      "dtypes: int64(1), object(2)\n",
      "memory usage: 3.8+ MB\n"
     ]
    }
   ],
   "source": [
    "item_features.info()"
   ]
  },
  {
   "cell_type": "code",
   "execution_count": 53,
   "metadata": {},
   "outputs": [],
   "source": [
    "metrics_name = {\n",
    "    'Recall': Recall,\n",
    "    'MAP': MAP,\n",
    "}\n",
    "\n",
    "metrics = {}\n",
    "for metric_name, metric in metrics_name.items():\n",
    "    for k in range(1, 11):\n",
    "        metrics[f'{metric_name}@{k}'] = metric(k=k)"
   ]
  },
  {
   "cell_type": "code",
   "execution_count": 54,
   "metadata": {},
   "outputs": [],
   "source": [
    "CAT_USER_FEATURES = list(user_features['feature'].unique())\n",
    "CAT_ITEM_FEATURES = list(item_features['feature'].unique())"
   ]
  },
  {
   "cell_type": "code",
   "execution_count": 55,
   "metadata": {},
   "outputs": [],
   "source": [
    "dataset = Dataset.construct(\n",
    "    interactions_df=train,\n",
    "    user_features_df=user_features,\n",
    "    cat_user_features=CAT_USER_FEATURES,\n",
    "    item_features_df=item_features,\n",
    "    cat_item_features=CAT_ITEM_FEATURES,\n",
    ")\n",
    "\n",
    "TEST_USERS = test[Columns.User].unique()"
   ]
  },
  {
   "cell_type": "markdown",
   "metadata": {},
   "source": [
    "# Подбор гиперпараметров"
   ]
  },
  {
   "cell_type": "markdown",
   "metadata": {},
   "source": [
    "### Подбор гиперпараметров ImplicitALS"
   ]
  },
  {
   "cell_type": "code",
   "execution_count": null,
   "metadata": {},
   "outputs": [],
   "source": [
    "def ials_objective(trial):\n",
    "    factors = trial.suggest_categorical('factors', [4, 8, 16, 32, 64])\n",
    "    regularization = trial.suggest_float('regularization', 0.001, 0.1, log=True)\n",
    "    iterations = trial.suggest_categorical('iterations', [1, 3, 5, 10, 15])\n",
    "\n",
    "    model = ImplicitALSWrapperModel(\n",
    "        model=AlternatingLeastSquares(\n",
    "            factors=factors,\n",
    "            regularization=regularization,\n",
    "            iterations=iterations,\n",
    "            random_state=42,\n",
    "            num_threads=4,\n",
    "            use_gpu=False,\n",
    "        ),\n",
    "        fit_features_together=True,\n",
    "    )\n",
    "\n",
    "    model.fit(dataset)\n",
    "    recos = model.recommend(\n",
    "        users=TEST_USERS,\n",
    "        dataset=dataset,\n",
    "        k=10,\n",
    "        filter_viewed=True,\n",
    "    )\n",
    "\n",
    "    map10 = calc_metrics(metrics, recos, test, train)['MAP@10']\n",
    "    return map10"
   ]
  },
  {
   "cell_type": "code",
   "execution_count": null,
   "metadata": {},
   "outputs": [],
   "source": [
    "study = optuna.create_study(direction='maximize')\n",
    "study.optimize(ials_objective, n_trials=20)"
   ]
  },
  {
   "cell_type": "code",
   "execution_count": null,
   "metadata": {},
   "outputs": [],
   "source": [
    "print(f'Best MAP@10 value: {study.best_value}')\n",
    "print(f'Best parameters: {study.best_params}')"
   ]
  },
  {
   "cell_type": "code",
   "execution_count": null,
   "metadata": {},
   "outputs": [],
   "source": [
    "# Best MAP@10 value: 0.075254069127234\n",
    "# Best parameters: {'factors': 32, 'regularization': 0.01883534498756549, 'iterations': 5}"
   ]
  },
  {
   "cell_type": "markdown",
   "metadata": {},
   "source": [
    "### Подбор гиперпараметров LightFM"
   ]
  },
  {
   "cell_type": "code",
   "execution_count": null,
   "metadata": {},
   "outputs": [],
   "source": [
    "def lfm_objective(trial):\n",
    "    no_components = trial.suggest_categorical(\n",
    "        'no_components', [8, 16, 32, 64, 128]\n",
    "    )\n",
    "    learning_rate = trial.suggest_float('learning_rate', 0.005, 0.05, log=True)\n",
    "    rho = trial.suggest_float('rho', 0.9, 0.99, log=True)\n",
    "    epsilon = trial.suggest_float('epsilon', 1e-6, 1e-5, log=True)\n",
    "\n",
    "    model = LightFMWrapperModel(\n",
    "        LightFM(\n",
    "            no_components=no_components,\n",
    "            learning_rate=learning_rate,\n",
    "            rho=rho,\n",
    "            epsilon=epsilon,\n",
    "            user_alpha=0,\n",
    "            item_alpha=0,\n",
    "            random_state=42,\n",
    "        ),\n",
    "        epochs=1,\n",
    "        num_threads=16,\n",
    "    )\n",
    "    model.fit(dataset)\n",
    "    recos = model.recommend(\n",
    "        users=TEST_USERS,\n",
    "        dataset=dataset,\n",
    "        k=10,\n",
    "        filter_viewed=True,\n",
    "    )\n",
    "\n",
    "    map10 = calc_metrics(metrics, recos, test, train)['MAP@10']\n",
    "    return map10"
   ]
  },
  {
   "cell_type": "code",
   "execution_count": null,
   "metadata": {},
   "outputs": [],
   "source": [
    "study = optuna.create_study(direction='maximize')\n",
    "study.optimize(lfm_objective, n_trials=30)"
   ]
  },
  {
   "cell_type": "markdown",
   "metadata": {},
   "source": [
    "# Лучшая модель"
   ]
  },
  {
   "cell_type": "code",
   "execution_count": 56,
   "metadata": {},
   "outputs": [],
   "source": [
    "dataset = Dataset.construct(\n",
    "    interactions_df=interactions,\n",
    "    user_features_df=user_features,\n",
    "    cat_user_features=CAT_USER_FEATURES,\n",
    "    item_features_df=item_features,\n",
    "    cat_item_features=CAT_ITEM_FEATURES,\n",
    ")\n",
    "\n",
    "TEST_USERS = test[Columns.User].unique()"
   ]
  },
  {
   "cell_type": "code",
   "execution_count": 57,
   "metadata": {},
   "outputs": [
    {
     "name": "stderr",
     "output_type": "stream",
     "text": [
      "c:\\Users\\PC\\Desktop\\диплом\\movie-recsys-service\\ml_development\\.venv\\Lib\\site-packages\\implicit\\cpu\\als.py:95: RuntimeWarning: OpenBLAS is configured to use 6 threads. It is highly recommended to disable its internal threadpool by setting the environment variable 'OPENBLAS_NUM_THREADS=1' or by calling 'threadpoolctl.threadpool_limits(1, \"blas\")'. Having OpenBLAS use a threadpool can lead to severe performance issues here.\n",
      "  check_blas_config()\n"
     ]
    }
   ],
   "source": [
    "model = ImplicitALSWrapperModel(\n",
    "    model=AlternatingLeastSquares(\n",
    "        factors=32,\n",
    "        regularization=0.01883534498756549,\n",
    "        iterations=5,\n",
    "        random_state=42,\n",
    "        num_threads=4,\n",
    "        use_gpu=False,\n",
    "    ),\n",
    "    fit_features_together=True,\n",
    ")"
   ]
  },
  {
   "cell_type": "markdown",
   "metadata": {},
   "source": [
    "# Искусственные пользователи"
   ]
  },
  {
   "cell_type": "markdown",
   "metadata": {},
   "source": [
    "Егор - любитель фильмов Квентина Тарантино"
   ]
  },
  {
   "cell_type": "code",
   "execution_count": 58,
   "metadata": {},
   "outputs": [],
   "source": [
    "users = pd.concat(\n",
    "    [\n",
    "        users,\n",
    "        pd.DataFrame([\n",
    "            {\n",
    "                'user_id': 1100000,\n",
    "                'age': 'age_18_24',\n",
    "                'income': 'income_60_90',\n",
    "                'sex': 'М',\n",
    "                'kids_flg': 0,\n",
    "            }\n",
    "        ]),\n",
    "    ],\n",
    "    ignore_index=True,\n",
    ")\n"
   ]
  },
  {
   "cell_type": "code",
   "execution_count": 59,
   "metadata": {},
   "outputs": [
    {
     "data": {
      "text/html": [
       "<div>\n",
       "<style scoped>\n",
       "    .dataframe tbody tr th:only-of-type {\n",
       "        vertical-align: middle;\n",
       "    }\n",
       "\n",
       "    .dataframe tbody tr th {\n",
       "        vertical-align: top;\n",
       "    }\n",
       "\n",
       "    .dataframe thead th {\n",
       "        text-align: right;\n",
       "    }\n",
       "</style>\n",
       "<table border=\"1\" class=\"dataframe\">\n",
       "  <thead>\n",
       "    <tr style=\"text-align: right;\">\n",
       "      <th></th>\n",
       "      <th>item_id</th>\n",
       "      <th>title</th>\n",
       "      <th>genre</th>\n",
       "      <th>content_type</th>\n",
       "      <th>countries</th>\n",
       "      <th>release_decade</th>\n",
       "      <th>age_rating</th>\n",
       "      <th>studios</th>\n",
       "      <th>director</th>\n",
       "    </tr>\n",
       "  </thead>\n",
       "  <tbody>\n",
       "    <tr>\n",
       "      <th>107</th>\n",
       "      <td>14804</td>\n",
       "      <td>криминальное чтиво</td>\n",
       "      <td>[зарубежные, триллеры, криминал, комедии]</td>\n",
       "      <td>film</td>\n",
       "      <td>сша</td>\n",
       "      <td>1990.0s</td>\n",
       "      <td>18.0</td>\n",
       "      <td>studios_unknown</td>\n",
       "      <td>[other_director]</td>\n",
       "    </tr>\n",
       "    <tr>\n",
       "      <th>3134</th>\n",
       "      <td>16382</td>\n",
       "      <td>человек-паук</td>\n",
       "      <td>[боевики, фантастика, приключения]</td>\n",
       "      <td>film</td>\n",
       "      <td>сша</td>\n",
       "      <td>2000.0s</td>\n",
       "      <td>12.0</td>\n",
       "      <td>studios_unknown</td>\n",
       "      <td>[other_director]</td>\n",
       "    </tr>\n",
       "    <tr>\n",
       "      <th>4766</th>\n",
       "      <td>7693</td>\n",
       "      <td>джанго освобождённый</td>\n",
       "      <td>[боевики, драмы, вестерн, комедии]</td>\n",
       "      <td>film</td>\n",
       "      <td>сша</td>\n",
       "      <td>2010.0s</td>\n",
       "      <td>18.0</td>\n",
       "      <td>studios_unknown</td>\n",
       "      <td>[other_director]</td>\n",
       "    </tr>\n",
       "    <tr>\n",
       "      <th>5806</th>\n",
       "      <td>11115</td>\n",
       "      <td>бесславные ублюдки</td>\n",
       "      <td>[боевики, драмы, военные, комедии]</td>\n",
       "      <td>film</td>\n",
       "      <td>германия, сша</td>\n",
       "      <td>2000.0s</td>\n",
       "      <td>16.0</td>\n",
       "      <td>studios_unknown</td>\n",
       "      <td>[other_director]</td>\n",
       "    </tr>\n",
       "    <tr>\n",
       "      <th>6992</th>\n",
       "      <td>898</td>\n",
       "      <td>большой куш</td>\n",
       "      <td>[боевики, комедии]</td>\n",
       "      <td>film</td>\n",
       "      <td>великобритания, сша</td>\n",
       "      <td>2000.0s</td>\n",
       "      <td>16.0</td>\n",
       "      <td>studios_unknown</td>\n",
       "      <td>[other_director]</td>\n",
       "    </tr>\n",
       "    <tr>\n",
       "      <th>10425</th>\n",
       "      <td>13715</td>\n",
       "      <td>стекло</td>\n",
       "      <td>[драмы, фантастика, триллеры]</td>\n",
       "      <td>film</td>\n",
       "      <td>сша, китай</td>\n",
       "      <td>2010.0s</td>\n",
       "      <td>16.0</td>\n",
       "      <td>studios_unknown</td>\n",
       "      <td>[other_director]</td>\n",
       "    </tr>\n",
       "    <tr>\n",
       "      <th>13802</th>\n",
       "      <td>8148</td>\n",
       "      <td>бешеные псы</td>\n",
       "      <td>[драмы, триллеры]</td>\n",
       "      <td>film</td>\n",
       "      <td>сша</td>\n",
       "      <td>1990.0s</td>\n",
       "      <td>18.0</td>\n",
       "      <td>studios_unknown</td>\n",
       "      <td>[other_director]</td>\n",
       "    </tr>\n",
       "    <tr>\n",
       "      <th>15624</th>\n",
       "      <td>4072</td>\n",
       "      <td>человек-паук 3: враг в отражении</td>\n",
       "      <td>[боевики, фантастика, приключения]</td>\n",
       "      <td>film</td>\n",
       "      <td>сша</td>\n",
       "      <td>2000.0s</td>\n",
       "      <td>12.0</td>\n",
       "      <td>studios_unknown</td>\n",
       "      <td>[other_director]</td>\n",
       "    </tr>\n",
       "  </tbody>\n",
       "</table>\n",
       "</div>"
      ],
      "text/plain": [
       "       item_id                             title  \\\n",
       "107      14804                криминальное чтиво   \n",
       "3134     16382                      человек-паук   \n",
       "4766      7693              джанго освобождённый   \n",
       "5806     11115                бесславные ублюдки   \n",
       "6992       898                       большой куш   \n",
       "10425    13715                            стекло   \n",
       "13802     8148                       бешеные псы   \n",
       "15624     4072  человек-паук 3: враг в отражении   \n",
       "\n",
       "                                           genre content_type  \\\n",
       "107    [зарубежные, триллеры, криминал, комедии]         film   \n",
       "3134          [боевики, фантастика, приключения]         film   \n",
       "4766          [боевики, драмы, вестерн, комедии]         film   \n",
       "5806          [боевики, драмы, военные, комедии]         film   \n",
       "6992                          [боевики, комедии]         film   \n",
       "10425              [драмы, фантастика, триллеры]         film   \n",
       "13802                          [драмы, триллеры]         film   \n",
       "15624         [боевики, фантастика, приключения]         film   \n",
       "\n",
       "                 countries release_decade  age_rating          studios  \\\n",
       "107                    сша        1990.0s        18.0  studios_unknown   \n",
       "3134                   сша        2000.0s        12.0  studios_unknown   \n",
       "4766                   сша        2010.0s        18.0  studios_unknown   \n",
       "5806         германия, сша        2000.0s        16.0  studios_unknown   \n",
       "6992   великобритания, сша        2000.0s        16.0  studios_unknown   \n",
       "10425           сша, китай        2010.0s        16.0  studios_unknown   \n",
       "13802                  сша        1990.0s        18.0  studios_unknown   \n",
       "15624                  сша        2000.0s        12.0  studios_unknown   \n",
       "\n",
       "               director  \n",
       "107    [other_director]  \n",
       "3134   [other_director]  \n",
       "4766   [other_director]  \n",
       "5806   [other_director]  \n",
       "6992   [other_director]  \n",
       "10425  [other_director]  \n",
       "13802  [other_director]  \n",
       "15624  [other_director]  "
      ]
     },
     "execution_count": 59,
     "metadata": {},
     "output_type": "execute_result"
    }
   ],
   "source": [
    "items.loc[\n",
    "    items['item_id'].isin([14804, 7693, 11115, 8148, 16382, 4072, 898, 13715]),\n",
    "    ['item_id', 'title', *CAT_ITEM_FEATURES],\n",
    "]"
   ]
  },
  {
   "cell_type": "code",
   "execution_count": 60,
   "metadata": {},
   "outputs": [],
   "source": [
    "first_items = [14804, 7693, 11115, 8148, 16382, 4072, 898, 13715]\n",
    "first_num_items = len(first_items)\n",
    "first_avatar = pd.DataFrame({\n",
    "    'user_id': np.full(first_num_items, fill_value=1100000),\n",
    "    'item_id': first_items,\n",
    "    'last_watch_dt': np.full(first_num_items, fill_value='2021-05-29'),\n",
    "    'total_dur': np.full(first_num_items, fill_value=np.nan),\n",
    "    'watched_pct': first_num_items * [100.0],\n",
    "    'weight': [3, 3, 3, 3, 3, 3, 3, 1],\n",
    "})\n",
    "\n",
    "first_avatar[Columns.Datetime] = pd.to_datetime(\n",
    "    first_avatar[Columns.Datetime], format='%Y-%m-%d'\n",
    ")"
   ]
  },
  {
   "cell_type": "code",
   "execution_count": 61,
   "metadata": {},
   "outputs": [],
   "source": [
    "avatars = pd.concat([first_avatar])\n",
    "interactions = pd.concat([interactions, avatars], ignore_index=True)"
   ]
  },
  {
   "cell_type": "code",
   "execution_count": 62,
   "metadata": {},
   "outputs": [],
   "source": [
    "# Соберем датасет\n",
    "dataset = Dataset.construct(\n",
    "    interactions_df=interactions,\n",
    "    user_features_df=user_features,\n",
    "    cat_user_features=CAT_USER_FEATURES,\n",
    "    item_features_df=item_features,\n",
    "    cat_item_features=CAT_ITEM_FEATURES,\n",
    ")\n",
    "\n",
    "avatars_ids = avatars['user_id'].unique()"
   ]
  },
  {
   "cell_type": "code",
   "execution_count": 63,
   "metadata": {},
   "outputs": [
    {
     "name": "stdout",
     "output_type": "stream",
     "text": [
      "CPU times: total: 23min 38s\n",
      "Wall time: 5min 35s\n"
     ]
    },
    {
     "data": {
      "text/plain": [
       "<rectools.models.implicit_als.ImplicitALSWrapperModel at 0x13a6a289d00>"
      ]
     },
     "execution_count": 63,
     "metadata": {},
     "output_type": "execute_result"
    }
   ],
   "source": [
    "%%time\n",
    "model.fit(dataset)"
   ]
  },
  {
   "cell_type": "code",
   "execution_count": 70,
   "metadata": {},
   "outputs": [
    {
     "data": {
      "text/plain": [
       "3434336646"
      ]
     },
     "execution_count": 70,
     "metadata": {},
     "output_type": "execute_result"
    }
   ],
   "source": [
    "%%time\n",
    "model.fit(dataset)"
   ]
  },
  {
   "cell_type": "code",
   "execution_count": 64,
   "metadata": {},
   "outputs": [],
   "source": [
    "recos = model.recommend(\n",
    "    users=avatars_ids,\n",
    "    dataset=dataset,\n",
    "    k=10,\n",
    "    filter_viewed=True,\n",
    ")"
   ]
  },
  {
   "cell_type": "code",
   "execution_count": 65,
   "metadata": {},
   "outputs": [],
   "source": [
    "recs = recos.merge(\n",
    "    items[['item_id', 'title', *CAT_ITEM_FEATURES]],\n",
    "    on='item_id',\n",
    ").sort_values(['user_id', 'rank'])"
   ]
  },
  {
   "cell_type": "code",
   "execution_count": 66,
   "metadata": {},
   "outputs": [
    {
     "data": {
      "text/html": [
       "<div>\n",
       "<style scoped>\n",
       "    .dataframe tbody tr th:only-of-type {\n",
       "        vertical-align: middle;\n",
       "    }\n",
       "\n",
       "    .dataframe tbody tr th {\n",
       "        vertical-align: top;\n",
       "    }\n",
       "\n",
       "    .dataframe thead th {\n",
       "        text-align: right;\n",
       "    }\n",
       "</style>\n",
       "<table border=\"1\" class=\"dataframe\">\n",
       "  <thead>\n",
       "    <tr style=\"text-align: right;\">\n",
       "      <th></th>\n",
       "      <th>user_id</th>\n",
       "      <th>item_id</th>\n",
       "      <th>score</th>\n",
       "      <th>rank</th>\n",
       "      <th>title</th>\n",
       "      <th>genre</th>\n",
       "      <th>content_type</th>\n",
       "      <th>countries</th>\n",
       "      <th>release_decade</th>\n",
       "      <th>age_rating</th>\n",
       "      <th>studios</th>\n",
       "      <th>director</th>\n",
       "    </tr>\n",
       "  </thead>\n",
       "  <tbody>\n",
       "    <tr>\n",
       "      <th>0</th>\n",
       "      <td>1100000</td>\n",
       "      <td>9728</td>\n",
       "      <td>0.029119</td>\n",
       "      <td>1</td>\n",
       "      <td>гнев человеческий</td>\n",
       "      <td>[боевики, триллеры]</td>\n",
       "      <td>film</td>\n",
       "      <td>великобритания, сша</td>\n",
       "      <td>2020.0s</td>\n",
       "      <td>18.0</td>\n",
       "      <td>studios_unknown</td>\n",
       "      <td>[other_director]</td>\n",
       "    </tr>\n",
       "    <tr>\n",
       "      <th>1</th>\n",
       "      <td>1100000</td>\n",
       "      <td>16447</td>\n",
       "      <td>0.028002</td>\n",
       "      <td>2</td>\n",
       "      <td>бойцовский клуб</td>\n",
       "      <td>[драмы, триллеры, криминал]</td>\n",
       "      <td>film</td>\n",
       "      <td>германия, сша</td>\n",
       "      <td>1990.0s</td>\n",
       "      <td>18.0</td>\n",
       "      <td>studios_unknown</td>\n",
       "      <td>[other_director]</td>\n",
       "    </tr>\n",
       "    <tr>\n",
       "      <th>2</th>\n",
       "      <td>1100000</td>\n",
       "      <td>7731</td>\n",
       "      <td>0.026378</td>\n",
       "      <td>3</td>\n",
       "      <td>спартанец</td>\n",
       "      <td>[криминал, детективы, драмы, триллеры, боевики]</td>\n",
       "      <td>film</td>\n",
       "      <td>германия, сша</td>\n",
       "      <td>2000.0s</td>\n",
       "      <td>18.0</td>\n",
       "      <td>studios_unknown</td>\n",
       "      <td>[other_director]</td>\n",
       "    </tr>\n",
       "    <tr>\n",
       "      <th>3</th>\n",
       "      <td>1100000</td>\n",
       "      <td>12798</td>\n",
       "      <td>0.026273</td>\n",
       "      <td>4</td>\n",
       "      <td>игрушки для взрослых</td>\n",
       "      <td>[боевики, популярное, триллеры, комедии]</td>\n",
       "      <td>film</td>\n",
       "      <td>сша, китай</td>\n",
       "      <td>2010.0s</td>\n",
       "      <td>18.0</td>\n",
       "      <td>studios_unknown</td>\n",
       "      <td>[other_director]</td>\n",
       "    </tr>\n",
       "    <tr>\n",
       "      <th>4</th>\n",
       "      <td>1100000</td>\n",
       "      <td>3345</td>\n",
       "      <td>0.025621</td>\n",
       "      <td>5</td>\n",
       "      <td>рэмбо 4</td>\n",
       "      <td>[боевики, триллеры]</td>\n",
       "      <td>film</td>\n",
       "      <td>германия, сша</td>\n",
       "      <td>2000.0s</td>\n",
       "      <td>16.0</td>\n",
       "      <td>studios_unknown</td>\n",
       "      <td>[other_director]</td>\n",
       "    </tr>\n",
       "    <tr>\n",
       "      <th>5</th>\n",
       "      <td>1100000</td>\n",
       "      <td>7531</td>\n",
       "      <td>0.025442</td>\n",
       "      <td>6</td>\n",
       "      <td>шафт</td>\n",
       "      <td>[боевики, триллеры]</td>\n",
       "      <td>film</td>\n",
       "      <td>германия, сша</td>\n",
       "      <td>2000.0s</td>\n",
       "      <td>16.0</td>\n",
       "      <td>studios_unknown</td>\n",
       "      <td>[other_director]</td>\n",
       "    </tr>\n",
       "    <tr>\n",
       "      <th>6</th>\n",
       "      <td>1100000</td>\n",
       "      <td>3389</td>\n",
       "      <td>0.025424</td>\n",
       "      <td>7</td>\n",
       "      <td>золотой глаз</td>\n",
       "      <td>[боевики, триллеры]</td>\n",
       "      <td>film</td>\n",
       "      <td>великобритания, сша</td>\n",
       "      <td>1990.0s</td>\n",
       "      <td>12.0</td>\n",
       "      <td>studios_unknown</td>\n",
       "      <td>[other_director]</td>\n",
       "    </tr>\n",
       "    <tr>\n",
       "      <th>7</th>\n",
       "      <td>1100000</td>\n",
       "      <td>5530</td>\n",
       "      <td>0.025381</td>\n",
       "      <td>8</td>\n",
       "      <td>завтра не умрёт никогда</td>\n",
       "      <td>[боевики, триллеры]</td>\n",
       "      <td>film</td>\n",
       "      <td>великобритания, сша</td>\n",
       "      <td>1990.0s</td>\n",
       "      <td>12.0</td>\n",
       "      <td>studios_unknown</td>\n",
       "      <td>[other_director]</td>\n",
       "    </tr>\n",
       "    <tr>\n",
       "      <th>8</th>\n",
       "      <td>1100000</td>\n",
       "      <td>6582</td>\n",
       "      <td>0.025293</td>\n",
       "      <td>9</td>\n",
       "      <td>образцовый самец</td>\n",
       "      <td>[комедии]</td>\n",
       "      <td>film</td>\n",
       "      <td>германия, сша</td>\n",
       "      <td>2000.0s</td>\n",
       "      <td>18.0</td>\n",
       "      <td>studios_unknown</td>\n",
       "      <td>[other_director]</td>\n",
       "    </tr>\n",
       "    <tr>\n",
       "      <th>9</th>\n",
       "      <td>1100000</td>\n",
       "      <td>3044</td>\n",
       "      <td>0.025224</td>\n",
       "      <td>10</td>\n",
       "      <td>и целого мира мало</td>\n",
       "      <td>[боевики, триллеры]</td>\n",
       "      <td>film</td>\n",
       "      <td>великобритания, сша</td>\n",
       "      <td>1990.0s</td>\n",
       "      <td>16.0</td>\n",
       "      <td>studios_unknown</td>\n",
       "      <td>[other_director]</td>\n",
       "    </tr>\n",
       "  </tbody>\n",
       "</table>\n",
       "</div>"
      ],
      "text/plain": [
       "   user_id  item_id     score  rank                    title  \\\n",
       "0  1100000     9728  0.029119     1        гнев человеческий   \n",
       "1  1100000    16447  0.028002     2          бойцовский клуб   \n",
       "2  1100000     7731  0.026378     3                спартанец   \n",
       "3  1100000    12798  0.026273     4     игрушки для взрослых   \n",
       "4  1100000     3345  0.025621     5                  рэмбо 4   \n",
       "5  1100000     7531  0.025442     6                     шафт   \n",
       "6  1100000     3389  0.025424     7             золотой глаз   \n",
       "7  1100000     5530  0.025381     8  завтра не умрёт никогда   \n",
       "8  1100000     6582  0.025293     9         образцовый самец   \n",
       "9  1100000     3044  0.025224    10       и целого мира мало   \n",
       "\n",
       "                                             genre content_type  \\\n",
       "0                              [боевики, триллеры]         film   \n",
       "1                      [драмы, триллеры, криминал]         film   \n",
       "2  [криминал, детективы, драмы, триллеры, боевики]         film   \n",
       "3         [боевики, популярное, триллеры, комедии]         film   \n",
       "4                              [боевики, триллеры]         film   \n",
       "5                              [боевики, триллеры]         film   \n",
       "6                              [боевики, триллеры]         film   \n",
       "7                              [боевики, триллеры]         film   \n",
       "8                                        [комедии]         film   \n",
       "9                              [боевики, триллеры]         film   \n",
       "\n",
       "             countries release_decade  age_rating          studios  \\\n",
       "0  великобритания, сша        2020.0s        18.0  studios_unknown   \n",
       "1        германия, сша        1990.0s        18.0  studios_unknown   \n",
       "2        германия, сша        2000.0s        18.0  studios_unknown   \n",
       "3           сша, китай        2010.0s        18.0  studios_unknown   \n",
       "4        германия, сша        2000.0s        16.0  studios_unknown   \n",
       "5        германия, сша        2000.0s        16.0  studios_unknown   \n",
       "6  великобритания, сша        1990.0s        12.0  studios_unknown   \n",
       "7  великобритания, сша        1990.0s        12.0  studios_unknown   \n",
       "8        германия, сша        2000.0s        18.0  studios_unknown   \n",
       "9  великобритания, сша        1990.0s        16.0  studios_unknown   \n",
       "\n",
       "           director  \n",
       "0  [other_director]  \n",
       "1  [other_director]  \n",
       "2  [other_director]  \n",
       "3  [other_director]  \n",
       "4  [other_director]  \n",
       "5  [other_director]  \n",
       "6  [other_director]  \n",
       "7  [other_director]  \n",
       "8  [other_director]  \n",
       "9  [other_director]  "
      ]
     },
     "execution_count": 66,
     "metadata": {},
     "output_type": "execute_result"
    }
   ],
   "source": [
    "recs[recs['user_id'] == avatars_ids[0]]"
   ]
  }
 ],
 "metadata": {
  "kernelspec": {
   "display_name": ".venv",
   "language": "python",
   "name": "python3"
  },
  "language_info": {
   "codemirror_mode": {
    "name": "ipython",
    "version": 3
   },
   "file_extension": ".py",
   "mimetype": "text/x-python",
   "name": "python",
   "nbconvert_exporter": "python",
   "pygments_lexer": "ipython3",
   "version": "3.12.8"
  }
 },
 "nbformat": 4,
 "nbformat_minor": 2
}

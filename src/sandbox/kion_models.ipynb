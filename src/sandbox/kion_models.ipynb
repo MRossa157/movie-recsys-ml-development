{
 "cells": [
  {
   "cell_type": "code",
   "execution_count": 1,
   "metadata": {},
   "outputs": [
    {
     "name": "stderr",
     "output_type": "stream",
     "text": [
      "c:\\Users\\PC\\Desktop\\диплом\\movie-recsys-service\\ml_development\\.venv\\lib\\site-packages\\lightfm\\_lightfm_fast.py:9: UserWarning: LightFM was compiled without OpenMP support. Only a single thread will be used.\n",
      "  warnings.warn(\n"
     ]
    }
   ],
   "source": [
    "import pandas as pd\n",
    "import numpy as np\n",
    "import requests\n",
    "import optuna\n",
    "\n",
    "from implicit.als import AlternatingLeastSquares\n",
    "\n",
    "from rectools.metrics import Precision, Recall, MAP, calc_metrics\n",
    "from rectools.models import PopularModel, RandomModel, ImplicitALSWrapperModel\n",
    "from rectools import Columns\n",
    "from rectools.dataset import Dataset\n",
    "from rectools.models import ImplicitALSWrapperModel, LightFMWrapperModel\n",
    "\n",
    "from pathlib import Path\n",
    "import typing as tp\n",
    "from tqdm import tqdm\n",
    "\n",
    "from lightfm import LightFM\n",
    "\n",
    "from implicit.bpr import BayesianPersonalizedRanking\n",
    "\n",
    "from implicit.lmf import LogisticMatrixFactorization\n",
    "\n",
    "\n",
    "import warnings\n",
    "\n",
    "warnings.filterwarnings(action='ignore', category=UserWarning)"
   ]
  },
  {
   "cell_type": "code",
   "execution_count": 2,
   "metadata": {},
   "outputs": [
    {
     "name": "stdout",
     "output_type": "stream",
     "text": [
      "HAS_CUDA: False\n"
     ]
    }
   ],
   "source": [
    "from implicit.gpu import HAS_CUDA\n",
    "\n",
    "print('HAS_CUDA:', HAS_CUDA)"
   ]
  },
  {
   "cell_type": "code",
   "execution_count": 3,
   "metadata": {},
   "outputs": [],
   "source": [
    "import os\n",
    "\n",
    "os.environ['OPENBLAS_NUM_THREADS'] = '1'"
   ]
  },
  {
   "cell_type": "code",
   "execution_count": 4,
   "metadata": {},
   "outputs": [],
   "source": [
    "interactions = pd.read_csv('../datasets/kion/interactions.csv')\n",
    "users = pd.read_csv('../datasets/kion/users.csv')\n",
    "items = pd.read_csv('../datasets/kion/items.csv')"
   ]
  },
  {
   "cell_type": "markdown",
   "metadata": {},
   "source": [
    "# Обработка данных"
   ]
  },
  {
   "cell_type": "code",
   "execution_count": 5,
   "metadata": {},
   "outputs": [],
   "source": [
    "Columns.Datetime = 'last_watch_dt'"
   ]
  },
  {
   "cell_type": "code",
   "execution_count": 6,
   "metadata": {},
   "outputs": [],
   "source": [
    "interactions.drop(\n",
    "    interactions[interactions[Columns.Datetime].str.len() != 10].index,\n",
    "    inplace=True,\n",
    ")\n",
    "interactions[Columns.Datetime] = pd.to_datetime(\n",
    "    interactions[Columns.Datetime], format='%Y-%m-%d'\n",
    ")\n",
    "max_date = interactions[Columns.Datetime].max()\n",
    "interactions[Columns.Weight] = np.where(interactions['watched_pct'] > 10, 3, 1)"
   ]
  },
  {
   "cell_type": "code",
   "execution_count": 7,
   "metadata": {},
   "outputs": [],
   "source": [
    "# Разделяем на train и test\n",
    "train = interactions[\n",
    "    interactions[Columns.Datetime] < max_date - pd.Timedelta(days=7)\n",
    "].copy()\n",
    "test = interactions[\n",
    "    interactions[Columns.Datetime] >= max_date - pd.Timedelta(days=7)\n",
    "].copy()"
   ]
  },
  {
   "cell_type": "code",
   "execution_count": 8,
   "metadata": {},
   "outputs": [
    {
     "data": {
      "text/plain": [
       "72930"
      ]
     },
     "execution_count": 8,
     "metadata": {},
     "output_type": "execute_result"
    }
   ],
   "source": [
    "train.drop(train.query('total_dur < 300').index, inplace=True)\n",
    "cold_users = set(test[Columns.User]) - set(train[Columns.User])\n",
    "len(cold_users)"
   ]
  },
  {
   "cell_type": "code",
   "execution_count": 9,
   "metadata": {},
   "outputs": [],
   "source": [
    "# Отбрасываем холодных пользователей\n",
    "test.drop(test[test[Columns.User].isin(cold_users)].index, inplace=True)"
   ]
  },
  {
   "cell_type": "markdown",
   "metadata": {},
   "source": [
    "# Подготовка фич"
   ]
  },
  {
   "cell_type": "markdown",
   "metadata": {},
   "source": [
    "## User features"
   ]
  },
  {
   "cell_type": "code",
   "execution_count": 10,
   "metadata": {},
   "outputs": [],
   "source": [
    "users.fillna('Unknown', inplace=True)\n",
    "users = users.loc[users[Columns.User].isin(train[Columns.User])].copy()"
   ]
  },
  {
   "cell_type": "code",
   "execution_count": 11,
   "metadata": {},
   "outputs": [
    {
     "data": {
      "text/html": [
       "<div>\n",
       "<style scoped>\n",
       "    .dataframe tbody tr th:only-of-type {\n",
       "        vertical-align: middle;\n",
       "    }\n",
       "\n",
       "    .dataframe tbody tr th {\n",
       "        vertical-align: top;\n",
       "    }\n",
       "\n",
       "    .dataframe thead th {\n",
       "        text-align: right;\n",
       "    }\n",
       "</style>\n",
       "<table border=\"1\" class=\"dataframe\">\n",
       "  <thead>\n",
       "    <tr style=\"text-align: right;\">\n",
       "      <th></th>\n",
       "      <th>id</th>\n",
       "      <th>value</th>\n",
       "      <th>feature</th>\n",
       "    </tr>\n",
       "  </thead>\n",
       "  <tbody>\n",
       "    <tr>\n",
       "      <th>0</th>\n",
       "      <td>973171</td>\n",
       "      <td>М</td>\n",
       "      <td>sex</td>\n",
       "    </tr>\n",
       "    <tr>\n",
       "      <th>1</th>\n",
       "      <td>962099</td>\n",
       "      <td>М</td>\n",
       "      <td>sex</td>\n",
       "    </tr>\n",
       "    <tr>\n",
       "      <th>3</th>\n",
       "      <td>721985</td>\n",
       "      <td>Ж</td>\n",
       "      <td>sex</td>\n",
       "    </tr>\n",
       "    <tr>\n",
       "      <th>4</th>\n",
       "      <td>704055</td>\n",
       "      <td>Ж</td>\n",
       "      <td>sex</td>\n",
       "    </tr>\n",
       "    <tr>\n",
       "      <th>5</th>\n",
       "      <td>1037719</td>\n",
       "      <td>М</td>\n",
       "      <td>sex</td>\n",
       "    </tr>\n",
       "  </tbody>\n",
       "</table>\n",
       "</div>"
      ],
      "text/plain": [
       "        id value feature\n",
       "0   973171     М     sex\n",
       "1   962099     М     sex\n",
       "3   721985     Ж     sex\n",
       "4   704055     Ж     sex\n",
       "5  1037719     М     sex"
      ]
     },
     "execution_count": 11,
     "metadata": {},
     "output_type": "execute_result"
    }
   ],
   "source": [
    "user_features_frames = []\n",
    "for feature in ['sex', 'age', 'income']:\n",
    "    feature_frame = users.reindex(columns=[Columns.User, feature])\n",
    "    feature_frame.columns = ['id', 'value']\n",
    "    feature_frame['feature'] = feature\n",
    "    user_features_frames.append(feature_frame)\n",
    "user_features = pd.concat(user_features_frames)\n",
    "user_features.head()"
   ]
  },
  {
   "cell_type": "markdown",
   "metadata": {},
   "source": [
    "## Item features"
   ]
  },
  {
   "cell_type": "code",
   "execution_count": 12,
   "metadata": {},
   "outputs": [
    {
     "name": "stderr",
     "output_type": "stream",
     "text": [
      "C:\\Users\\PC\\AppData\\Local\\Temp\\ipykernel_9952\\2719428295.py:1: FutureWarning: Setting an item of incompatible dtype is deprecated and will raise an error in a future version of pandas. Value 'Unknown' has dtype incompatible with float64, please explicitly cast to a compatible dtype first.\n",
      "  items.fillna('Unknown', inplace=True)\n"
     ]
    }
   ],
   "source": [
    "items.fillna('Unknown', inplace=True)\n",
    "items = items.loc[items[Columns.Item].isin(train[Columns.Item])].copy()"
   ]
  },
  {
   "cell_type": "code",
   "execution_count": 13,
   "metadata": {},
   "outputs": [
    {
     "data": {
      "text/html": [
       "<div>\n",
       "<style scoped>\n",
       "    .dataframe tbody tr th:only-of-type {\n",
       "        vertical-align: middle;\n",
       "    }\n",
       "\n",
       "    .dataframe tbody tr th {\n",
       "        vertical-align: top;\n",
       "    }\n",
       "\n",
       "    .dataframe thead th {\n",
       "        text-align: right;\n",
       "    }\n",
       "</style>\n",
       "<table border=\"1\" class=\"dataframe\">\n",
       "  <thead>\n",
       "    <tr style=\"text-align: right;\">\n",
       "      <th></th>\n",
       "      <th>id</th>\n",
       "      <th>value</th>\n",
       "      <th>feature</th>\n",
       "    </tr>\n",
       "  </thead>\n",
       "  <tbody>\n",
       "    <tr>\n",
       "      <th>0</th>\n",
       "      <td>10711</td>\n",
       "      <td>драмы</td>\n",
       "      <td>genre</td>\n",
       "    </tr>\n",
       "    <tr>\n",
       "      <th>0</th>\n",
       "      <td>10711</td>\n",
       "      <td>зарубежные</td>\n",
       "      <td>genre</td>\n",
       "    </tr>\n",
       "    <tr>\n",
       "      <th>0</th>\n",
       "      <td>10711</td>\n",
       "      <td>детективы</td>\n",
       "      <td>genre</td>\n",
       "    </tr>\n",
       "    <tr>\n",
       "      <th>0</th>\n",
       "      <td>10711</td>\n",
       "      <td>мелодрамы</td>\n",
       "      <td>genre</td>\n",
       "    </tr>\n",
       "    <tr>\n",
       "      <th>1</th>\n",
       "      <td>2508</td>\n",
       "      <td>зарубежные</td>\n",
       "      <td>genre</td>\n",
       "    </tr>\n",
       "  </tbody>\n",
       "</table>\n",
       "</div>"
      ],
      "text/plain": [
       "      id       value feature\n",
       "0  10711       драмы   genre\n",
       "0  10711  зарубежные   genre\n",
       "0  10711   детективы   genre\n",
       "0  10711   мелодрамы   genre\n",
       "1   2508  зарубежные   genre"
      ]
     },
     "execution_count": 13,
     "metadata": {},
     "output_type": "execute_result"
    }
   ],
   "source": [
    "items['genre'] = (\n",
    "    items['genres']\n",
    "    .str.lower()\n",
    "    .str.replace(', ', ',', regex=False)\n",
    "    .str.split(',')\n",
    ")\n",
    "genre_feature = items[['item_id', 'genre']].explode('genre')\n",
    "genre_feature.columns = ['id', 'value']\n",
    "genre_feature['feature'] = 'genre'\n",
    "genre_feature.head()"
   ]
  },
  {
   "cell_type": "code",
   "execution_count": 14,
   "metadata": {},
   "outputs": [],
   "source": [
    "content_feature = items.reindex(columns=[Columns.Item, 'content_type'])\n",
    "content_feature.columns = ['id', 'value']\n",
    "content_feature['feature'] = 'content_type'"
   ]
  },
  {
   "cell_type": "code",
   "execution_count": 15,
   "metadata": {},
   "outputs": [],
   "source": [
    "countries_feature = items.reindex(columns=[Columns.Item, 'countries'])\n",
    "countries_feature.columns = ['id', 'value']\n",
    "countries_feature['feature'] = 'countries'"
   ]
  },
  {
   "cell_type": "code",
   "execution_count": 16,
   "metadata": {},
   "outputs": [],
   "source": [
    "item_features = pd.concat((genre_feature, content_feature, countries_feature))"
   ]
  },
  {
   "cell_type": "code",
   "execution_count": 17,
   "metadata": {},
   "outputs": [],
   "source": [
    "metrics_name = {\n",
    "    'Recall': Recall,\n",
    "    'MAP': MAP,\n",
    "}\n",
    "\n",
    "metrics = {}\n",
    "for metric_name, metric in metrics_name.items():\n",
    "    for k in range(1, 11):\n",
    "        metrics[f'{metric_name}@{k}'] = metric(k=k)"
   ]
  },
  {
   "cell_type": "code",
   "execution_count": 18,
   "metadata": {},
   "outputs": [],
   "source": [
    "dataset = Dataset.construct(\n",
    "    interactions_df=train,\n",
    "    user_features_df=user_features,\n",
    "    cat_user_features=['sex', 'age', 'income'],\n",
    "    item_features_df=item_features,\n",
    "    cat_item_features=['genre', 'content_type', 'countries'],\n",
    ")\n",
    "\n",
    "TEST_USERS = test[Columns.User].unique()"
   ]
  },
  {
   "cell_type": "markdown",
   "metadata": {},
   "source": [
    "# Подбор гиперпараметров"
   ]
  },
  {
   "cell_type": "markdown",
   "metadata": {},
   "source": [
    "### Подбор гиперпараметров ImplicitALS"
   ]
  },
  {
   "cell_type": "code",
   "execution_count": null,
   "metadata": {},
   "outputs": [],
   "source": [
    "def ials_objective(trial):\n",
    "    factors = trial.suggest_categorical('factors', [4, 8, 16, 32, 64])\n",
    "    regularization = trial.suggest_float('regularization', 0.001, 0.1, log=True)\n",
    "    iterations = trial.suggest_categorical('iterations', [1, 3, 5, 10, 15])\n",
    "\n",
    "    model = ImplicitALSWrapperModel(\n",
    "        model=AlternatingLeastSquares(\n",
    "            factors=factors,\n",
    "            regularization=regularization,\n",
    "            iterations=iterations,\n",
    "            random_state=42,\n",
    "            num_threads=4,\n",
    "            use_gpu=False,\n",
    "        ),\n",
    "        fit_features_together=True,\n",
    "    )\n",
    "\n",
    "    model.fit(dataset)\n",
    "    recos = model.recommend(\n",
    "        users=TEST_USERS,\n",
    "        dataset=dataset,\n",
    "        k=10,\n",
    "        filter_viewed=True,\n",
    "    )\n",
    "\n",
    "    map10 = calc_metrics(metrics, recos, test, train)['MAP@10']\n",
    "    return map10"
   ]
  },
  {
   "cell_type": "code",
   "execution_count": null,
   "metadata": {},
   "outputs": [],
   "source": [
    "study = optuna.create_study(direction='maximize')\n",
    "study.optimize(ials_objective, n_trials=20)"
   ]
  },
  {
   "cell_type": "code",
   "execution_count": null,
   "metadata": {},
   "outputs": [],
   "source": [
    "print(f'Best MAP@10 value: {study.best_value}')\n",
    "print(f'Best parameters: {study.best_params}')"
   ]
  },
  {
   "cell_type": "code",
   "execution_count": null,
   "metadata": {},
   "outputs": [],
   "source": [
    "# Best MAP@10 value: 0.075254069127234\n",
    "# Best parameters: {'factors': 32, 'regularization': 0.01883534498756549, 'iterations': 5}"
   ]
  },
  {
   "cell_type": "markdown",
   "metadata": {},
   "source": [
    "### Подбор гиперпараметров LightFM"
   ]
  },
  {
   "cell_type": "code",
   "execution_count": 19,
   "metadata": {},
   "outputs": [],
   "source": [
    "def lfm_objective(trial):\n",
    "\n",
    "    no_components = trial.suggest_categorical('no_components', [8, 16, 32, 64, 128])\n",
    "    learning_rate = trial.suggest_float('learning_rate', 0.005, 0.05, log=True)\n",
    "    rho = trial.suggest_float('rho', 0.9, 0.99, log=True)\n",
    "    epsilon = trial.suggest_float('epsilon', 1e-6, 1e-5, log=True)\n",
    "\n",
    "    model = LightFMWrapperModel(\n",
    "        LightFM(\n",
    "            no_components=no_components,\n",
    "            learning_rate=learning_rate,\n",
    "            rho=rho,\n",
    "            epsilon=epsilon,\n",
    "            user_alpha=0,\n",
    "            item_alpha=0,\n",
    "            random_state=42,\n",
    "        ),\n",
    "        epochs=1,\n",
    "        num_threads=16,\n",
    "    )\n",
    "    model.fit(dataset)\n",
    "    recos = model.recommend(\n",
    "        users=TEST_USERS,\n",
    "        dataset=dataset,\n",
    "        k=10,\n",
    "        filter_viewed=True,\n",
    "    )\n",
    "\n",
    "    map10 = calc_metrics(metrics, recos, test, train)['MAP@10']\n",
    "    return map10"
   ]
  },
  {
   "cell_type": "code",
   "execution_count": 20,
   "metadata": {},
   "outputs": [
    {
     "name": "stderr",
     "output_type": "stream",
     "text": [
      "[I 2025-01-25 14:26:07,868] A new study created in memory with name: no-name-e3bad160-2073-4f62-92cc-c1c573916219\n",
      "[I 2025-01-25 14:26:45,009] Trial 0 finished with value: 0.0002382267634487237 and parameters: {'no_components': 16, 'learning_rate': 0.04295147490032618, 'rho': 0.921676231757281, 'epsilon': 2.6737107619409933e-06}. Best is trial 0 with value: 0.0002382267634487237.\n",
      "[I 2025-01-25 14:27:37,290] Trial 1 finished with value: 0.00023863222720477706 and parameters: {'no_components': 32, 'learning_rate': 0.025066398765681862, 'rho': 0.9192331449196115, 'epsilon': 9.930421332822e-06}. Best is trial 1 with value: 0.00023863222720477706.\n",
      "[I 2025-01-25 14:29:04,851] Trial 2 finished with value: 0.00024089281338128088 and parameters: {'no_components': 64, 'learning_rate': 0.011401635979739495, 'rho': 0.9256017349342114, 'epsilon': 3.0173627011991097e-06}. Best is trial 2 with value: 0.00024089281338128088.\n",
      "[I 2025-01-25 14:30:01,359] Trial 3 finished with value: 0.00023825152984541584 and parameters: {'no_components': 32, 'learning_rate': 0.010224485783967266, 'rho': 0.925054670380781, 'epsilon': 5.956267070972376e-06}. Best is trial 2 with value: 0.00024089281338128088.\n",
      "[I 2025-01-25 14:30:54,110] Trial 4 finished with value: 0.00023856939348258495 and parameters: {'no_components': 32, 'learning_rate': 0.01971519770262919, 'rho': 0.9606907215457827, 'epsilon': 1.1133255035918523e-06}. Best is trial 2 with value: 0.00024089281338128088.\n",
      "[I 2025-01-25 14:32:15,341] Trial 5 finished with value: 0.0002390727069754242 and parameters: {'no_components': 64, 'learning_rate': 0.0420128732389192, 'rho': 0.9660758984116249, 'epsilon': 6.781129321898719e-06}. Best is trial 2 with value: 0.00024089281338128088.\n",
      "[I 2025-01-25 14:32:55,151] Trial 6 finished with value: 0.0002375571523190998 and parameters: {'no_components': 16, 'learning_rate': 0.00961088441797372, 'rho': 0.9558832469215672, 'epsilon': 1.9005523181481333e-06}. Best is trial 2 with value: 0.00024089281338128088.\n",
      "[I 2025-01-25 14:35:17,615] Trial 7 finished with value: 0.00023851670682111954 and parameters: {'no_components': 128, 'learning_rate': 0.01981823545821247, 'rho': 0.9782745036379575, 'epsilon': 9.162776622904091e-06}. Best is trial 2 with value: 0.00024089281338128088.\n",
      "[I 2025-01-25 14:35:52,990] Trial 8 finished with value: 0.0002382267634487237 and parameters: {'no_components': 16, 'learning_rate': 0.04353847328485608, 'rho': 0.9223940662119322, 'epsilon': 2.4715276731449132e-06}. Best is trial 2 with value: 0.00024089281338128088.\n",
      "[I 2025-01-25 14:36:48,724] Trial 9 finished with value: 0.00023837446538883515 and parameters: {'no_components': 32, 'learning_rate': 0.007431521001733955, 'rho': 0.9673950454699292, 'epsilon': 1.0313165308077831e-06}. Best is trial 2 with value: 0.00024089281338128088.\n",
      "[I 2025-01-25 14:38:17,305] Trial 10 finished with value: 0.0002440263765523988 and parameters: {'no_components': 64, 'learning_rate': 0.005252798957755045, 'rho': 0.9029904839042515, 'epsilon': 4.386794930946785e-06}. Best is trial 10 with value: 0.0002440263765523988.\n",
      "[I 2025-01-25 14:39:54,101] Trial 11 finished with value: 0.0002436797842888677 and parameters: {'no_components': 64, 'learning_rate': 0.005146962961412763, 'rho': 0.9002331702260036, 'epsilon': 4.539752762983177e-06}. Best is trial 10 with value: 0.0002440263765523988.\n",
      "[I 2025-01-25 14:40:27,619] Trial 12 finished with value: 0.00023490826340211846 and parameters: {'no_components': 8, 'learning_rate': 0.005063699696525805, 'rho': 0.900026399623684, 'epsilon': 4.515381844494101e-06}. Best is trial 10 with value: 0.0002440263765523988.\n"
     ]
    }
   ],
   "source": [
    "study = optuna.create_study(direction='maximize')\n",
    "study.optimize(lfm_objective, n_trials=30)"
   ]
  },
  {
   "cell_type": "markdown",
   "metadata": {},
   "source": [
    "# Лучшая модель"
   ]
  },
  {
   "cell_type": "code",
   "execution_count": null,
   "metadata": {},
   "outputs": [],
   "source": [
    "dataset = Dataset.construct(\n",
    "    interactions_df=interactions,\n",
    "    user_features_df=user_features,\n",
    "    cat_user_features=['sex', 'age', 'income'],\n",
    "    item_features_df=item_features,\n",
    "    cat_item_features=['genre', 'content_type', 'countries'],\n",
    ")\n",
    "\n",
    "TEST_USERS = test[Columns.User].unique()"
   ]
  },
  {
   "cell_type": "code",
   "execution_count": null,
   "metadata": {},
   "outputs": [],
   "source": [
    "model = ImplicitALSWrapperModel(\n",
    "    model=AlternatingLeastSquares(\n",
    "        factors=32,\n",
    "        regularization=0.01883534498756549,\n",
    "        iterations=5,\n",
    "        random_state=42,\n",
    "        num_threads=4,\n",
    "        use_gpu=False,\n",
    "    ),\n",
    "    fit_features_together=True,\n",
    ")"
   ]
  },
  {
   "cell_type": "markdown",
   "metadata": {},
   "source": [
    "# Искусственные пользователи"
   ]
  },
  {
   "cell_type": "markdown",
   "metadata": {},
   "source": [
    "Егор - любитель фильмов Квентина Тарантино"
   ]
  },
  {
   "cell_type": "code",
   "execution_count": null,
   "metadata": {},
   "outputs": [],
   "source": [
    "users = pd.concat(\n",
    "    [\n",
    "        users,\n",
    "        pd.DataFrame([\n",
    "            {\n",
    "                'user_id': 1100000,\n",
    "                'age': 'age_18_24',\n",
    "                'income': 'income_60_90',\n",
    "                'sex': 'М',\n",
    "                'kids_flg': 0,\n",
    "            }\n",
    "        ]),\n",
    "    ],\n",
    "    ignore_index=True,\n",
    ")\n"
   ]
  },
  {
   "cell_type": "code",
   "execution_count": null,
   "metadata": {},
   "outputs": [],
   "source": [
    "users.iloc[-1]"
   ]
  },
  {
   "cell_type": "code",
   "execution_count": null,
   "metadata": {},
   "outputs": [],
   "source": [
    "items.loc[\n",
    "    items['item_id'].isin([14804, 7693, 11115, 8148, 16382, 4072, 898, 13715]),\n",
    "    ['item_id', 'title', 'content_type', 'countries', 'genre'],\n",
    "]"
   ]
  },
  {
   "cell_type": "code",
   "execution_count": null,
   "metadata": {},
   "outputs": [],
   "source": [
    "first_items = [14804, 7693, 11115, 8148, 16382, 4072, 898, 13715]\n",
    "first_num_items = len(first_items)\n",
    "first_avatar = pd.DataFrame({\n",
    "    'user_id': np.full(first_num_items, fill_value=1100000),\n",
    "    'item_id': first_items,\n",
    "    'last_watch_dt': np.full(first_num_items, fill_value='2021-05-29'),\n",
    "    'total_dur': np.full(first_num_items, fill_value=np.nan),\n",
    "    'watched_pct': first_num_items * [100.0],\n",
    "    'weight': [3, 3, 3, 3, 3, 1, 3, 3],\n",
    "})\n",
    "\n",
    "first_avatar[Columns.Datetime] = pd.to_datetime(\n",
    "    first_avatar[Columns.Datetime], format='%Y-%m-%d'\n",
    ")"
   ]
  },
  {
   "cell_type": "code",
   "execution_count": null,
   "metadata": {},
   "outputs": [],
   "source": [
    "avatars = pd.concat([first_avatar])\n",
    "train = pd.concat([train, avatars], ignore_index=True)"
   ]
  },
  {
   "cell_type": "code",
   "execution_count": null,
   "metadata": {},
   "outputs": [],
   "source": [
    "# Соберем датасет\n",
    "dataset = Dataset.construct(\n",
    "    interactions_df=train,\n",
    "    user_features_df=user_features,\n",
    "    cat_user_features=['sex', 'age', 'income'],\n",
    "    item_features_df=item_features,\n",
    "    cat_item_features=['genre', 'content_type', 'countries'],\n",
    ")\n",
    "\n",
    "avatars_ids = avatars['user_id'].unique()"
   ]
  },
  {
   "cell_type": "code",
   "execution_count": null,
   "metadata": {},
   "outputs": [],
   "source": [
    "model.fit(dataset)"
   ]
  },
  {
   "cell_type": "code",
   "execution_count": null,
   "metadata": {},
   "outputs": [],
   "source": [
    "recos = model.recommend(\n",
    "    users=avatars_ids,\n",
    "    dataset=dataset,\n",
    "    k=10,\n",
    "    filter_viewed=True,\n",
    ")"
   ]
  },
  {
   "cell_type": "code",
   "execution_count": null,
   "metadata": {},
   "outputs": [],
   "source": [
    "recs = recos.merge(\n",
    "    items[['item_id', 'title', 'content_type', 'countries', 'genre']],\n",
    "    on='item_id',\n",
    ").sort_values(['user_id', 'rank'])"
   ]
  },
  {
   "cell_type": "code",
   "execution_count": null,
   "metadata": {},
   "outputs": [],
   "source": [
    "# Рекомендации для пользователя, смотревшего только сериалы\n",
    "recs[recs['user_id'] == avatars_ids[0]]"
   ]
  }
 ],
 "metadata": {
  "kernelspec": {
   "display_name": ".venv",
   "language": "python",
   "name": "python3"
  },
  "language_info": {
   "codemirror_mode": {
    "name": "ipython",
    "version": 3
   },
   "file_extension": ".py",
   "mimetype": "text/x-python",
   "name": "python",
   "nbconvert_exporter": "python",
   "pygments_lexer": "ipython3",
   "version": "3.10.7"
  }
 },
 "nbformat": 4,
 "nbformat_minor": 2
}

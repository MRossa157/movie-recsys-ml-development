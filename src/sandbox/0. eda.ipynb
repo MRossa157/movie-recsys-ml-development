{
 "cells": [
  {
   "cell_type": "code",
   "execution_count": 1,
   "metadata": {},
   "outputs": [],
   "source": [
    "import re\n",
    "\n",
    "import numpy as np\n",
    "import pandas as pd\n"
   ]
  },
  {
   "cell_type": "code",
   "execution_count": 2,
   "metadata": {},
   "outputs": [],
   "source": [
    "dataset_name = 'ml-latest-small'"
   ]
  },
  {
   "cell_type": "code",
   "execution_count": 3,
   "metadata": {},
   "outputs": [],
   "source": [
    "links = pd.read_csv(rf\"../datasets/{dataset_name}/links.csv\")\n",
    "movies = pd.read_csv(rf\"../datasets/{dataset_name}/movies.csv\")\n",
    "ratings = pd.read_csv(rf\"../datasets/{dataset_name}/ratings.csv\")\n",
    "tags = pd.read_csv(rf\"../datasets/{dataset_name}/tags.csv\")"
   ]
  },
  {
   "cell_type": "code",
   "execution_count": null,
   "metadata": {},
   "outputs": [
    {
     "name": "stdout",
     "output_type": "stream",
     "text": [
      "\n",
      "=== Links.csv ===\n",
      "\n",
      "Пример данных:\n",
      "      movieId   imdbId   tmdbId\n",
      "7380    79274  1569923  40662.0\n",
      "5110     8132   104346  16219.0\n",
      "5068     7944    58404  14703.0\n",
      "4909     7361   338013     38.0\n",
      "7218    73160    96142  27390.0\n",
      "\n",
      "Описание данных (describe):\n",
      "             movieId        imdbId         tmdbId\n",
      "count    9742.000000  9.742000e+03    9734.000000\n",
      "mean    42200.353623  6.771839e+05   55162.123793\n",
      "std     52160.494854  1.107228e+06   93653.481487\n",
      "min         1.000000  4.170000e+02       2.000000\n",
      "25%      3248.250000  9.518075e+04    9665.500000\n",
      "50%      7300.000000  1.672605e+05   16529.000000\n",
      "75%     76232.000000  8.055685e+05   44205.750000\n",
      "max    193609.000000  8.391976e+06  525662.000000\n",
      "\n",
      "Размерность данных (shape):\n",
      "Строк: 9742, Столбцов: 3\n",
      "----------------------------------------\n",
      "\n",
      "=== Movies.csv ===\n",
      "\n",
      "Пример данных:\n",
      "      movieId                                              title  \\\n",
      "468       535                                  Short Cuts (1993)   \n",
      "942      1243       Rosencrantz and Guildenstern Are Dead (1990)   \n",
      "3252     4395  Big Deal on Madonna Street (I Soliti Ignoti) (...   \n",
      "2654     3552                                  Caddyshack (1980)   \n",
      "1385     1897                                    High Art (1998)   \n",
      "\n",
      "             genres  \n",
      "468           Drama  \n",
      "942    Comedy|Drama  \n",
      "3252   Comedy|Crime  \n",
      "2654         Comedy  \n",
      "1385  Drama|Romance  \n",
      "\n",
      "Описание данных (describe):\n",
      "             movieId\n",
      "count    9742.000000\n",
      "mean    42200.353623\n",
      "std     52160.494854\n",
      "min         1.000000\n",
      "25%      3248.250000\n",
      "50%      7300.000000\n",
      "75%     76232.000000\n",
      "max    193609.000000\n",
      "\n",
      "Размерность данных (shape):\n",
      "Строк: 9742, Столбцов: 3\n",
      "----------------------------------------\n",
      "\n",
      "=== Ratings.csv ===\n",
      "\n",
      "Пример данных:\n",
      "       userId  movieId  rating   timestamp\n",
      "46694     306   115664     4.5  1518380553\n",
      "61981     410     3925     5.0   990909822\n",
      "59446     387     1263     5.0  1094877128\n",
      "31157     217     1590     2.0   955941385\n",
      "8759       61      318     5.0  1145532707\n",
      "\n",
      "Описание данных (describe):\n",
      "              userId        movieId         rating     timestamp\n",
      "count  100836.000000  100836.000000  100836.000000  1.008360e+05\n",
      "mean      326.127564   19435.295718       3.501557  1.205946e+09\n",
      "std       182.618491   35530.987199       1.042529  2.162610e+08\n",
      "min         1.000000       1.000000       0.500000  8.281246e+08\n",
      "25%       177.000000    1199.000000       3.000000  1.019124e+09\n",
      "50%       325.000000    2991.000000       3.500000  1.186087e+09\n",
      "75%       477.000000    8122.000000       4.000000  1.435994e+09\n",
      "max       610.000000  193609.000000       5.000000  1.537799e+09\n",
      "\n",
      "Размерность данных (shape):\n",
      "Строк: 100836, Столбцов: 4\n",
      "----------------------------------------\n",
      "\n",
      "=== Tags.csv ===\n",
      "\n",
      "Пример данных:\n",
      "      userId  movieId           tag   timestamp\n",
      "429      119   120635        murder  1438439306\n",
      "211       62    61024  Stoner Movie  1528934219\n",
      "1376     474     1259  Stephen King  1137181838\n",
      "288       62   114180      thriller  1525554471\n",
      "3261     567   139644       tension  1525286565\n",
      "\n",
      "Описание данных (describe):\n",
      "            userId        movieId     timestamp\n",
      "count  3683.000000    3683.000000  3.683000e+03\n",
      "mean    431.149335   27252.013576  1.320032e+09\n",
      "std     158.472553   43490.558803  1.721025e+08\n",
      "min       2.000000       1.000000  1.137179e+09\n",
      "25%     424.000000    1262.500000  1.137521e+09\n",
      "50%     474.000000    4454.000000  1.269833e+09\n",
      "75%     477.000000   39263.000000  1.498457e+09\n",
      "max     610.000000  193565.000000  1.537099e+09\n",
      "\n",
      "Размерность данных (shape):\n",
      "Строк: 3683, Столбцов: 4\n",
      "----------------------------------------\n"
     ]
    }
   ],
   "source": [
    "def describe_dataset(name, df: pd.DataFrame):\n",
    "    print(f\"\\n=== {name} ===\")\n",
    "    print(\"\\nПример данных:\")\n",
    "    print(df.sample(5))\n",
    "    print(\"\\nОписание данных (describe):\")\n",
    "    print(df.describe())\n",
    "    print(\"\\nРазмерность данных (shape):\")\n",
    "    print(f\"Строк: {df.shape[0]}, Столбцов: {df.shape[1]}\")\n",
    "    print(\"-\" * 40)\n",
    "\n",
    "describe_dataset(\"Links.csv\", links)\n",
    "describe_dataset(\"Movies.csv\", movies)\n",
    "describe_dataset(\"Ratings.csv\", ratings)\n",
    "describe_dataset(\"Tags.csv\", tags)"
   ]
  },
  {
   "cell_type": "code",
   "execution_count": null,
   "metadata": {},
   "outputs": [],
   "source": [
    "len(ratings)"
   ]
  },
  {
   "cell_type": "code",
   "execution_count": null,
   "metadata": {},
   "outputs": [],
   "source": [
    "movies = pd.read_csv(r\"..\\MovieLens_20M_Dataset\\movie.csv\")"
   ]
  },
  {
   "cell_type": "code",
   "execution_count": null,
   "metadata": {},
   "outputs": [],
   "source": [
    "movies.head()"
   ]
  },
  {
   "cell_type": "code",
   "execution_count": null,
   "metadata": {},
   "outputs": [],
   "source": [
    "len(movies)"
   ]
  },
  {
   "cell_type": "code",
   "execution_count": null,
   "metadata": {},
   "outputs": [],
   "source": [
    "def get_release_date_from_title(title: str) -> int | None:\n",
    "    match = re.search(r\"\\((\\d{4})\\)\", title)\n",
    "    if match:\n",
    "        return int(match.group(1))\n",
    "    return None"
   ]
  },
  {
   "cell_type": "code",
   "execution_count": null,
   "metadata": {},
   "outputs": [],
   "source": [
    "movies[\"release_date\"] = movies[\"title\"].apply(get_release_date_from_title)"
   ]
  },
  {
   "cell_type": "code",
   "execution_count": null,
   "metadata": {},
   "outputs": [],
   "source": [
    "movies[\"release_date\"].max()"
   ]
  },
  {
   "cell_type": "code",
   "execution_count": null,
   "metadata": {},
   "outputs": [],
   "source": [
    "movies[\"release_date\"].min()"
   ]
  }
 ],
 "metadata": {
  "kernelspec": {
   "display_name": "Python 3",
   "language": "python",
   "name": "python3"
  },
  "language_info": {
   "codemirror_mode": {
    "name": "ipython",
    "version": 3
   },
   "file_extension": ".py",
   "mimetype": "text/x-python",
   "name": "python",
   "nbconvert_exporter": "python",
   "pygments_lexer": "ipython3",
   "version": "3.12.7"
  }
 },
 "nbformat": 4,
 "nbformat_minor": 2
}

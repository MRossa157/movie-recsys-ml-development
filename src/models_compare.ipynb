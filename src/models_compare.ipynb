{
 "cells": [
  {
   "cell_type": "code",
   "execution_count": 1,
   "metadata": {},
   "outputs": [
    {
     "name": "stderr",
     "output_type": "stream",
     "text": [
      "c:\\Users\\PC\\Desktop\\диплом\\movie-recsys-service\\ml_development\\.venv\\lib\\site-packages\\lightfm\\_lightfm_fast.py:9: UserWarning: LightFM was compiled without OpenMP support. Only a single thread will be used.\n",
      "  warnings.warn(\n",
      "Seed set to 42\n"
     ]
    },
    {
     "data": {
      "text/plain": [
       "42"
      ]
     },
     "execution_count": 1,
     "metadata": {},
     "output_type": "execute_result"
    }
   ],
   "source": [
    "import os\n",
    "import warnings\n",
    "\n",
    "import numpy as np\n",
    "import pandas as pd\n",
    "import torch\n",
    "from implicit.als import AlternatingLeastSquares\n",
    "from lightfm import LightFM\n",
    "from lightning_fabric import seed_everything\n",
    "from rectools import Columns\n",
    "from rectools.dataset import Dataset\n",
    "from rectools.metrics import (\n",
    "    MAP,\n",
    "    AvgRecPopularity,\n",
    "    CoveredUsers,\n",
    "    HitRate,\n",
    "    Intersection,\n",
    "    Recall,\n",
    "    Serendipity,\n",
    ")\n",
    "from rectools.model_selection import TimeRangeSplitter, cross_validate\n",
    "from rectools.models import (\n",
    "    BERT4RecModel,\n",
    "    EASEModel,\n",
    "    ImplicitALSWrapperModel,\n",
    "    LightFMWrapperModel,\n",
    "    PopularModel,\n",
    "    SASRecModel,\n",
    ")\n",
    "\n",
    "os.environ['OPENBLAS_NUM_THREADS'] = '1'\n",
    "# Enable deterministic behaviour with CUDA >= 10.2\n",
    "os.environ['CUBLAS_WORKSPACE_CONFIG'] = ':4096:8'\n",
    "\n",
    "warnings.filterwarnings(action='ignore', category=UserWarning)\n",
    "\n",
    "\n",
    "RANDOM_STATE = 42\n",
    "torch.use_deterministic_algorithms(True)\n",
    "seed_everything(RANDOM_STATE, workers=True)"
   ]
  },
  {
   "cell_type": "code",
   "execution_count": 2,
   "metadata": {},
   "outputs": [
    {
     "data": {
      "text/plain": [
       "True"
      ]
     },
     "execution_count": 2,
     "metadata": {},
     "output_type": "execute_result"
    }
   ],
   "source": [
    "torch.cuda.is_available()"
   ]
  },
  {
   "cell_type": "code",
   "execution_count": 3,
   "metadata": {},
   "outputs": [],
   "source": [
    "from enum import Enum\n",
    "\n",
    "\n",
    "class ItemsFeatureTopKConfig(int, Enum):\n",
    "    \"\"\"Конфигурация для ограничения количества топовых значений фич.\"\"\"\n",
    "\n",
    "    DIRECTORS_TOP_K = 30\n",
    "    STUDIOS_TOP_K = 15\n"
   ]
  },
  {
   "cell_type": "code",
   "execution_count": 4,
   "metadata": {},
   "outputs": [],
   "source": [
    "interactions = pd.read_csv(r'../datasets/interactions_processed.csv')\n",
    "users = pd.read_csv(r'../datasets/users_processed.csv')\n",
    "items = pd.read_csv(r'../datasets/items_processed.csv')"
   ]
  },
  {
   "cell_type": "markdown",
   "metadata": {},
   "source": [
    "# Обработка данных"
   ]
  },
  {
   "cell_type": "code",
   "execution_count": 5,
   "metadata": {},
   "outputs": [],
   "source": [
    "Columns.Datetime = 'last_watch_dt'"
   ]
  },
  {
   "cell_type": "code",
   "execution_count": 6,
   "metadata": {},
   "outputs": [],
   "source": [
    "interactions.drop(\n",
    "    interactions[interactions[Columns.Datetime].str.len() != 10].index,\n",
    "    inplace=True,\n",
    ")\n",
    "interactions[Columns.Datetime] = pd.to_datetime(\n",
    "    interactions[Columns.Datetime], format='%Y-%m-%d'\n",
    ")\n",
    "max_date = interactions[Columns.Datetime].max()\n",
    "interactions[Columns.Weight] = np.where(interactions['watched_pct'] > 20, 3, 1)"
   ]
  },
  {
   "cell_type": "code",
   "execution_count": 7,
   "metadata": {},
   "outputs": [],
   "source": [
    "# Разделяем на train и test\n",
    "train = interactions[\n",
    "    interactions[Columns.Datetime] < max_date - pd.Timedelta(days=7)\n",
    "].copy()\n",
    "test = interactions[\n",
    "    interactions[Columns.Datetime] >= max_date - pd.Timedelta(days=7)\n",
    "].copy()"
   ]
  },
  {
   "cell_type": "code",
   "execution_count": 8,
   "metadata": {},
   "outputs": [
    {
     "data": {
      "text/plain": [
       "72930"
      ]
     },
     "execution_count": 8,
     "metadata": {},
     "output_type": "execute_result"
    }
   ],
   "source": [
    "train.drop(train.query('total_dur < 300').index, inplace=True)\n",
    "cold_users = set(test[Columns.User]) - set(train[Columns.User])\n",
    "len(cold_users)"
   ]
  },
  {
   "cell_type": "code",
   "execution_count": 9,
   "metadata": {},
   "outputs": [],
   "source": [
    "# Отбрасываем холодных пользователей\n",
    "test.drop(test[test[Columns.User].isin(cold_users)].index, inplace=True)"
   ]
  },
  {
   "cell_type": "markdown",
   "metadata": {},
   "source": [
    "# Подготовка фич"
   ]
  },
  {
   "cell_type": "markdown",
   "metadata": {},
   "source": [
    "## User features"
   ]
  },
  {
   "cell_type": "code",
   "execution_count": 10,
   "metadata": {},
   "outputs": [],
   "source": [
    "users = users.loc[users[Columns.User].isin(train[Columns.User])].copy()"
   ]
  },
  {
   "cell_type": "code",
   "execution_count": 11,
   "metadata": {},
   "outputs": [
    {
     "data": {
      "text/html": [
       "<div>\n",
       "<style scoped>\n",
       "    .dataframe tbody tr th:only-of-type {\n",
       "        vertical-align: middle;\n",
       "    }\n",
       "\n",
       "    .dataframe tbody tr th {\n",
       "        vertical-align: top;\n",
       "    }\n",
       "\n",
       "    .dataframe thead th {\n",
       "        text-align: right;\n",
       "    }\n",
       "</style>\n",
       "<table border=\"1\" class=\"dataframe\">\n",
       "  <thead>\n",
       "    <tr style=\"text-align: right;\">\n",
       "      <th></th>\n",
       "      <th>id</th>\n",
       "      <th>value</th>\n",
       "      <th>feature</th>\n",
       "    </tr>\n",
       "  </thead>\n",
       "  <tbody>\n",
       "    <tr>\n",
       "      <th>0</th>\n",
       "      <td>973171</td>\n",
       "      <td>М</td>\n",
       "      <td>sex</td>\n",
       "    </tr>\n",
       "    <tr>\n",
       "      <th>1</th>\n",
       "      <td>962099</td>\n",
       "      <td>М</td>\n",
       "      <td>sex</td>\n",
       "    </tr>\n",
       "    <tr>\n",
       "      <th>3</th>\n",
       "      <td>721985</td>\n",
       "      <td>Ж</td>\n",
       "      <td>sex</td>\n",
       "    </tr>\n",
       "    <tr>\n",
       "      <th>4</th>\n",
       "      <td>704055</td>\n",
       "      <td>Ж</td>\n",
       "      <td>sex</td>\n",
       "    </tr>\n",
       "    <tr>\n",
       "      <th>5</th>\n",
       "      <td>1037719</td>\n",
       "      <td>М</td>\n",
       "      <td>sex</td>\n",
       "    </tr>\n",
       "  </tbody>\n",
       "</table>\n",
       "</div>"
      ],
      "text/plain": [
       "        id value feature\n",
       "0   973171     М     sex\n",
       "1   962099     М     sex\n",
       "3   721985     Ж     sex\n",
       "4   704055     Ж     sex\n",
       "5  1037719     М     sex"
      ]
     },
     "execution_count": 11,
     "metadata": {},
     "output_type": "execute_result"
    }
   ],
   "source": [
    "user_features_frames = []\n",
    "for feature in ['sex', 'age', 'income']:\n",
    "    feature_frame = users.reindex(columns=[Columns.User, feature])\n",
    "    feature_frame.columns = ['id', 'value']\n",
    "    feature_frame['feature'] = feature\n",
    "    user_features_frames.append(feature_frame)\n",
    "user_features = pd.concat(user_features_frames)\n",
    "user_features.head()"
   ]
  },
  {
   "cell_type": "markdown",
   "metadata": {},
   "source": [
    "## Item features"
   ]
  },
  {
   "cell_type": "code",
   "execution_count": 12,
   "metadata": {},
   "outputs": [],
   "source": [
    "items = items.loc[items[Columns.Item].isin(train[Columns.Item])].copy()"
   ]
  },
  {
   "cell_type": "code",
   "execution_count": 13,
   "metadata": {},
   "outputs": [
    {
     "data": {
      "text/html": [
       "<div>\n",
       "<style scoped>\n",
       "    .dataframe tbody tr th:only-of-type {\n",
       "        vertical-align: middle;\n",
       "    }\n",
       "\n",
       "    .dataframe tbody tr th {\n",
       "        vertical-align: top;\n",
       "    }\n",
       "\n",
       "    .dataframe thead th {\n",
       "        text-align: right;\n",
       "    }\n",
       "</style>\n",
       "<table border=\"1\" class=\"dataframe\">\n",
       "  <thead>\n",
       "    <tr style=\"text-align: right;\">\n",
       "      <th></th>\n",
       "      <th>id</th>\n",
       "      <th>value</th>\n",
       "      <th>feature</th>\n",
       "    </tr>\n",
       "  </thead>\n",
       "  <tbody>\n",
       "    <tr>\n",
       "      <th>0</th>\n",
       "      <td>10711</td>\n",
       "      <td>драмы</td>\n",
       "      <td>genre</td>\n",
       "    </tr>\n",
       "    <tr>\n",
       "      <th>0</th>\n",
       "      <td>10711</td>\n",
       "      <td>зарубежные</td>\n",
       "      <td>genre</td>\n",
       "    </tr>\n",
       "    <tr>\n",
       "      <th>0</th>\n",
       "      <td>10711</td>\n",
       "      <td>детективы</td>\n",
       "      <td>genre</td>\n",
       "    </tr>\n",
       "    <tr>\n",
       "      <th>0</th>\n",
       "      <td>10711</td>\n",
       "      <td>мелодрамы</td>\n",
       "      <td>genre</td>\n",
       "    </tr>\n",
       "    <tr>\n",
       "      <th>1</th>\n",
       "      <td>2508</td>\n",
       "      <td>зарубежные</td>\n",
       "      <td>genre</td>\n",
       "    </tr>\n",
       "  </tbody>\n",
       "</table>\n",
       "</div>"
      ],
      "text/plain": [
       "      id       value feature\n",
       "0  10711       драмы   genre\n",
       "0  10711  зарубежные   genre\n",
       "0  10711   детективы   genre\n",
       "0  10711   мелодрамы   genre\n",
       "1   2508  зарубежные   genre"
      ]
     },
     "execution_count": 13,
     "metadata": {},
     "output_type": "execute_result"
    }
   ],
   "source": [
    "items['genre'] = (\n",
    "    items['genres'].str.replace(', ', ',', regex=False).str.split(',')\n",
    ")\n",
    "genre_feature = items[[Columns.Item, 'genre']].explode('genre')\n",
    "genre_feature.columns = ['id', 'value']\n",
    "genre_feature['feature'] = 'genre'\n",
    "genre_feature.head()"
   ]
  },
  {
   "cell_type": "code",
   "execution_count": 14,
   "metadata": {},
   "outputs": [],
   "source": [
    "content_feature = items.reindex(columns=[Columns.Item, 'content_type'])\n",
    "content_feature.columns = ['id', 'value']\n",
    "content_feature['feature'] = 'content_type'"
   ]
  },
  {
   "cell_type": "code",
   "execution_count": 15,
   "metadata": {},
   "outputs": [],
   "source": [
    "countries_feature = items.reindex(columns=[Columns.Item, 'countries'])\n",
    "countries_feature.columns = ['id', 'value']\n",
    "countries_feature['feature'] = 'countries'"
   ]
  },
  {
   "cell_type": "code",
   "execution_count": 16,
   "metadata": {},
   "outputs": [],
   "source": [
    "release_decade_feature = items.reindex(columns=[Columns.Item, 'release_decade'])\n",
    "release_decade_feature.columns = ['id', 'value']\n",
    "release_decade_feature['feature'] = 'release_decade'"
   ]
  },
  {
   "cell_type": "code",
   "execution_count": 17,
   "metadata": {},
   "outputs": [
    {
     "data": {
      "text/plain": [
       "value\n",
       "2010.0s                 8091\n",
       "2000.0s                 1955\n",
       "2020.0s                 1682\n",
       "1980.0s                  613\n",
       "1990.0s                  572\n",
       "1970.0s                  467\n",
       "1960.0s                  270\n",
       "1950.0s                  143\n",
       "1940.0s                   91\n",
       "1930.0s                   80\n",
       "release_year_unknown      31\n",
       "1920.0s                   17\n",
       "1910.0s                    6\n",
       "Name: count, dtype: int64"
      ]
     },
     "execution_count": 17,
     "metadata": {},
     "output_type": "execute_result"
    }
   ],
   "source": [
    "release_decade_feature['value'].value_counts()"
   ]
  },
  {
   "cell_type": "code",
   "execution_count": 18,
   "metadata": {},
   "outputs": [],
   "source": [
    "age_rating_feature = items.reindex(columns=[Columns.Item, 'age_rating'])\n",
    "age_rating_feature.columns = ['id', 'value']\n",
    "age_rating_feature['feature'] = 'age_rating'"
   ]
  },
  {
   "cell_type": "markdown",
   "metadata": {},
   "source": [
    "Берем только ТОП-K студий, а остальные заменяем на 'other_studio'. 'other_studio' и 'unknown_studio' - **разные** вещи!"
   ]
  },
  {
   "cell_type": "code",
   "execution_count": 19,
   "metadata": {},
   "outputs": [],
   "source": [
    "def replace_rare_studios(studio_list):\n",
    "    return [\n",
    "        studio if studio in top_studios else 'other_studio'\n",
    "        for studio in studio_list\n",
    "    ]\n",
    "\n",
    "\n",
    "items['studio'] = items['studios'].str.split(r',\\s*')\n",
    "top_studios = (\n",
    "    items['studio']\n",
    "    .explode()\n",
    "    .value_counts()\n",
    "    .head(ItemsFeatureTopKConfig.STUDIOS_TOP_K)\n",
    "    .index\n",
    ")\n",
    "items['studio'] = items['studio'].apply(replace_rare_studios)"
   ]
  },
  {
   "cell_type": "code",
   "execution_count": 20,
   "metadata": {},
   "outputs": [],
   "source": [
    "studios_feature = items[[Columns.Item, 'studio']].explode('studio')\n",
    "studios_feature.columns = ['id', 'value']\n",
    "studios_feature['feature'] = 'studios'"
   ]
  },
  {
   "cell_type": "code",
   "execution_count": 21,
   "metadata": {},
   "outputs": [],
   "source": [
    "# Для директоров оставляем топ-30, остальные заменяем на 'other'\n",
    "items['directors'] = (\n",
    "    items['directors'].str.replace(', ', ',', regex=False).str.split(',')\n",
    ")\n",
    "top_directors = (\n",
    "    items['directors']\n",
    "    .explode()\n",
    "    .value_counts()\n",
    "    .head(ItemsFeatureTopKConfig.DIRECTORS_TOP_K)\n",
    "    .index\n",
    ")\n",
    "\n",
    "items['director'] = items['directors'].apply(\n",
    "    lambda x: [d if d in top_directors else 'other_director' for d in x]\n",
    ")"
   ]
  },
  {
   "cell_type": "code",
   "execution_count": 22,
   "metadata": {},
   "outputs": [
    {
     "data": {
      "text/html": [
       "<div>\n",
       "<style scoped>\n",
       "    .dataframe tbody tr th:only-of-type {\n",
       "        vertical-align: middle;\n",
       "    }\n",
       "\n",
       "    .dataframe tbody tr th {\n",
       "        vertical-align: top;\n",
       "    }\n",
       "\n",
       "    .dataframe thead th {\n",
       "        text-align: right;\n",
       "    }\n",
       "</style>\n",
       "<table border=\"1\" class=\"dataframe\">\n",
       "  <thead>\n",
       "    <tr style=\"text-align: right;\">\n",
       "      <th></th>\n",
       "      <th>id</th>\n",
       "      <th>value</th>\n",
       "      <th>feature</th>\n",
       "    </tr>\n",
       "  </thead>\n",
       "  <tbody>\n",
       "    <tr>\n",
       "      <th>0</th>\n",
       "      <td>10711</td>\n",
       "      <td>other_director</td>\n",
       "      <td>director</td>\n",
       "    </tr>\n",
       "    <tr>\n",
       "      <th>1</th>\n",
       "      <td>2508</td>\n",
       "      <td>other_director</td>\n",
       "      <td>director</td>\n",
       "    </tr>\n",
       "    <tr>\n",
       "      <th>2</th>\n",
       "      <td>10716</td>\n",
       "      <td>other_director</td>\n",
       "      <td>director</td>\n",
       "    </tr>\n",
       "    <tr>\n",
       "      <th>3</th>\n",
       "      <td>7868</td>\n",
       "      <td>other_director</td>\n",
       "      <td>director</td>\n",
       "    </tr>\n",
       "    <tr>\n",
       "      <th>4</th>\n",
       "      <td>16268</td>\n",
       "      <td>other_director</td>\n",
       "      <td>director</td>\n",
       "    </tr>\n",
       "  </tbody>\n",
       "</table>\n",
       "</div>"
      ],
      "text/plain": [
       "      id           value   feature\n",
       "0  10711  other_director  director\n",
       "1   2508  other_director  director\n",
       "2  10716  other_director  director\n",
       "3   7868  other_director  director\n",
       "4  16268  other_director  director"
      ]
     },
     "execution_count": 22,
     "metadata": {},
     "output_type": "execute_result"
    }
   ],
   "source": [
    "directors_feature = items[[Columns.Item, 'director']].explode('director')\n",
    "directors_feature.columns = ['id', 'value']\n",
    "directors_feature['feature'] = 'director'\n",
    "directors_feature.head()"
   ]
  },
  {
   "cell_type": "code",
   "execution_count": 23,
   "metadata": {},
   "outputs": [],
   "source": [
    "item_features = pd.concat((\n",
    "    genre_feature,\n",
    "    content_feature,\n",
    "    countries_feature,\n",
    "    release_decade_feature,\n",
    "    age_rating_feature,\n",
    "    studios_feature,\n",
    "    directors_feature,\n",
    "))\n"
   ]
  },
  {
   "cell_type": "code",
   "execution_count": 24,
   "metadata": {},
   "outputs": [
    {
     "name": "stdout",
     "output_type": "stream",
     "text": [
      "<class 'pandas.core.frame.DataFrame'>\n",
      "Index: 123469 entries, 0 to 15961\n",
      "Data columns (total 3 columns):\n",
      " #   Column   Non-Null Count   Dtype \n",
      "---  ------   --------------   ----- \n",
      " 0   id       123469 non-null  int64 \n",
      " 1   value    123469 non-null  object\n",
      " 2   feature  123469 non-null  object\n",
      "dtypes: int64(1), object(2)\n",
      "memory usage: 3.8+ MB\n"
     ]
    }
   ],
   "source": [
    "item_features.info()"
   ]
  },
  {
   "cell_type": "code",
   "execution_count": 25,
   "metadata": {},
   "outputs": [],
   "source": [
    "CAT_USER_FEATURES = list(user_features['feature'].unique())\n",
    "CAT_ITEM_FEATURES = list(item_features['feature'].unique())"
   ]
  },
  {
   "cell_type": "code",
   "execution_count": 26,
   "metadata": {},
   "outputs": [
    {
     "data": {
      "text/plain": [
       "['genre',\n",
       " 'content_type',\n",
       " 'countries',\n",
       " 'release_decade',\n",
       " 'age_rating',\n",
       " 'studios',\n",
       " 'director']"
      ]
     },
     "execution_count": 26,
     "metadata": {},
     "output_type": "execute_result"
    }
   ],
   "source": [
    "CAT_ITEM_FEATURES"
   ]
  },
  {
   "cell_type": "code",
   "execution_count": 27,
   "metadata": {},
   "outputs": [],
   "source": [
    "dataset = Dataset.construct(\n",
    "    interactions_df=interactions,\n",
    "    user_features_df=user_features,\n",
    "    cat_user_features=CAT_USER_FEATURES,\n",
    "    item_features_df=item_features,\n",
    "    cat_item_features=CAT_ITEM_FEATURES,\n",
    ")\n",
    "\n",
    "TEST_USERS = test[Columns.User].unique()"
   ]
  },
  {
   "cell_type": "code",
   "execution_count": 28,
   "metadata": {},
   "outputs": [],
   "source": [
    "splitter = TimeRangeSplitter(\n",
    "    test_size='7D',\n",
    "    n_splits=1,\n",
    "    filter_already_seen=True,\n",
    ")"
   ]
  },
  {
   "cell_type": "code",
   "execution_count": 29,
   "metadata": {},
   "outputs": [],
   "source": [
    "GLOBAL_K = 10\n",
    "metrics = {\n",
    "    f'Recall@{GLOBAL_K}': Recall(GLOBAL_K),\n",
    "    f'HitRate@{GLOBAL_K}': HitRate(GLOBAL_K),\n",
    "    f'MAP@{GLOBAL_K}': MAP(GLOBAL_K),\n",
    "    f'Serendipity@{GLOBAL_K}': Serendipity(GLOBAL_K),\n",
    "    # how many test users received recommendations\n",
    "    f'CoveredUsers@{GLOBAL_K}': CoveredUsers(GLOBAL_K),\n",
    "    # average popularity of recommended items\n",
    "    f'AvgRecPopularity@{GLOBAL_K}': AvgRecPopularity(GLOBAL_K),\n",
    "    # intersection with recommendations from reference model\n",
    "    f'Intersection@{GLOBAL_K}': Intersection(GLOBAL_K),\n",
    "}"
   ]
  },
  {
   "cell_type": "code",
   "execution_count": 30,
   "metadata": {},
   "outputs": [
    {
     "name": "stderr",
     "output_type": "stream",
     "text": [
      "c:\\Users\\PC\\Desktop\\диплом\\movie-recsys-service\\ml_development\\.venv\\lib\\site-packages\\implicit\\cpu\\als.py:95: RuntimeWarning: OpenBLAS is configured to use 6 threads. It is highly recommended to disable its internal threadpool by setting the environment variable 'OPENBLAS_NUM_THREADS=1' or by calling 'threadpoolctl.threadpool_limits(1, \"blas\")'. Having OpenBLAS use a threadpool can lead to severe performance issues here.\n",
      "  check_blas_config()\n",
      "GPU available: True (cuda), used: True\n",
      "TPU available: False, using: 0 TPU cores\n",
      "HPU available: False, using: 0 HPUs\n"
     ]
    }
   ],
   "source": [
    "models = {\n",
    "    'popular': PopularModel(),\n",
    "    'ease': EASEModel(),\n",
    "    'ials': ImplicitALSWrapperModel(\n",
    "        AlternatingLeastSquares(\n",
    "            factors=32,\n",
    "            regularization=0.01883534498756549,\n",
    "            iterations=5,\n",
    "        )\n",
    "    ),\n",
    "    'lightfm': LightFMWrapperModel(\n",
    "        LightFM(\n",
    "            no_components=128,\n",
    "            learning_rate=0.002680734151218913,\n",
    "            rho=0.927338160882052,\n",
    "            loss='warp',\n",
    "            epsilon=3.2185481401279125e-06,\n",
    "            user_alpha=0,\n",
    "            item_alpha=0,\n",
    "            random_state=RANDOM_STATE,\n",
    "        ),\n",
    "        epochs=1,\n",
    "        num_threads=4,\n",
    "        verbose=1,\n",
    "    ),\n",
    "    'bert4rec_softmax_ids_and_cat': BERT4RecModel(\n",
    "        mask_prob=0.15,\n",
    "        deterministic=True,\n",
    "    ),\n",
    "}"
   ]
  },
  {
   "cell_type": "code",
   "execution_count": 31,
   "metadata": {},
   "outputs": [
    {
     "data": {
      "application/vnd.jupyter.widget-view+json": {
       "model_id": "48b8e04149814fd4bb60ae6839b476d3",
       "version_major": 2,
       "version_minor": 0
      },
      "text/plain": [
       "  0%|          | 0/1 [00:00<?, ?it/s]"
      ]
     },
     "metadata": {},
     "output_type": "display_data"
    },
    {
     "data": {
      "application/vnd.jupyter.widget-view+json": {
       "model_id": "34a74ce9ba43439882f5dc04e4d875a0",
       "version_major": 2,
       "version_minor": 0
      },
      "text/plain": [
       "  0%|          | 0/1 [00:00<?, ?it/s]"
      ]
     },
     "metadata": {},
     "output_type": "display_data"
    },
    {
     "name": "stderr",
     "output_type": "stream",
     "text": [
      "c:\\Users\\PC\\Desktop\\диплом\\movie-recsys-service\\ml_development\\.venv\\lib\\site-packages\\rectools\\dataset\\identifiers.py:60: FutureWarning: unique with argument that is not not a Series, Index, ExtensionArray, or np.ndarray is deprecated and will raise in a future version.\n",
      "  unq_values = pd.unique(values)\n",
      "LOCAL_RANK: 0 - CUDA_VISIBLE_DEVICES: [0]\n",
      "`Trainer.fit` stopped: `max_epochs=3` reached.\n"
     ]
    },
    {
     "name": "stdout",
     "output_type": "stream",
     "text": [
      "CPU times: total: 2h 41min 13s\n",
      "Wall time: 1h 20min 20s\n"
     ]
    }
   ],
   "source": [
    "%%time\n",
    "\n",
    "# For each fold generate train and test part of dataset\n",
    "# Then fit every model, generate recommendations and calculate metrics\n",
    "\n",
    "cv_results = cross_validate(\n",
    "    dataset=dataset,\n",
    "    splitter=splitter,\n",
    "    models=models,\n",
    "    metrics=metrics,\n",
    "    k=GLOBAL_K,\n",
    "    filter_viewed=True,\n",
    "    # pass reference model to calculate recommendations intersection\n",
    "    ref_models=['popular'],\n",
    "    validate_ref_models=True,\n",
    ")"
   ]
  },
  {
   "cell_type": "code",
   "execution_count": 32,
   "metadata": {},
   "outputs": [
    {
     "data": {
      "text/html": [
       "<div>\n",
       "<style scoped>\n",
       "    .dataframe tbody tr th:only-of-type {\n",
       "        vertical-align: middle;\n",
       "    }\n",
       "\n",
       "    .dataframe tbody tr th {\n",
       "        vertical-align: top;\n",
       "    }\n",
       "\n",
       "    .dataframe thead th {\n",
       "        text-align: right;\n",
       "    }\n",
       "</style>\n",
       "<table border=\"1\" class=\"dataframe\">\n",
       "  <thead>\n",
       "    <tr style=\"text-align: right;\">\n",
       "      <th></th>\n",
       "      <th>Recall@10</th>\n",
       "      <th>HitRate@10</th>\n",
       "      <th>MAP@10</th>\n",
       "      <th>AvgRecPopularity@10</th>\n",
       "      <th>Serendipity@10</th>\n",
       "      <th>Intersection@10_popular</th>\n",
       "      <th>CoveredUsers@10</th>\n",
       "    </tr>\n",
       "    <tr>\n",
       "      <th>model</th>\n",
       "      <th></th>\n",
       "      <th></th>\n",
       "      <th></th>\n",
       "      <th></th>\n",
       "      <th></th>\n",
       "      <th></th>\n",
       "      <th></th>\n",
       "    </tr>\n",
       "  </thead>\n",
       "  <tbody>\n",
       "    <tr>\n",
       "      <th>popular</th>\n",
       "      <td>0.166089</td>\n",
       "      <td>0.274365</td>\n",
       "      <td>0.080114</td>\n",
       "      <td>82236.761783</td>\n",
       "      <td>0.000002</td>\n",
       "      <td>1.000000</td>\n",
       "      <td>1.0</td>\n",
       "    </tr>\n",
       "    <tr>\n",
       "      <th>ease</th>\n",
       "      <td>0.081169</td>\n",
       "      <td>0.151532</td>\n",
       "      <td>0.027664</td>\n",
       "      <td>9327.264478</td>\n",
       "      <td>0.000268</td>\n",
       "      <td>0.076693</td>\n",
       "      <td>1.0</td>\n",
       "    </tr>\n",
       "    <tr>\n",
       "      <th>ials</th>\n",
       "      <td>0.134910</td>\n",
       "      <td>0.238590</td>\n",
       "      <td>0.060807</td>\n",
       "      <td>46040.167013</td>\n",
       "      <td>0.000050</td>\n",
       "      <td>0.354506</td>\n",
       "      <td>1.0</td>\n",
       "    </tr>\n",
       "    <tr>\n",
       "      <th>bert4rec_softmax_ids_and_cat</th>\n",
       "      <td>0.200544</td>\n",
       "      <td>0.334551</td>\n",
       "      <td>0.095186</td>\n",
       "      <td>46393.294402</td>\n",
       "      <td>0.000174</td>\n",
       "      <td>0.366816</td>\n",
       "      <td>1.0</td>\n",
       "    </tr>\n",
       "  </tbody>\n",
       "</table>\n",
       "</div>"
      ],
      "text/plain": [
       "                              Recall@10  HitRate@10    MAP@10  \\\n",
       "model                                                           \n",
       "popular                        0.166089    0.274365  0.080114   \n",
       "ease                           0.081169    0.151532  0.027664   \n",
       "ials                           0.134910    0.238590  0.060807   \n",
       "bert4rec_softmax_ids_and_cat   0.200544    0.334551  0.095186   \n",
       "\n",
       "                              AvgRecPopularity@10  Serendipity@10  \\\n",
       "model                                                               \n",
       "popular                              82236.761783        0.000002   \n",
       "ease                                  9327.264478        0.000268   \n",
       "ials                                 46040.167013        0.000050   \n",
       "bert4rec_softmax_ids_and_cat         46393.294402        0.000174   \n",
       "\n",
       "                              Intersection@10_popular  CoveredUsers@10  \n",
       "model                                                                   \n",
       "popular                                      1.000000              1.0  \n",
       "ease                                         0.076693              1.0  \n",
       "ials                                         0.354506              1.0  \n",
       "bert4rec_softmax_ids_and_cat                 0.366816              1.0  "
      ]
     },
     "execution_count": 32,
     "metadata": {},
     "output_type": "execute_result"
    }
   ],
   "source": [
    "pivot_results = (\n",
    "    pd.DataFrame(cv_results['metrics'])\n",
    "    .drop(columns='i_split')\n",
    "    .groupby(['model'], sort=False)\n",
    "    .agg(['mean'])\n",
    ")\n",
    "pivot_results.columns = pivot_results.columns.droplevel(1)\n",
    "pivot_results.to_csv('rectools_transformers_cv.csv', index=True)\n",
    "pivot_results"
   ]
  }
 ],
 "metadata": {
  "kernelspec": {
   "display_name": ".venv",
   "language": "python",
   "name": "python3"
  },
  "language_info": {
   "codemirror_mode": {
    "name": "ipython",
    "version": 3
   },
   "file_extension": ".py",
   "mimetype": "text/x-python",
   "name": "python",
   "nbconvert_exporter": "python",
   "pygments_lexer": "ipython3",
   "version": "3.9.9"
  }
 },
 "nbformat": 4,
 "nbformat_minor": 2
}

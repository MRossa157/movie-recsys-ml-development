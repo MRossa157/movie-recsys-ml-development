{
 "cells": [
  {
   "cell_type": "markdown",
   "metadata": {
    "id": "UVW-c2ml23_4"
   },
   "source": [
    "# Загрузка библиотек"
   ]
  },
  {
   "cell_type": "code",
   "execution_count": null,
   "metadata": {
    "executionInfo": {
     "elapsed": 2580,
     "status": "ok",
     "timestamp": 1680182611284,
     "user": {
      "displayName": "Айдар И",
      "userId": "17862391114143174856"
     },
     "user_tz": -300
    },
    "id": "uDgfLokO0Jvl"
   },
   "outputs": [],
   "source": [
    "import pandas as pd\n",
    "import matplotlib.pyplot as plt\n",
    "import seaborn as sns\n",
    "from tqdm.notebook import tqdm\n",
    "import requests\n",
    "import zipfile as zf\n",
    "import os\n",
    "import shutil\n"
   ]
  },
  {
   "cell_type": "markdown",
   "metadata": {
    "id": "849GP6kq3GWA"
   },
   "source": [
    "# Загрузка данных"
   ]
  },
  {
   "cell_type": "code",
   "execution_count": null,
   "metadata": {},
   "outputs": [],
   "source": [
    "url = 'https://github.com/irsafilo/KION_DATASET/raw/f69775be31fa5779907cf0a92ddedb70037fb5ae/data_original.zip'"
   ]
  },
  {
   "cell_type": "code",
   "execution_count": null,
   "metadata": {},
   "outputs": [],
   "source": [
    "req = requests.get(url, stream=True)\n",
    "\n",
    "with open('kion.zip', 'wb') as fd:\n",
    "    total_size_in_bytes = int(req.headers.get('Content-Length', 0))\n",
    "    progress_bar = tqdm(\n",
    "        desc='kion dataset download',\n",
    "        total=total_size_in_bytes,\n",
    "        unit='iB',\n",
    "        unit_scale=True,\n",
    "    )\n",
    "    for chunk in req.iter_content(chunk_size=2**20):\n",
    "        progress_bar.update(len(chunk))\n",
    "        fd.write(chunk)"
   ]
  },
  {
   "cell_type": "code",
   "execution_count": null,
   "metadata": {},
   "outputs": [],
   "source": [
    "with zf.ZipFile('kion.zip', 'r') as files:\n",
    "    files.extractall('../datasets/kion')\n",
    "\n",
    "source_dir = '../datasets/kion/data_original'\n",
    "target_dir = '../datasets/kion'\n",
    "\n",
    "for filename in os.listdir(source_dir):\n",
    "    shutil.move(\n",
    "        os.path.join(source_dir, filename), os.path.join(target_dir, filename)\n",
    "    )\n",
    "\n",
    "\n",
    "os.rmdir(source_dir)\n",
    "os.remove('kion.zip')"
   ]
  },
  {
   "cell_type": "code",
   "execution_count": null,
   "metadata": {
    "executionInfo": {
     "elapsed": 3702,
     "status": "ok",
     "timestamp": 1680182614981,
     "user": {
      "displayName": "Айдар И",
      "userId": "17862391114143174856"
     },
     "user_tz": -300
    },
    "id": "jIbia31j2vQP"
   },
   "outputs": [],
   "source": [
    "users = pd.read_csv('../datasets/kion/users.csv')"
   ]
  },
  {
   "cell_type": "markdown",
   "metadata": {
    "id": "uJsAuZuV3Lrn"
   },
   "source": [
    "В данном файле содержится информация о пользователях:\n",
    "\n",
    "**user_id** - ID пользователя\n",
    "\n",
    "**age** - возрастная группа пользователя, строка вида \"M_N\"\n",
    "* 18_24 - от 18 до 24 лет включительно\n",
    "* 25_34 - от 25 до 34 лет включительно\n",
    "* 35_44 - от 35 до 44 лет включительно\n",
    "* 45_54 - от 45 до 54 лет включительно\n",
    "* 55_64 - от 55 до 64 лет включительно\n",
    "* 65_inf - от 65 и старше\n",
    "\n",
    "**sex** - пол пользователя\n",
    "* М - мужчина\n",
    "* Ж - женщина\n",
    "\n",
    "**income** - доход пользователя, строка вида \"M_N\"\n",
    "* income_0_20\n",
    "* income_20_40\n",
    "* income_40_60\n",
    "* income_60_90  \n",
    "* income_90_150\n",
    "* income_150_inf\n",
    "\n",
    "**kids_flg** - флаг \"наличие ребенка\""
   ]
  },
  {
   "cell_type": "code",
   "execution_count": null,
   "metadata": {
    "executionInfo": {
     "elapsed": 5924,
     "status": "ok",
     "timestamp": 1680182620902,
     "user": {
      "displayName": "Айдар И",
      "userId": "17862391114143174856"
     },
     "user_tz": -300
    },
    "id": "KCK7djZL1Q_r"
   },
   "outputs": [],
   "source": [
    "items = pd.read_csv('../datasets/kion/items.csv')"
   ]
  },
  {
   "cell_type": "markdown",
   "metadata": {
    "id": "aOH52Ah93pZn"
   },
   "source": [
    "**item_id** - ID контента \\\n",
    "**content_type**- Тип контента (фильм, сериал) \\\n",
    "**title** - Название на русском \\\n",
    "**title_orig** - Название оригинальное \\\n",
    "**genres** - Жанры из источника (онлайн-кинотеатры) \\\n",
    "**countries** - страны \\\n",
    "**for_kids** - флаг \"контент для детей\" \\\n",
    "**age_rating** - возрастной рейтинг \\\n",
    "**studios** - студии \\\n",
    "**directors** - директора \\\n",
    "**actors** - актеры \\\n",
    "**keywords** - ключевые слова \\\n",
    "**description** - описание"
   ]
  },
  {
   "cell_type": "code",
   "execution_count": null,
   "metadata": {
    "executionInfo": {
     "elapsed": 14066,
     "status": "ok",
     "timestamp": 1680182634964,
     "user": {
      "displayName": "Айдар И",
      "userId": "17862391114143174856"
     },
     "user_tz": -300
    },
    "id": "u1amV2R13hO4"
   },
   "outputs": [],
   "source": [
    "interactions = pd.read_csv('../datasets/kion/interactions.csv')"
   ]
  },
  {
   "cell_type": "markdown",
   "metadata": {
    "id": "f9LwQeBD4EMe"
   },
   "source": [
    "**user_id** - ID пользователя \\\n",
    "**item_id** - ID контента \\\n",
    "**last_watch_dt** - Дата последнего просмотра \\\n",
    "**total_dur** - Общая продолжительность всех просмотров данного контента в секундах \\\n",
    "**watched_pct** - сколько % фильма просмотрено"
   ]
  },
  {
   "cell_type": "markdown",
   "metadata": {
    "id": "qz3cuc_L4HIW"
   },
   "source": [
    "# Визуальный анализа данных"
   ]
  },
  {
   "cell_type": "markdown",
   "metadata": {
    "id": "k47SX7gp4I92"
   },
   "source": [
    "## Users/Пользователи"
   ]
  },
  {
   "cell_type": "code",
   "execution_count": null,
   "metadata": {
    "colab": {
     "base_uri": "https://localhost:8080/",
     "height": 424
    },
    "executionInfo": {
     "elapsed": 34,
     "status": "ok",
     "timestamp": 1680152316477,
     "user": {
      "displayName": "Айдар И",
      "userId": "17862391114143174856"
     },
     "user_tz": -300
    },
    "id": "9KMhTGV84CUD",
    "outputId": "af872b8a-9b24-4be4-859e-ec8b8317d6b9"
   },
   "outputs": [],
   "source": [
    "users"
   ]
  },
  {
   "cell_type": "code",
   "execution_count": null,
   "metadata": {
    "colab": {
     "base_uri": "https://localhost:8080/"
    },
    "executionInfo": {
     "elapsed": 22,
     "status": "ok",
     "timestamp": 1680152316478,
     "user": {
      "displayName": "Айдар И",
      "userId": "17862391114143174856"
     },
     "user_tz": -300
    },
    "id": "a4EDv5Bf4LNw",
    "outputId": "0c6785ba-631d-447b-97ea-22d58a714507"
   },
   "outputs": [],
   "source": [
    "users.info()"
   ]
  },
  {
   "cell_type": "code",
   "execution_count": null,
   "metadata": {
    "colab": {
     "base_uri": "https://localhost:8080/"
    },
    "executionInfo": {
     "elapsed": 589,
     "status": "ok",
     "timestamp": 1680152317049,
     "user": {
      "displayName": "Айдар И",
      "userId": "17862391114143174856"
     },
     "user_tz": -300
    },
    "id": "SxUR5vTj4NAH",
    "outputId": "100f31f2-e9fc-4af7-baa8-f0fd68bb6bbb"
   },
   "outputs": [],
   "source": [
    "users.isnull().sum()"
   ]
  },
  {
   "cell_type": "markdown",
   "metadata": {
    "id": "waIQ5jyX4QRG"
   },
   "source": [
    "Есть пропуски, которые в дальнейшем надо будет обработать."
   ]
  },
  {
   "cell_type": "code",
   "execution_count": null,
   "metadata": {
    "colab": {
     "base_uri": "https://localhost:8080/"
    },
    "executionInfo": {
     "elapsed": 412,
     "status": "ok",
     "timestamp": 1680152317457,
     "user": {
      "displayName": "Айдар И",
      "userId": "17862391114143174856"
     },
     "user_tz": -300
    },
    "id": "evHcXV51AIMJ",
    "outputId": "75c02874-d371-46d6-d86a-12a303a7434d"
   },
   "outputs": [],
   "source": [
    "users.loc[users.age.isna(), 'age'] = 'age_unknown'\n",
    "users.loc[users.income.isna(), 'income'] = 'income_unknown'\n",
    "users.loc[users.sex.isna(), 'sex'] = 'sex_unknown'\n",
    "\n",
    "users.isnull().sum()"
   ]
  },
  {
   "cell_type": "markdown",
   "metadata": {
    "id": "Gc3gkNR_BoYW"
   },
   "source": [
    "Пропусков больше нет. Также изменим некоторые типы данных (данные будут меньше потреблять оперативной памяти)"
   ]
  },
  {
   "cell_type": "code",
   "execution_count": null,
   "metadata": {
    "colab": {
     "base_uri": "https://localhost:8080/"
    },
    "executionInfo": {
     "elapsed": 592,
     "status": "ok",
     "timestamp": 1680152318047,
     "user": {
      "displayName": "Айдар И",
      "userId": "17862391114143174856"
     },
     "user_tz": -300
    },
    "id": "ovKji9KiCSVY",
    "outputId": "aa9fee57-3c12-460d-a705-63556c3eed70"
   },
   "outputs": [],
   "source": [
    "users['sex'] = users['sex'].astype('category')\n",
    "users['age'] = users['age'].astype('category')\n",
    "users['income'] = users['income'].astype('category')\n",
    "users['kids_flg'] = users['kids_flg'].astype('bool')\n",
    "\n",
    "users.info()"
   ]
  },
  {
   "cell_type": "code",
   "execution_count": null,
   "metadata": {
    "colab": {
     "base_uri": "https://localhost:8080/",
     "height": 425
    },
    "executionInfo": {
     "elapsed": 749,
     "status": "ok",
     "timestamp": 1680152318794,
     "user": {
      "displayName": "Айдар И",
      "userId": "17862391114143174856"
     },
     "user_tz": -300
    },
    "id": "gvL4_SyS4PU_",
    "outputId": "da349cce-d5e3-4e09-ba72-abf3c24d1558"
   },
   "outputs": [],
   "source": [
    "fig, axes = plt.subplots(nrows=1, ncols=4, sharey=True, figsize=(16, 4))\n",
    "\n",
    "# кол-во пользователей по возрастным группам\n",
    "users.age.value_counts().plot.bar(ax=axes[0])\n",
    "\n",
    "# кол-во пользователей по уровню дохода\n",
    "users.income.value_counts().plot.bar(ax=axes[1])\n",
    "\n",
    "# кол-во пользователей по полу\n",
    "users.sex.value_counts().plot.bar(ax=axes[2])\n",
    "\n",
    "# кол-во пользователей без детей и с детьми\n",
    "users.kids_flg.value_counts().plot.bar(ax=axes[3])\n",
    "\n",
    "plt.show()"
   ]
  },
  {
   "cell_type": "markdown",
   "metadata": {
    "id": "YFh61Rd216Ep"
   },
   "source": [
    "Самая многочисленная аудитория в возрастной категории от 25 до 34 лет, самая малочисленная - от 65 лет и старше.\n",
    "\n",
    "Самая многочисленная аудитория в категории доход от 20 до 40, самая малочисленная - от 150 и более.\n",
    "\n",
    "Распределение по полу пользователей практически одинаково.\n",
    "\n",
    "Бездетных пользователей примерно в 2 раза больше чем пользователей с детьми."
   ]
  },
  {
   "cell_type": "markdown",
   "metadata": {
    "id": "eJ96zJcyFvWz"
   },
   "source": [
    "Проверим, что id пользователей не задублировались."
   ]
  },
  {
   "cell_type": "code",
   "execution_count": null,
   "metadata": {
    "colab": {
     "base_uri": "https://localhost:8080/"
    },
    "executionInfo": {
     "elapsed": 24,
     "status": "ok",
     "timestamp": 1680152318795,
     "user": {
      "displayName": "Айдар И",
      "userId": "17862391114143174856"
     },
     "user_tz": -300
    },
    "id": "Jxc0lsHoFueK",
    "outputId": "7375401f-9642-47b4-db34-548495d5c695"
   },
   "outputs": [],
   "source": [
    "users.duplicated(subset=['user_id']).sum()"
   ]
  },
  {
   "cell_type": "markdown",
   "metadata": {
    "id": "UuZ3NsD44deH"
   },
   "source": [
    "## Items/Контент"
   ]
  },
  {
   "cell_type": "code",
   "execution_count": null,
   "metadata": {
    "colab": {
     "base_uri": "https://localhost:8080/",
     "height": 652
    },
    "executionInfo": {
     "elapsed": 21,
     "status": "ok",
     "timestamp": 1680152318796,
     "user": {
      "displayName": "Айдар И",
      "userId": "17862391114143174856"
     },
     "user_tz": -300
    },
    "id": "8nx4yDqO4WPj",
    "outputId": "15bdbf46-8704-4e08-b1c6-fdcf6c42ba5d"
   },
   "outputs": [],
   "source": [
    "items.head()"
   ]
  },
  {
   "cell_type": "code",
   "execution_count": null,
   "metadata": {
    "colab": {
     "base_uri": "https://localhost:8080/"
    },
    "executionInfo": {
     "elapsed": 22,
     "status": "ok",
     "timestamp": 1680152318798,
     "user": {
      "displayName": "Айдар И",
      "userId": "17862391114143174856"
     },
     "user_tz": -300
    },
    "id": "V9rYEgNu4fjH",
    "outputId": "ed37a019-7dcd-482d-cb53-a88950142870"
   },
   "outputs": [],
   "source": [
    "items.info()"
   ]
  },
  {
   "cell_type": "code",
   "execution_count": null,
   "metadata": {
    "colab": {
     "base_uri": "https://localhost:8080/"
    },
    "executionInfo": {
     "elapsed": 19,
     "status": "ok",
     "timestamp": 1680152318798,
     "user": {
      "displayName": "Айдар И",
      "userId": "17862391114143174856"
     },
     "user_tz": -300
    },
    "id": "2zXTHF7Y9v5E",
    "outputId": "1483af30-819c-4af8-e1ef-b03a9ca2eb35"
   },
   "outputs": [],
   "source": [
    "items.nunique()"
   ]
  },
  {
   "cell_type": "markdown",
   "metadata": {
    "id": "FRtCQeMpD2QB"
   },
   "source": [
    "### content_type"
   ]
  },
  {
   "cell_type": "code",
   "execution_count": null,
   "metadata": {
    "colab": {
     "base_uri": "https://localhost:8080/",
     "height": 258
    },
    "executionInfo": {
     "elapsed": 734,
     "status": "ok",
     "timestamp": 1680152319517,
     "user": {
      "displayName": "Айдар И",
      "userId": "17862391114143174856"
     },
     "user_tz": -300
    },
    "id": "_HkAqw_F4g54",
    "outputId": "ad0fcdc1-343c-4176-f409-0fae06f24a1a"
   },
   "outputs": [],
   "source": [
    "items.content_type.value_counts().plot.bar(figsize=(2, 2))"
   ]
  },
  {
   "cell_type": "code",
   "execution_count": null,
   "metadata": {
    "colab": {
     "base_uri": "https://localhost:8080/"
    },
    "executionInfo": {
     "elapsed": 31,
     "status": "ok",
     "timestamp": 1680152319517,
     "user": {
      "displayName": "Айдар И",
      "userId": "17862391114143174856"
     },
     "user_tz": -300
    },
    "id": "5tiEaOQQEBQ9",
    "outputId": "d9a8df69-5b91-494a-9a0a-ea67d18811d2"
   },
   "outputs": [],
   "source": [
    "items.content_type.isna().sum()"
   ]
  },
  {
   "cell_type": "markdown",
   "metadata": {
    "id": "0-xVQLpa6ORR"
   },
   "source": [
    "Основной контент видеосервиса - фильмы. Пропусков нет."
   ]
  },
  {
   "cell_type": "code",
   "execution_count": null,
   "metadata": {
    "id": "zB4Oyul9GK8y"
   },
   "outputs": [],
   "source": [
    "items.content_type = items.content_type.astype('category')"
   ]
  },
  {
   "cell_type": "markdown",
   "metadata": {
    "id": "qJQ8u6RVEMRh"
   },
   "source": [
    "### title,\ttitle_orig"
   ]
  },
  {
   "cell_type": "code",
   "execution_count": null,
   "metadata": {
    "colab": {
     "base_uri": "https://localhost:8080/"
    },
    "executionInfo": {
     "elapsed": 30,
     "status": "ok",
     "timestamp": 1680152319520,
     "user": {
      "displayName": "Айдар И",
      "userId": "17862391114143174856"
     },
     "user_tz": -300
    },
    "id": "G7W3v1YqEQEG",
    "outputId": "7c6781cb-489d-420f-b1b0-52d5e4678fd0"
   },
   "outputs": [],
   "source": [
    "# пропуски?\n",
    "items.title.isna().sum()"
   ]
  },
  {
   "cell_type": "code",
   "execution_count": null,
   "metadata": {
    "colab": {
     "base_uri": "https://localhost:8080/"
    },
    "executionInfo": {
     "elapsed": 31,
     "status": "ok",
     "timestamp": 1680152319524,
     "user": {
      "displayName": "Айдар И",
      "userId": "17862391114143174856"
     },
     "user_tz": -300
    },
    "id": "E9Z-awT0EP_P",
    "outputId": "82101e19-95dc-419f-9365-e410f6074fd5"
   },
   "outputs": [],
   "source": [
    "# пропуски?\n",
    "items.title_orig.isna().sum()"
   ]
  },
  {
   "cell_type": "markdown",
   "metadata": {
    "id": "eBXTOVwREjJv"
   },
   "source": [
    "Не у всех объектов заполнен признак title_orig, заполним их"
   ]
  },
  {
   "cell_type": "code",
   "execution_count": null,
   "metadata": {
    "colab": {
     "base_uri": "https://localhost:8080/"
    },
    "executionInfo": {
     "elapsed": 32,
     "status": "ok",
     "timestamp": 1680152319528,
     "user": {
      "displayName": "Айдар И",
      "userId": "17862391114143174856"
     },
     "user_tz": -300
    },
    "id": "QbMAwST3Er4n",
    "outputId": "c399d7b7-2900-4b5c-dd9e-0e837a1eb852"
   },
   "outputs": [],
   "source": [
    "items.loc[items.title_orig.isna(), 'title_orig'] = 'None_title_orig'\n",
    "items.title_orig.isna().sum()"
   ]
  },
  {
   "cell_type": "markdown",
   "metadata": {
    "id": "LYd5sK9NKnpe"
   },
   "source": [
    "Заменим типы данных"
   ]
  },
  {
   "cell_type": "code",
   "execution_count": null,
   "metadata": {
    "id": "I0A2oM5LGbIV"
   },
   "outputs": [],
   "source": [
    "items.title = items.title.astype('category')\n",
    "items.title_orig = items.title_orig.astype('category')"
   ]
  },
  {
   "cell_type": "markdown",
   "metadata": {
    "id": "MYDzVZ39KqnN"
   },
   "source": [
    "Так как одно и тоже слово может быть написано текстом разного регистра приведем весь текст к нижнему."
   ]
  },
  {
   "cell_type": "code",
   "execution_count": null,
   "metadata": {
    "id": "Er5XMh90KC15"
   },
   "outputs": [],
   "source": [
    "items.title = items.title.str.lower()"
   ]
  },
  {
   "cell_type": "markdown",
   "metadata": {
    "id": "vdUr9bc3F-y6"
   },
   "source": [
    "### release_year"
   ]
  },
  {
   "cell_type": "code",
   "execution_count": null,
   "metadata": {
    "colab": {
     "base_uri": "https://localhost:8080/",
     "height": 346
    },
    "executionInfo": {
     "elapsed": 781,
     "status": "ok",
     "timestamp": 1680152320284,
     "user": {
      "displayName": "Айдар И",
      "userId": "17862391114143174856"
     },
     "user_tz": -300
    },
    "id": "8wK9CniWF50G",
    "outputId": "cfc44173-491f-4c59-9614-f0ff5413afc1"
   },
   "outputs": [],
   "source": [
    "# кол-во контента по годам выпуска\n",
    "items.release_year.value_counts().sort_index().plot.bar(figsize=(18, 4))"
   ]
  },
  {
   "cell_type": "markdown",
   "metadata": {
    "id": "bkNGluWWIN2u"
   },
   "source": [
    "С каждым годом видеоконтента снимается все больше."
   ]
  },
  {
   "cell_type": "code",
   "execution_count": null,
   "metadata": {
    "colab": {
     "base_uri": "https://localhost:8080/"
    },
    "executionInfo": {
     "elapsed": 49,
     "status": "ok",
     "timestamp": 1680152320287,
     "user": {
      "displayName": "Айдар И",
      "userId": "17862391114143174856"
     },
     "user_tz": -300
    },
    "id": "DUHkoIxjEr12",
    "outputId": "a5dea4d2-40a7-4033-b2ce-7aa33cd48428"
   },
   "outputs": [],
   "source": [
    "# есть ли пропуски?\n",
    "items.release_year.isna().sum()"
   ]
  },
  {
   "cell_type": "code",
   "execution_count": null,
   "metadata": {
    "colab": {
     "base_uri": "https://localhost:8080/",
     "height": 669
    },
    "executionInfo": {
     "elapsed": 53,
     "status": "ok",
     "timestamp": 1680152320298,
     "user": {
      "displayName": "Айдар И",
      "userId": "17862391114143174856"
     },
     "user_tz": -300
    },
    "id": "bGPjEbDAEP8R",
    "outputId": "1379af35-d1e5-46fc-f5bf-80303c16e205"
   },
   "outputs": [],
   "source": [
    "# посмотрим на эти объекты\n",
    "items[items.release_year.isna()].head()"
   ]
  },
  {
   "cell_type": "code",
   "execution_count": null,
   "metadata": {
    "colab": {
     "base_uri": "https://localhost:8080/"
    },
    "executionInfo": {
     "elapsed": 51,
     "status": "ok",
     "timestamp": 1680152320299,
     "user": {
      "displayName": "Айдар И",
      "userId": "17862391114143174856"
     },
     "user_tz": -300
    },
    "id": "mqybqiB9GxtX",
    "outputId": "944f7282-2720-4d58-abc4-e6522187ee76"
   },
   "outputs": [],
   "source": [
    "# заменим\n",
    "items.loc[items.release_year.isna(), 'release_year'] = 'release_year_unknown'\n",
    "items.release_year.isna().sum()"
   ]
  },
  {
   "cell_type": "markdown",
   "metadata": {},
   "source": [
    "Добавляем объединия по десятилетиям (1990-1999, 2000-2009, 2010-2019 ит.д)"
   ]
  },
  {
   "cell_type": "code",
   "execution_count": null,
   "metadata": {},
   "outputs": [],
   "source": [
    "items['release_year_int'] = pd.to_numeric(items['release_year'], errors='coerce')\n",
    "\n",
    "items['release_decade'] = items['release_year_int'] // 10 * 10\n",
    "items['release_decade'] = items['release_decade'].astype(str) + 's'\n",
    "\n",
    "items['release_decade'] = items['release_decade'].replace(\n",
    "    'nans', 'release_year_unknown'\n",
    ")\n"
   ]
  },
  {
   "cell_type": "code",
   "execution_count": null,
   "metadata": {},
   "outputs": [],
   "source": [
    "items.release_decade.value_counts().sort_index().plot.bar(figsize=(18, 4))"
   ]
  },
  {
   "cell_type": "markdown",
   "metadata": {
    "id": "2jBMjsc1JbZ4"
   },
   "source": [
    "### genres"
   ]
  },
  {
   "cell_type": "code",
   "execution_count": null,
   "metadata": {
    "colab": {
     "base_uri": "https://localhost:8080/"
    },
    "executionInfo": {
     "elapsed": 47,
     "status": "ok",
     "timestamp": 1680152320300,
     "user": {
      "displayName": "Айдар И",
      "userId": "17862391114143174856"
     },
     "user_tz": -300
    },
    "id": "0RtxAi7QGxn4",
    "outputId": "2927756d-85ec-4235-f876-0083488d1506"
   },
   "outputs": [],
   "source": [
    "items.genres.value_counts()"
   ]
  },
  {
   "cell_type": "code",
   "execution_count": null,
   "metadata": {
    "colab": {
     "base_uri": "https://localhost:8080/"
    },
    "executionInfo": {
     "elapsed": 42,
     "status": "ok",
     "timestamp": 1680152320301,
     "user": {
      "displayName": "Айдар И",
      "userId": "17862391114143174856"
     },
     "user_tz": -300
    },
    "id": "8jp6cTzOJa51",
    "outputId": "c80fc5e5-3cbc-4637-d054-4777ce95289e"
   },
   "outputs": [],
   "source": [
    "# пропуски?\n",
    "items.genres.isna().sum()"
   ]
  },
  {
   "cell_type": "code",
   "execution_count": null,
   "metadata": {
    "id": "aEvIixIgJa27"
   },
   "outputs": [],
   "source": [
    "# приведем текст к нижнему регистру\n",
    "items.genres = items.genres.str.lower()"
   ]
  },
  {
   "cell_type": "code",
   "execution_count": null,
   "metadata": {
    "id": "6X3HCkStMGnv"
   },
   "outputs": [],
   "source": [
    "items.genres = items.genres.astype('category')"
   ]
  },
  {
   "cell_type": "markdown",
   "metadata": {
    "id": "1m5FlQMKLUzB"
   },
   "source": [
    "### countries"
   ]
  },
  {
   "cell_type": "code",
   "execution_count": null,
   "metadata": {
    "colab": {
     "base_uri": "https://localhost:8080/",
     "height": 567
    },
    "executionInfo": {
     "elapsed": 764,
     "status": "ok",
     "timestamp": 1680152321030,
     "user": {
      "displayName": "Айдар И",
      "userId": "17862391114143174856"
     },
     "user_tz": -300
    },
    "id": "I6IlO-ih4irX",
    "outputId": "f7956977-bb60-4a13-ce52-9ad3d0946599"
   },
   "outputs": [],
   "source": [
    "# Top-10 стран по количеству контента в базе\n",
    "items.countries.value_counts().head(10).plot.bar()"
   ]
  },
  {
   "cell_type": "markdown",
   "metadata": {
    "id": "4TUeUyfX6U_N"
   },
   "source": [
    "Самые крупные страны-производители фильмов в данном видеосервисе - это Россия и США."
   ]
  },
  {
   "cell_type": "code",
   "execution_count": null,
   "metadata": {
    "id": "dtGkQltkLfta"
   },
   "outputs": [],
   "source": [
    "# приведем к нижнему регистру\n",
    "items.countries = items.countries.str.lower()"
   ]
  },
  {
   "cell_type": "code",
   "execution_count": null,
   "metadata": {
    "colab": {
     "base_uri": "https://localhost:8080/"
    },
    "executionInfo": {
     "elapsed": 26,
     "status": "ok",
     "timestamp": 1680152321031,
     "user": {
      "displayName": "Айдар И",
      "userId": "17862391114143174856"
     },
     "user_tz": -300
    },
    "id": "JSQ6KvKmLfo-",
    "outputId": "5b54d318-c7a2-44df-c391-9e0ef7394a4e"
   },
   "outputs": [],
   "source": [
    "# пропуски?\n",
    "items.countries.isna().sum()"
   ]
  },
  {
   "cell_type": "code",
   "execution_count": null,
   "metadata": {
    "colab": {
     "base_uri": "https://localhost:8080/"
    },
    "executionInfo": {
     "elapsed": 24,
     "status": "ok",
     "timestamp": 1680152321032,
     "user": {
      "displayName": "Айдар И",
      "userId": "17862391114143174856"
     },
     "user_tz": -300
    },
    "id": "qZLI33EnLfle",
    "outputId": "b3bff046-c1ac-473b-a159-c29ac25e6d14"
   },
   "outputs": [],
   "source": [
    "items.loc[items.countries.isna(), 'countries'] = 'countries_unknown'\n",
    "items.countries.isna().sum()"
   ]
  },
  {
   "cell_type": "code",
   "execution_count": null,
   "metadata": {
    "id": "V0k_YrE7Lffo"
   },
   "outputs": [],
   "source": [
    "items.countries = items.countries.astype('category')"
   ]
  },
  {
   "cell_type": "markdown",
   "metadata": {
    "id": "etDZvU_PMZO6"
   },
   "source": [
    "### for_kids"
   ]
  },
  {
   "cell_type": "code",
   "execution_count": null,
   "metadata": {
    "colab": {
     "base_uri": "https://localhost:8080/"
    },
    "executionInfo": {
     "elapsed": 21,
     "status": "ok",
     "timestamp": 1680152321033,
     "user": {
      "displayName": "Айдар И",
      "userId": "17862391114143174856"
     },
     "user_tz": -300
    },
    "id": "KtsMAf57Mt13",
    "outputId": "e8f9da24-c3cf-4ac9-a012-2b3d9029c0de"
   },
   "outputs": [],
   "source": [
    "# пропуски\n",
    "items.for_kids.isna().sum()"
   ]
  },
  {
   "cell_type": "markdown",
   "metadata": {},
   "source": [
    "Посмотрим какие возрастные категории обозначены флагом for_kids"
   ]
  },
  {
   "cell_type": "code",
   "execution_count": null,
   "metadata": {},
   "outputs": [],
   "source": [
    "items[items.for_kids == 1][['for_kids', 'age_rating']].value_counts()"
   ]
  },
  {
   "cell_type": "code",
   "execution_count": null,
   "metadata": {},
   "outputs": [],
   "source": [
    "items[items.for_kids == 0][['for_kids', 'age_rating']].value_counts()"
   ]
  },
  {
   "cell_type": "markdown",
   "metadata": {},
   "source": [
    "Было бы логично, что признак установлен для возрастной категории 0+ и 6+. Но есть случаи когда и на 0+ и на 6+ стоит значение 0. \\\n",
    "Очень много пропусков, не будем использовать этот признак."
   ]
  },
  {
   "cell_type": "markdown",
   "metadata": {
    "id": "MtRZLXzsMbs9"
   },
   "source": [
    "### age_rating"
   ]
  },
  {
   "cell_type": "code",
   "execution_count": null,
   "metadata": {
    "colab": {
     "base_uri": "https://localhost:8080/",
     "height": 468
    },
    "executionInfo": {
     "elapsed": 487,
     "status": "ok",
     "timestamp": 1680152321506,
     "user": {
      "displayName": "Айдар И",
      "userId": "17862391114143174856"
     },
     "user_tz": -300
    },
    "id": "Mt9IfuQM4kLX",
    "outputId": "d4532040-6720-48dd-c2e5-fad1d1ac628f"
   },
   "outputs": [],
   "source": [
    "# Кол-во фильмов по рейтингам\n",
    "items.age_rating.value_counts().plot.bar()"
   ]
  },
  {
   "cell_type": "markdown",
   "metadata": {
    "id": "SLKFFpcB6pVQ"
   },
   "source": [
    "Самый большой выбор контента в категории 16+."
   ]
  },
  {
   "cell_type": "code",
   "execution_count": null,
   "metadata": {
    "colab": {
     "base_uri": "https://localhost:8080/"
    },
    "executionInfo": {
     "elapsed": 19,
     "status": "ok",
     "timestamp": 1680152321507,
     "user": {
      "displayName": "Айдар И",
      "userId": "17862391114143174856"
     },
     "user_tz": -300
    },
    "id": "gM6Yk2zoN7VC",
    "outputId": "a3f8025e-80c1-4579-a0f9-415807af9ca1"
   },
   "outputs": [],
   "source": [
    "# пропуски?\n",
    "items.age_rating.isna().sum()"
   ]
  },
  {
   "cell_type": "markdown",
   "metadata": {},
   "source": [
    "Всего два пропуска, посмотрим их."
   ]
  },
  {
   "cell_type": "code",
   "execution_count": null,
   "metadata": {},
   "outputs": [],
   "source": [
    "items[items.age_rating.isna()]"
   ]
  },
  {
   "cell_type": "markdown",
   "metadata": {},
   "source": [
    "Это детские мультики 0+"
   ]
  },
  {
   "cell_type": "code",
   "execution_count": null,
   "metadata": {
    "colab": {
     "base_uri": "https://localhost:8080/"
    },
    "executionInfo": {
     "elapsed": 16,
     "status": "ok",
     "timestamp": 1680152321507,
     "user": {
      "displayName": "Айдар И",
      "userId": "17862391114143174856"
     },
     "user_tz": -300
    },
    "id": "XV-ZrNajN7LP",
    "outputId": "7277cf15-2844-4fd5-e496-56062049bb06"
   },
   "outputs": [],
   "source": [
    "items.loc[items.age_rating.isna(), 'age_rating'] = 0\n",
    "items.age_rating.isna().sum()"
   ]
  },
  {
   "cell_type": "markdown",
   "metadata": {
    "id": "vaKI9PUBNjtj"
   },
   "source": [
    "Данный признак является числовым, переделаем его в категориальный"
   ]
  },
  {
   "cell_type": "code",
   "execution_count": null,
   "metadata": {
    "id": "J9tsnfNHNvgb"
   },
   "outputs": [],
   "source": [
    "items.age_rating = items.age_rating.astype('category')"
   ]
  },
  {
   "cell_type": "markdown",
   "metadata": {
    "id": "SeOOV098MeUq"
   },
   "source": [
    "### studios"
   ]
  },
  {
   "cell_type": "code",
   "execution_count": null,
   "metadata": {
    "colab": {
     "base_uri": "https://localhost:8080/",
     "height": 454
    },
    "executionInfo": {
     "elapsed": 1382,
     "status": "ok",
     "timestamp": 1680152322877,
     "user": {
      "displayName": "Айдар И",
      "userId": "17862391114143174856"
     },
     "user_tz": -300
    },
    "id": "TMEYF6HhOq-C",
    "outputId": "cc442832-7ed9-4c44-9186-15cf12734c07"
   },
   "outputs": [],
   "source": [
    "items.studios.value_counts().plot.bar(figsize=(18, 4))"
   ]
  },
  {
   "cell_type": "markdown",
   "metadata": {
    "id": "B8LsO2XaPvPp"
   },
   "source": [
    "Топ-3 - это студии HBO, Ленфильм и Sony Pictures"
   ]
  },
  {
   "cell_type": "code",
   "execution_count": null,
   "metadata": {
    "colab": {
     "base_uri": "https://localhost:8080/"
    },
    "executionInfo": {
     "elapsed": 29,
     "status": "ok",
     "timestamp": 1680152322878,
     "user": {
      "displayName": "Айдар И",
      "userId": "17862391114143174856"
     },
     "user_tz": -300
    },
    "id": "7RvSJVQsP7H9",
    "outputId": "b19349a7-70ef-453c-cfaa-3fd32afbce82"
   },
   "outputs": [],
   "source": [
    "# пропуски\n",
    "items.studios.isna().sum()"
   ]
  },
  {
   "cell_type": "code",
   "execution_count": null,
   "metadata": {
    "colab": {
     "base_uri": "https://localhost:8080/"
    },
    "executionInfo": {
     "elapsed": 24,
     "status": "ok",
     "timestamp": 1680152322880,
     "user": {
      "displayName": "Айдар И",
      "userId": "17862391114143174856"
     },
     "user_tz": -300
    },
    "id": "DwHXIzYUP7Ez",
    "outputId": "25106053-5937-423a-92fb-3c67bf2b920c"
   },
   "outputs": [],
   "source": [
    "items.loc[items.studios.isna(), 'studios'] = 'studios_unknown'\n",
    "items.studios.isna().sum()"
   ]
  },
  {
   "cell_type": "code",
   "execution_count": null,
   "metadata": {
    "id": "XmRi4fP8ax61"
   },
   "outputs": [],
   "source": [
    "# приведем к нижнему регистру\n",
    "items.studios = items.studios.str.lower()"
   ]
  },
  {
   "cell_type": "code",
   "execution_count": null,
   "metadata": {
    "id": "OfqjdQGeQQVz"
   },
   "outputs": [],
   "source": [
    "items.studios = items.studios.astype('category')"
   ]
  },
  {
   "cell_type": "markdown",
   "metadata": {
    "id": "EInbGZ91Mfwp"
   },
   "source": [
    "### directors"
   ]
  },
  {
   "cell_type": "code",
   "execution_count": null,
   "metadata": {
    "colab": {
     "base_uri": "https://localhost:8080/"
    },
    "executionInfo": {
     "elapsed": 22,
     "status": "ok",
     "timestamp": 1680152322882,
     "user": {
      "displayName": "Айдар И",
      "userId": "17862391114143174856"
     },
     "user_tz": -300
    },
    "id": "WXEVYdNwOrap",
    "outputId": "4b0ea206-deb2-4e0c-e172-3b86fa0f9775"
   },
   "outputs": [],
   "source": [
    "items.directors.value_counts()"
   ]
  },
  {
   "cell_type": "code",
   "execution_count": null,
   "metadata": {
    "colab": {
     "base_uri": "https://localhost:8080/"
    },
    "executionInfo": {
     "elapsed": 713,
     "status": "ok",
     "timestamp": 1680152323577,
     "user": {
      "displayName": "Айдар И",
      "userId": "17862391114143174856"
     },
     "user_tz": -300
    },
    "id": "LtYPQnYhRE-t",
    "outputId": "c70286cc-3787-46a8-9cf7-a3b75967f43c"
   },
   "outputs": [],
   "source": [
    "items.directors.isna().sum()"
   ]
  },
  {
   "cell_type": "code",
   "execution_count": null,
   "metadata": {
    "colab": {
     "base_uri": "https://localhost:8080/"
    },
    "executionInfo": {
     "elapsed": 74,
     "status": "ok",
     "timestamp": 1680152323577,
     "user": {
      "displayName": "Айдар И",
      "userId": "17862391114143174856"
     },
     "user_tz": -300
    },
    "id": "Zw9X-0sVRI9c",
    "outputId": "2443178b-a399-46aa-9694-e6b31c55af62"
   },
   "outputs": [],
   "source": [
    "items.directors.fillna('directors_unknown', inplace=True)\n",
    "items.directors.isna().sum()"
   ]
  },
  {
   "cell_type": "code",
   "execution_count": null,
   "metadata": {
    "id": "mq8FruTMa1UD"
   },
   "outputs": [],
   "source": [
    "# приведем к нижнему регистру\n",
    "items.directors = items.directors.str.lower()"
   ]
  },
  {
   "cell_type": "code",
   "execution_count": null,
   "metadata": {
    "id": "_DAZ5EpPRWpC"
   },
   "outputs": [],
   "source": [
    "items.directors = items.directors.astype('category')"
   ]
  },
  {
   "cell_type": "markdown",
   "metadata": {
    "id": "clxSMqBsMhyn"
   },
   "source": [
    "### actors"
   ]
  },
  {
   "cell_type": "code",
   "execution_count": null,
   "metadata": {},
   "outputs": [],
   "source": [
    "items.actors.value_counts()"
   ]
  },
  {
   "cell_type": "code",
   "execution_count": null,
   "metadata": {
    "colab": {
     "base_uri": "https://localhost:8080/"
    },
    "executionInfo": {
     "elapsed": 70,
     "status": "ok",
     "timestamp": 1680152323579,
     "user": {
      "displayName": "Айдар И",
      "userId": "17862391114143174856"
     },
     "user_tz": -300
    },
    "id": "UBwy_8fVOsAT",
    "outputId": "6623cb8c-0ac9-4914-f7bc-bade8098da56"
   },
   "outputs": [],
   "source": [
    "items.actors.isna().sum()"
   ]
  },
  {
   "cell_type": "code",
   "execution_count": null,
   "metadata": {
    "colab": {
     "base_uri": "https://localhost:8080/"
    },
    "executionInfo": {
     "elapsed": 66,
     "status": "ok",
     "timestamp": 1680152323579,
     "user": {
      "displayName": "Айдар И",
      "userId": "17862391114143174856"
     },
     "user_tz": -300
    },
    "id": "kfvS4AUIakAG",
    "outputId": "8d6b7a31-7955-404e-a0de-8088c1321b0f"
   },
   "outputs": [],
   "source": [
    "items.actors.fillna('actors_unknown', inplace=True)\n",
    "items.actors.isna().sum()"
   ]
  },
  {
   "cell_type": "code",
   "execution_count": null,
   "metadata": {
    "id": "frk54bPnarxv"
   },
   "outputs": [],
   "source": [
    "# приведем к нижнему регистру\n",
    "items.actors = items.actors.str.lower()"
   ]
  },
  {
   "cell_type": "code",
   "execution_count": null,
   "metadata": {
    "id": "ZJHdjRmdaoKj"
   },
   "outputs": [],
   "source": [
    "items.actors = items.actors.astype('category')"
   ]
  },
  {
   "cell_type": "markdown",
   "metadata": {
    "id": "1U2gUsnUMjuB"
   },
   "source": [
    "### description"
   ]
  },
  {
   "cell_type": "code",
   "execution_count": null,
   "metadata": {
    "colab": {
     "base_uri": "https://localhost:8080/"
    },
    "executionInfo": {
     "elapsed": 60,
     "status": "ok",
     "timestamp": 1680152323580,
     "user": {
      "displayName": "Айдар И",
      "userId": "17862391114143174856"
     },
     "user_tz": -300
    },
    "id": "i7oklv4wOsjU",
    "outputId": "7fc61b7f-8dba-4bed-908f-7f13badc7aa8"
   },
   "outputs": [],
   "source": [
    "items.description"
   ]
  },
  {
   "cell_type": "code",
   "execution_count": null,
   "metadata": {
    "colab": {
     "base_uri": "https://localhost:8080/"
    },
    "executionInfo": {
     "elapsed": 56,
     "status": "ok",
     "timestamp": 1680152323581,
     "user": {
      "displayName": "Айдар И",
      "userId": "17862391114143174856"
     },
     "user_tz": -300
    },
    "id": "nLvBbZzHber1",
    "outputId": "abbd21d6-9c96-4a0f-a2da-cb27e8de83e8"
   },
   "outputs": [],
   "source": [
    "items.description.isna().sum()"
   ]
  },
  {
   "cell_type": "code",
   "execution_count": null,
   "metadata": {
    "colab": {
     "base_uri": "https://localhost:8080/"
    },
    "executionInfo": {
     "elapsed": 52,
     "status": "ok",
     "timestamp": 1680152323581,
     "user": {
      "displayName": "Айдар И",
      "userId": "17862391114143174856"
     },
     "user_tz": -300
    },
    "id": "ozSnp-TfbiuC",
    "outputId": "272b7b5b-1e2d-40f6-9148-7415b6a9ef14"
   },
   "outputs": [],
   "source": [
    "items.description.fillna('None_description', inplace=True)\n",
    "items.description.isna().sum()"
   ]
  },
  {
   "cell_type": "markdown",
   "metadata": {
    "id": "Dl4ayUWLMmTO"
   },
   "source": [
    "### keywords"
   ]
  },
  {
   "cell_type": "code",
   "execution_count": null,
   "metadata": {
    "colab": {
     "base_uri": "https://localhost:8080/"
    },
    "executionInfo": {
     "elapsed": 48,
     "status": "ok",
     "timestamp": 1680152323581,
     "user": {
      "displayName": "Айдар И",
      "userId": "17862391114143174856"
     },
     "user_tz": -300
    },
    "id": "jeGQ_T8tbsud",
    "outputId": "8b23609f-c471-42dd-8584-4e5757b2273b"
   },
   "outputs": [],
   "source": [
    "items.keywords"
   ]
  },
  {
   "cell_type": "code",
   "execution_count": null,
   "metadata": {
    "colab": {
     "base_uri": "https://localhost:8080/"
    },
    "executionInfo": {
     "elapsed": 44,
     "status": "ok",
     "timestamp": 1680152323582,
     "user": {
      "displayName": "Айдар И",
      "userId": "17862391114143174856"
     },
     "user_tz": -300
    },
    "id": "SU35mnOAbxyv",
    "outputId": "afb040c4-f885-4ba5-bdff-0a3d60adecfb"
   },
   "outputs": [],
   "source": [
    "items.keywords.isna().sum()"
   ]
  },
  {
   "cell_type": "markdown",
   "metadata": {},
   "source": [
    "Тут можно попробовать еще вариант - подобрать ключевые слова из description. Пока заполним None"
   ]
  },
  {
   "cell_type": "code",
   "execution_count": null,
   "metadata": {
    "colab": {
     "base_uri": "https://localhost:8080/"
    },
    "executionInfo": {
     "elapsed": 38,
     "status": "ok",
     "timestamp": 1680152323582,
     "user": {
      "displayName": "Айдар И",
      "userId": "17862391114143174856"
     },
     "user_tz": -300
    },
    "id": "8tAs2PYWbxpd",
    "outputId": "fe3dd6d2-22fb-4833-811a-9a22761fadd5"
   },
   "outputs": [],
   "source": [
    "items.keywords.fillna('None_keywords', inplace=True)\n",
    "items.keywords.isna().sum()"
   ]
  },
  {
   "cell_type": "markdown",
   "metadata": {
    "id": "qumkVvwLcC7r"
   },
   "source": [
    "### Повторы\n",
    "\n",
    "Посмотрим, есть ли дубликаты."
   ]
  },
  {
   "cell_type": "code",
   "execution_count": null,
   "metadata": {
    "colab": {
     "base_uri": "https://localhost:8080/",
     "height": 93
    },
    "executionInfo": {
     "elapsed": 35,
     "status": "ok",
     "timestamp": 1680152323582,
     "user": {
      "displayName": "Айдар И",
      "userId": "17862391114143174856"
     },
     "user_tz": -300
    },
    "id": "eZS8UG1hcwJJ",
    "outputId": "c762ee52-b1f1-45c2-9790-24560348b138"
   },
   "outputs": [],
   "source": [
    "# по id фильма\n",
    "items[items.duplicated(subset=['item_id'], keep=False)]"
   ]
  },
  {
   "cell_type": "code",
   "execution_count": null,
   "metadata": {
    "colab": {
     "base_uri": "https://localhost:8080/",
     "height": 384
    },
    "executionInfo": {
     "elapsed": 34,
     "status": "ok",
     "timestamp": 1680152323583,
     "user": {
      "displayName": "Айдар И",
      "userId": "17862391114143174856"
     },
     "user_tz": -300
    },
    "id": "EnGPDxxJcGYs",
    "outputId": "6aae6da5-76fa-4169-abec-91b5ef826d6c"
   },
   "outputs": [],
   "source": [
    "# по нескольким признакам\n",
    "items[\n",
    "    items.duplicated(\n",
    "        subset=['content_type', 'countries', 'title', 'directors'], keep=False\n",
    "    )\n",
    "]"
   ]
  },
  {
   "cell_type": "code",
   "execution_count": null,
   "metadata": {
    "colab": {
     "base_uri": "https://localhost:8080/",
     "height": 93
    },
    "executionInfo": {
     "elapsed": 651,
     "status": "ok",
     "timestamp": 1680152366691,
     "user": {
      "displayName": "Айдар И",
      "userId": "17862391114143174856"
     },
     "user_tz": -300
    },
    "id": "-myhT2HEdUa9",
    "outputId": "8ce0d71f-3ff2-42c1-896b-e7258531eb9d"
   },
   "outputs": [],
   "source": [
    "# удалим обнаруженный дубликат\n",
    "items.drop_duplicates(\n",
    "    subset=['content_type', 'countries', 'title', 'directors'], inplace=True\n",
    ")\n",
    "items[\n",
    "    items.duplicated(\n",
    "        subset=['content_type', 'countries', 'title', 'directors'], keep=False\n",
    "    )\n",
    "]"
   ]
  },
  {
   "cell_type": "markdown",
   "metadata": {
    "id": "YaZ1IbKDeYlU"
   },
   "source": [
    "### Итог"
   ]
  },
  {
   "cell_type": "code",
   "execution_count": null,
   "metadata": {
    "colab": {
     "base_uri": "https://localhost:8080/"
    },
    "executionInfo": {
     "elapsed": 479,
     "status": "ok",
     "timestamp": 1680152372168,
     "user": {
      "displayName": "Айдар И",
      "userId": "17862391114143174856"
     },
     "user_tz": -300
    },
    "id": "R7-Rl0e-dyQw",
    "outputId": "b1f78c81-6dd2-49a4-d50a-f624334ebe02"
   },
   "outputs": [],
   "source": [
    "items.info()"
   ]
  },
  {
   "cell_type": "markdown",
   "metadata": {
    "id": "2lntlLCsfMm4"
   },
   "source": [
    "Пропущенные значения заполнили определнными значениями, при необходимости их можно будет заменить."
   ]
  },
  {
   "cell_type": "markdown",
   "metadata": {
    "id": "xGZpCBlyCcF2"
   },
   "source": [
    "## Interactions/Взаимодействия"
   ]
  },
  {
   "cell_type": "code",
   "execution_count": null,
   "metadata": {
    "colab": {
     "base_uri": "https://localhost:8080/",
     "height": 424
    },
    "executionInfo": {
     "elapsed": 809,
     "status": "ok",
     "timestamp": 1680152379933,
     "user": {
      "displayName": "Айдар И",
      "userId": "17862391114143174856"
     },
     "user_tz": -300
    },
    "id": "GSr4BRBj_9DB",
    "outputId": "5818d6a6-8a07-4da6-ce55-9c3357e86e27"
   },
   "outputs": [],
   "source": [
    "interactions"
   ]
  },
  {
   "cell_type": "code",
   "execution_count": null,
   "metadata": {
    "colab": {
     "base_uri": "https://localhost:8080/"
    },
    "executionInfo": {
     "elapsed": 421,
     "status": "ok",
     "timestamp": 1680152382824,
     "user": {
      "displayName": "Айдар И",
      "userId": "17862391114143174856"
     },
     "user_tz": -300
    },
    "id": "OaFKTjQ6C-10",
    "outputId": "91c2e09b-573c-4248-8687-e838fbac82a6"
   },
   "outputs": [],
   "source": [
    "interactions.isnull().sum()"
   ]
  },
  {
   "cell_type": "code",
   "execution_count": null,
   "metadata": {
    "colab": {
     "base_uri": "https://localhost:8080/",
     "height": 482
    },
    "executionInfo": {
     "elapsed": 6303,
     "status": "ok",
     "timestamp": 1680153353253,
     "user": {
      "displayName": "Айдар И",
      "userId": "17862391114143174856"
     },
     "user_tz": -300
    },
    "id": "IYhiLGEd1UKc",
    "outputId": "4202c538-db7e-4768-8938-36397f646be6"
   },
   "outputs": [],
   "source": [
    "sns.histplot(interactions.watched_pct)"
   ]
  },
  {
   "cell_type": "markdown",
   "metadata": {
    "id": "vH8STp0U6GGT"
   },
   "source": [
    "Большая часть досматривает видео до конца. Также очень много тех, кто перестает смотреть сразу же. И, конечно, есть варианты между ними."
   ]
  },
  {
   "cell_type": "code",
   "execution_count": null,
   "metadata": {
    "colab": {
     "base_uri": "https://localhost:8080/"
    },
    "executionInfo": {
     "elapsed": 529,
     "status": "ok",
     "timestamp": 1680153402700,
     "user": {
      "displayName": "Айдар И",
      "userId": "17862391114143174856"
     },
     "user_tz": -300
    },
    "id": "DR8935vf7zje",
    "outputId": "744e79a7-30d5-4cbf-e04a-c2df956cd17d"
   },
   "outputs": [],
   "source": [
    "# пропуски заменим нулем\n",
    "interactions.watched_pct.fillna(0, inplace=True)\n",
    "interactions.watched_pct.isna().sum()"
   ]
  },
  {
   "cell_type": "markdown",
   "metadata": {},
   "source": [
    "Как вариант еще. Пропущенные значения watched_pct можно посчиать, так как известно время просмотра, только для этого нужно откуда-то спарсить общую продолжительность фильма."
   ]
  },
  {
   "cell_type": "markdown",
   "metadata": {
    "id": "wU-J0AlO82CQ"
   },
   "source": [
    "### Повторы"
   ]
  },
  {
   "cell_type": "code",
   "execution_count": null,
   "metadata": {
    "colab": {
     "base_uri": "https://localhost:8080/"
    },
    "executionInfo": {
     "elapsed": 3578,
     "status": "ok",
     "timestamp": 1680153454514,
     "user": {
      "displayName": "Айдар И",
      "userId": "17862391114143174856"
     },
     "user_tz": -300
    },
    "id": "v8w17uea8vnF",
    "outputId": "bb837e2e-e787-415c-a19c-7aa992a0596f"
   },
   "outputs": [],
   "source": [
    "# проверка на дубли\n",
    "interactions.duplicated(subset=['user_id', 'item_id'], keep=False).sum()"
   ]
  },
  {
   "cell_type": "markdown",
   "metadata": {
    "id": "a-l8pOMBf8H8"
   },
   "source": [
    "# Еще немного статистики\n",
    "\n",
    "В users: пользователи + фичи \\\n",
    "В items: объекты + фичи \\\n",
    "В interactions: пользователи + объекты + взаимодействия "
   ]
  },
  {
   "cell_type": "code",
   "execution_count": null,
   "metadata": {
    "id": "araxPOlogeLr"
   },
   "outputs": [],
   "source": [
    "# пользователи с фичами и взаимодействиями - это пересечение users & interactions\n",
    "users_features_interactions = list(\n",
    "    set(users.user_id) & set(interactions.user_id.unique())\n",
    ")\n",
    "\n",
    "# пользователи только с фичами - это users минус interactions\n",
    "users_only_features = list(\n",
    "    set(users.user_id) - set(interactions.user_id.unique())\n",
    ")\n",
    "\n",
    "# пользователи только с действиями - это interactions минус users\n",
    "users_only_interactions = list(\n",
    "    set(interactions.user_id.unique()) - set(users.user_id)\n",
    ")\n",
    "\n",
    "# всего пользователей\n",
    "users_total = (\n",
    "    users_features_interactions + users_only_features + users_only_interactions\n",
    ")"
   ]
  },
  {
   "cell_type": "code",
   "execution_count": null,
   "metadata": {
    "colab": {
     "base_uri": "https://localhost:8080/"
    },
    "executionInfo": {
     "elapsed": 8,
     "status": "ok",
     "timestamp": 1680156554998,
     "user": {
      "displayName": "Айдар И",
      "userId": "17862391114143174856"
     },
     "user_tz": -300
    },
    "id": "q0absY-uA6Ju",
    "outputId": "eaf732bb-5822-42fc-b739-abcebe89c4b0"
   },
   "outputs": [],
   "source": [
    "print(f'Кол-во пользователей всего - {len(users_total)}')\n",
    "print(f'Кол-во пользователей только c фичами - {len(users_only_features)}')\n",
    "print(\n",
    "    f'Кол-во пользователей только c взаимодействиями - {len(users_only_interactions)}'\n",
    ")\n",
    "print(\n",
    "    f'Кол-во пользователей c взаимодействиями и фичами - {len(users_features_interactions)}'\n",
    ")"
   ]
  },
  {
   "cell_type": "code",
   "execution_count": null,
   "metadata": {
    "id": "bHcBtdOkEYmB"
   },
   "outputs": [],
   "source": [
    "# объекты с фичами и взаимодействиями - это пересечение  items & interactions\n",
    "items_features_interactions = list(\n",
    "    set(items.item_id) & set(interactions.item_id.unique())\n",
    ")\n",
    "\n",
    "# объекты только с фичами - это items минус interactions\n",
    "items_only_features = list(\n",
    "    set(items.item_id) - set(interactions.item_id.unique())\n",
    ")\n",
    "\n",
    "# объекты только с действиями - это interactions минус items\n",
    "items_only_interactions = list(\n",
    "    set(interactions.item_id.unique()) - set(items.item_id)\n",
    ")\n",
    "\n",
    "# всего пользователей\n",
    "items_total = (\n",
    "    items_features_interactions + items_only_features + items_only_interactions\n",
    ")"
   ]
  },
  {
   "cell_type": "code",
   "execution_count": null,
   "metadata": {
    "colab": {
     "base_uri": "https://localhost:8080/"
    },
    "executionInfo": {
     "elapsed": 602,
     "status": "ok",
     "timestamp": 1680156598439,
     "user": {
      "displayName": "Айдар И",
      "userId": "17862391114143174856"
     },
     "user_tz": -300
    },
    "id": "plXRlzBoIQ4j",
    "outputId": "2553e70f-b430-480c-eb7f-b9b9297ac2dc"
   },
   "outputs": [],
   "source": [
    "print(f'Кол-во объектов всего - {len(items_total)}')\n",
    "print(f'Кол-во объектов только c фичами - {len(items_only_features)}')\n",
    "print(\n",
    "    f'Кол-во объектов только c взаимодействиями - {len(items_only_interactions)}'\n",
    ")\n",
    "print(\n",
    "    f'Кол-во объектов c взаимодействиями и фичами - {len(items_features_interactions)}'\n",
    ")"
   ]
  },
  {
   "cell_type": "markdown",
   "metadata": {
    "id": "2eu2eGJYKqXn"
   },
   "source": [
    "# Сохранение\n",
    "\n",
    "Сохраним подготовленные данные"
   ]
  },
  {
   "cell_type": "code",
   "execution_count": null,
   "metadata": {
    "id": "8dfXUkcqKtao"
   },
   "outputs": [],
   "source": [
    "users.to_csv(r'../datasets/users_processed.csv', index=False)\n",
    "items.drop(columns=['for_kids']).to_csv(\n",
    "    r'../datasets/items_processed.csv',\n",
    "    index=False,\n",
    ")\n",
    "interactions.to_csv(r'../datasets/interactions_processed.csv', index=False)"
   ]
  }
 ],
 "metadata": {
  "colab": {
   "authorship_tag": "ABX9TyMkGD9GeYtCJsUVtq/1mOs2",
   "mount_file_id": "1rjnwKomucl7Hay4gYUJZH1hkECuwBQ5S",
   "provenance": [],
   "toc_visible": true
  },
  "kernelspec": {
   "display_name": ".venv",
   "language": "python",
   "name": "python3"
  },
  "language_info": {
   "codemirror_mode": {
    "name": "ipython",
    "version": 3
   },
   "file_extension": ".py",
   "mimetype": "text/x-python",
   "name": "python",
   "nbconvert_exporter": "python",
   "pygments_lexer": "ipython3",
   "version": "3.9.13"
  }
 },
 "nbformat": 4,
 "nbformat_minor": 4
}

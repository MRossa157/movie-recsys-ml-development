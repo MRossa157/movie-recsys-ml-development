{
 "cells": [
  {
   "cell_type": "code",
   "execution_count": null,
   "metadata": {
    "colab": {
     "base_uri": "https://localhost:8080/"
    },
    "id": "Kjy5ed1mcnsC",
    "outputId": "5f6a25ab-f19d-4cd3-b873-d129e13d8086"
   },
   "outputs": [],
   "source": [
    "import os\n",
    "import warnings\n",
    "from datetime import datetime\n",
    "\n",
    "import numpy as np\n",
    "import optuna\n",
    "import pandas as pd\n",
    "import torch\n",
    "from implicit.als import AlternatingLeastSquares\n",
    "from lightfm import LightFM\n",
    "from lightning_fabric import seed_everything\n",
    "from rectools import Columns\n",
    "from rectools.dataset import Dataset\n",
    "from rectools.metrics import MAP, Recall, calc_metrics\n",
    "from rectools.models import (\n",
    "    BERT4RecModel,\n",
    "    EASEModel,\n",
    "    ImplicitALSWrapperModel,\n",
    "    LightFMWrapperModel,\n",
    "    PopularModel,\n",
    ")\n",
    "\n",
    "os.environ['OPENBLAS_NUM_THREADS'] = '1'\n",
    "# Enable deterministic behaviour with CUDA >= 10.2\n",
    "os.environ['CUBLAS_WORKSPACE_CONFIG'] = ':4096:8'\n",
    "\n",
    "warnings.filterwarnings(action='ignore', category=UserWarning)\n",
    "\n",
    "\n",
    "RANDOM_STATE = 42\n",
    "torch.use_deterministic_algorithms(True)\n",
    "seed_everything(RANDOM_STATE, workers=True)\n"
   ]
  },
  {
   "cell_type": "code",
   "execution_count": null,
   "metadata": {
    "id": "Tor3gC4RcnsD"
   },
   "outputs": [],
   "source": [
    "from enum import Enum\n",
    "\n",
    "\n",
    "class ItemsFeatureTopKConfig(int, Enum):\n",
    "    \"\"\"Конфигурация для ограничения количества топовых значений фич.\"\"\"\n",
    "\n",
    "    DIRECTORS_TOP_K = 30\n",
    "    STUDIOS_TOP_K = 15\n"
   ]
  },
  {
   "cell_type": "code",
   "execution_count": null,
   "metadata": {
    "id": "-FfeIWoWcnsE"
   },
   "outputs": [],
   "source": [
    "interactions = pd.read_csv(r'../interactions_processed.csv')\n",
    "users = pd.read_csv(r'../users_processed.csv')\n",
    "items = pd.read_csv(r'../items_processed.csv')"
   ]
  },
  {
   "cell_type": "markdown",
   "metadata": {
    "id": "_0RZ2I2RcnsE"
   },
   "source": [
    "# Обработка данных"
   ]
  },
  {
   "cell_type": "code",
   "execution_count": null,
   "metadata": {
    "id": "IGPHAa3FcnsF"
   },
   "outputs": [],
   "source": [
    "Columns.Datetime = 'last_watch_dt'"
   ]
  },
  {
   "cell_type": "code",
   "execution_count": null,
   "metadata": {
    "id": "tUVZszhncnsF"
   },
   "outputs": [],
   "source": [
    "interactions.drop(\n",
    "    interactions[interactions[Columns.Datetime].str.len() != 10].index,\n",
    "    inplace=True,\n",
    ")\n",
    "interactions[Columns.Datetime] = pd.to_datetime(\n",
    "    interactions[Columns.Datetime], format='%Y-%m-%d'\n",
    ")\n",
    "max_date = interactions[Columns.Datetime].max()\n",
    "interactions[Columns.Weight] = np.where(interactions['watched_pct'] > 20, 3, 1)"
   ]
  },
  {
   "cell_type": "code",
   "execution_count": null,
   "metadata": {
    "id": "jo7hz_HacnsF"
   },
   "outputs": [],
   "source": [
    "# Разделяем на train и test\n",
    "train = interactions[\n",
    "    interactions[Columns.Datetime] < max_date - pd.Timedelta(days=7)\n",
    "].copy()\n",
    "test = interactions[\n",
    "    interactions[Columns.Datetime] >= max_date - pd.Timedelta(days=7)\n",
    "].copy()"
   ]
  },
  {
   "cell_type": "code",
   "execution_count": null,
   "metadata": {
    "colab": {
     "base_uri": "https://localhost:8080/"
    },
    "id": "0wZlOQAhcnsF",
    "outputId": "70e95b20-858f-42d4-c7bc-3f8fbce81ebe"
   },
   "outputs": [],
   "source": [
    "train.drop(train.query('total_dur < 300').index, inplace=True)\n",
    "cold_users = set(test[Columns.User]) - set(train[Columns.User])\n",
    "len(cold_users)"
   ]
  },
  {
   "cell_type": "code",
   "execution_count": null,
   "metadata": {
    "id": "1Jt7Z4ovcnsF"
   },
   "outputs": [],
   "source": [
    "# Отбрасываем холодных пользователей\n",
    "test.drop(test[test[Columns.User].isin(cold_users)].index, inplace=True)"
   ]
  },
  {
   "cell_type": "markdown",
   "metadata": {
    "id": "EydMpYLicnsG"
   },
   "source": [
    "# Подготовка фич"
   ]
  },
  {
   "cell_type": "markdown",
   "metadata": {
    "id": "z6INHxudcnsG"
   },
   "source": [
    "## User features"
   ]
  },
  {
   "cell_type": "code",
   "execution_count": null,
   "metadata": {
    "colab": {
     "base_uri": "https://localhost:8080/",
     "height": 0
    },
    "id": "lC0FRbpJcnsG",
    "outputId": "b531fa2e-3c2e-441f-9ed7-d4b87f2f6fad"
   },
   "outputs": [],
   "source": [
    "users"
   ]
  },
  {
   "cell_type": "code",
   "execution_count": null,
   "metadata": {
    "id": "xWm2hTrRcnsG"
   },
   "outputs": [],
   "source": [
    "users = users.loc[users[Columns.User].isin(train[Columns.User])].copy()"
   ]
  },
  {
   "cell_type": "code",
   "execution_count": null,
   "metadata": {
    "colab": {
     "base_uri": "https://localhost:8080/",
     "height": 0
    },
    "id": "dSFP38e5cnsG",
    "outputId": "3b739865-1d5a-4be8-cc35-021c04b3648b"
   },
   "outputs": [],
   "source": [
    "user_features_frames = []\n",
    "for feature in ['sex', 'age', 'income']:\n",
    "    feature_frame = users.reindex(columns=[Columns.User, feature])\n",
    "    feature_frame.columns = ['id', 'value']\n",
    "    feature_frame['feature'] = feature\n",
    "    user_features_frames.append(feature_frame)\n",
    "user_features = pd.concat(user_features_frames)\n",
    "user_features.head()"
   ]
  },
  {
   "cell_type": "markdown",
   "metadata": {
    "id": "RvmxMaBOcnsG"
   },
   "source": [
    "## Item features"
   ]
  },
  {
   "cell_type": "code",
   "execution_count": null,
   "metadata": {
    "id": "3jUnog-DcnsG"
   },
   "outputs": [],
   "source": [
    "items = items.loc[items[Columns.Item].isin(train[Columns.Item])].copy()"
   ]
  },
  {
   "cell_type": "code",
   "execution_count": null,
   "metadata": {
    "colab": {
     "base_uri": "https://localhost:8080/",
     "height": 0
    },
    "id": "4Tnn-quXcnsH",
    "outputId": "081d7e64-b5c4-4765-db19-f691b797d6de"
   },
   "outputs": [],
   "source": [
    "items['genre'] = (\n",
    "    items['genres'].str.replace(', ', ',', regex=False).str.split(',')\n",
    ")\n",
    "genre_feature = items[[Columns.Item, 'genre']].explode('genre')\n",
    "genre_feature.columns = ['id', 'value']\n",
    "genre_feature['feature'] = 'genre'\n",
    "genre_feature.head()"
   ]
  },
  {
   "cell_type": "code",
   "execution_count": null,
   "metadata": {
    "id": "VkBhy6x_cnsH"
   },
   "outputs": [],
   "source": [
    "content_feature = items.reindex(columns=[Columns.Item, 'content_type'])\n",
    "content_feature.columns = ['id', 'value']\n",
    "content_feature['feature'] = 'content_type'"
   ]
  },
  {
   "cell_type": "code",
   "execution_count": null,
   "metadata": {
    "id": "uFVwP4bxcnsH"
   },
   "outputs": [],
   "source": [
    "countries_feature = items.reindex(columns=[Columns.Item, 'countries'])\n",
    "countries_feature.columns = ['id', 'value']\n",
    "countries_feature['feature'] = 'countries'"
   ]
  },
  {
   "cell_type": "code",
   "execution_count": null,
   "metadata": {
    "id": "sHxIyDzKcnsH"
   },
   "outputs": [],
   "source": [
    "release_decade_feature = items.reindex(columns=[Columns.Item, 'release_decade'])\n",
    "release_decade_feature.columns = ['id', 'value']\n",
    "release_decade_feature['feature'] = 'release_decade'"
   ]
  },
  {
   "cell_type": "code",
   "execution_count": null,
   "metadata": {
    "colab": {
     "base_uri": "https://localhost:8080/",
     "height": 0
    },
    "id": "fLbmT-8LcnsH",
    "outputId": "4877a134-34cb-4546-9f2d-315a8ba48509"
   },
   "outputs": [],
   "source": [
    "release_decade_feature['value'].value_counts()"
   ]
  },
  {
   "cell_type": "code",
   "execution_count": null,
   "metadata": {
    "id": "9YdrOTwbcnsH"
   },
   "outputs": [],
   "source": [
    "age_rating_feature = items.reindex(columns=[Columns.Item, 'age_rating'])\n",
    "age_rating_feature.columns = ['id', 'value']\n",
    "age_rating_feature['feature'] = 'age_rating'"
   ]
  },
  {
   "cell_type": "markdown",
   "metadata": {
    "id": "dcFDkaoQcnsH"
   },
   "source": [
    "Берем только ТОП-K студий, а остальные заменяем на 'other_studio'. 'other_studio' и 'unknown_studio' - **разные** вещи!"
   ]
  },
  {
   "cell_type": "code",
   "execution_count": null,
   "metadata": {
    "id": "9nZklpBBcnsH"
   },
   "outputs": [],
   "source": [
    "def replace_rare_studios(studio_list):\n",
    "    return [\n",
    "        studio if studio in top_studios else 'other_studio'\n",
    "        for studio in studio_list\n",
    "    ]\n",
    "\n",
    "\n",
    "items['studio'] = items['studios'].str.split(r',\\s*')\n",
    "top_studios = (\n",
    "    items['studio']\n",
    "    .explode()\n",
    "    .value_counts()\n",
    "    .head(ItemsFeatureTopKConfig.STUDIOS_TOP_K)\n",
    "    .index\n",
    ")\n",
    "items['studio'] = items['studio'].apply(replace_rare_studios)"
   ]
  },
  {
   "cell_type": "code",
   "execution_count": null,
   "metadata": {
    "id": "SYVeedmvcnsH"
   },
   "outputs": [],
   "source": [
    "studios_feature = items[[Columns.Item, 'studio']].explode('studio')\n",
    "studios_feature.columns = ['id', 'value']\n",
    "studios_feature['feature'] = 'studios'"
   ]
  },
  {
   "cell_type": "code",
   "execution_count": null,
   "metadata": {
    "id": "YWbOt-H6cnsI"
   },
   "outputs": [],
   "source": [
    "# Для директоров оставляем топ-30, остальные заменяем на 'other'\n",
    "items['directors'] = (\n",
    "    items['directors'].str.replace(', ', ',', regex=False).str.split(',')\n",
    ")\n",
    "top_directors = (\n",
    "    items['directors']\n",
    "    .explode()\n",
    "    .value_counts()\n",
    "    .head(ItemsFeatureTopKConfig.DIRECTORS_TOP_K)\n",
    "    .index\n",
    ")\n",
    "\n",
    "items['director'] = items['directors'].apply(\n",
    "    lambda x: [d if d in top_directors else 'other_director' for d in x]\n",
    ")"
   ]
  },
  {
   "cell_type": "code",
   "execution_count": null,
   "metadata": {
    "colab": {
     "base_uri": "https://localhost:8080/",
     "height": 0
    },
    "id": "kJIy2cA3cnsI",
    "outputId": "fe726d10-a484-4e75-f033-0e1bda9e968a"
   },
   "outputs": [],
   "source": [
    "directors_feature = items[[Columns.Item, 'director']].explode('director')\n",
    "directors_feature.columns = ['id', 'value']\n",
    "directors_feature['feature'] = 'director'\n",
    "directors_feature.head()"
   ]
  },
  {
   "cell_type": "code",
   "execution_count": null,
   "metadata": {
    "id": "FUO2jDbtcnsI"
   },
   "outputs": [],
   "source": [
    "item_features = pd.concat((\n",
    "    genre_feature,\n",
    "    content_feature,\n",
    "    countries_feature,\n",
    "    release_decade_feature,\n",
    "    age_rating_feature,\n",
    "    studios_feature,\n",
    "    directors_feature,\n",
    "))\n"
   ]
  },
  {
   "cell_type": "code",
   "execution_count": null,
   "metadata": {
    "colab": {
     "base_uri": "https://localhost:8080/"
    },
    "id": "2GuvIWw9cnsI",
    "outputId": "e9d388eb-0845-474b-ef3a-077d8855916c"
   },
   "outputs": [],
   "source": [
    "item_features.info()"
   ]
  },
  {
   "cell_type": "code",
   "execution_count": null,
   "metadata": {
    "id": "GTmR-cyIcnsI"
   },
   "outputs": [],
   "source": [
    "CAT_USER_FEATURES = list(user_features['feature'].unique())\n",
    "CAT_ITEM_FEATURES = list(item_features['feature'].unique())"
   ]
  },
  {
   "cell_type": "code",
   "execution_count": null,
   "metadata": {
    "colab": {
     "base_uri": "https://localhost:8080/"
    },
    "id": "Gq2ZBAjjcnsI",
    "outputId": "838a6827-ed83-44e1-a57f-55c5be24aa98"
   },
   "outputs": [],
   "source": [
    "CAT_ITEM_FEATURES"
   ]
  },
  {
   "cell_type": "code",
   "execution_count": null,
   "metadata": {
    "id": "33Wq7Q4xcnsI"
   },
   "outputs": [],
   "source": [
    "metrics_name = {\n",
    "    'Recall': Recall,\n",
    "    'MAP': MAP,\n",
    "}\n",
    "\n",
    "metrics = {}\n",
    "for metric_name, metric in metrics_name.items():\n",
    "    for k in range(1, 11):\n",
    "        metrics[f'{metric_name}@{k}'] = metric(k=k)"
   ]
  },
  {
   "cell_type": "code",
   "execution_count": null,
   "metadata": {
    "id": "f6luZHZJcnsJ"
   },
   "outputs": [],
   "source": [
    "dataset = Dataset.construct(\n",
    "    interactions_df=interactions,\n",
    "    user_features_df=user_features,\n",
    "    cat_user_features=CAT_USER_FEATURES,\n",
    "    item_features_df=item_features,\n",
    "    cat_item_features=CAT_ITEM_FEATURES,\n",
    ")\n",
    "\n",
    "TEST_USERS = test[Columns.User].unique()"
   ]
  },
  {
   "cell_type": "markdown",
   "metadata": {
    "id": "oxLdU4RlcnsJ"
   },
   "source": [
    "# Подбор гиперпараметров"
   ]
  },
  {
   "cell_type": "markdown",
   "metadata": {
    "id": "Zsze2W4ucnsJ"
   },
   "source": [
    "### Подбор гиперпараметров ImplicitALS"
   ]
  },
  {
   "cell_type": "code",
   "execution_count": null,
   "metadata": {
    "id": "eZ4k9h2mcnsJ"
   },
   "outputs": [],
   "source": [
    "def ials_objective(trial):\n",
    "    factors = trial.suggest_categorical('factors', [4, 8, 16, 32, 64])\n",
    "    regularization = trial.suggest_float('regularization', 0.001, 0.1, log=True)\n",
    "    iterations = trial.suggest_categorical('iterations', [1, 3, 5, 10, 15])\n",
    "\n",
    "    model = ImplicitALSWrapperModel(\n",
    "        model=AlternatingLeastSquares(\n",
    "            factors=factors,\n",
    "            regularization=regularization,\n",
    "            iterations=iterations,\n",
    "            random_state=42,\n",
    "            num_threads=4,\n",
    "            use_gpu=False,\n",
    "        ),\n",
    "        fit_features_together=True,\n",
    "    )\n",
    "\n",
    "    model.fit(dataset)\n",
    "    recos = model.recommend(\n",
    "        users=TEST_USERS,\n",
    "        dataset=dataset,\n",
    "        k=10,\n",
    "        filter_viewed=True,\n",
    "    )\n",
    "\n",
    "    map10 = calc_metrics(metrics, recos, test, train)['MAP@10']\n",
    "    return map10"
   ]
  },
  {
   "cell_type": "code",
   "execution_count": null,
   "metadata": {
    "id": "gr3q8kc_cnsJ"
   },
   "outputs": [],
   "source": [
    "study = optuna.create_study(direction='maximize')\n",
    "study.optimize(ials_objective, n_trials=20)"
   ]
  },
  {
   "cell_type": "code",
   "execution_count": null,
   "metadata": {
    "id": "BcQL_7SUcnsJ"
   },
   "outputs": [],
   "source": [
    "print(f'Best MAP@10 value: {study.best_value}')\n",
    "print(f'Best parameters: {study.best_params}')"
   ]
  },
  {
   "cell_type": "code",
   "execution_count": null,
   "metadata": {
    "id": "bsqRpK5ycnsJ"
   },
   "outputs": [],
   "source": [
    "# Best MAP@10 value: 0.075254069127234\n",
    "# Best parameters: {'factors': 32, 'regularization': 0.01883534498756549, 'iterations': 5}"
   ]
  },
  {
   "cell_type": "markdown",
   "metadata": {
    "id": "23pwvNvQcnsK"
   },
   "source": [
    "### Подбор гиперпараметров LightFM"
   ]
  },
  {
   "cell_type": "code",
   "execution_count": null,
   "metadata": {
    "id": "2K-7YQk7cnsK"
   },
   "outputs": [],
   "source": [
    "def lfm_objective(trial):\n",
    "    no_components = trial.suggest_categorical(\n",
    "        'no_components', [8, 16, 32, 64, 128]\n",
    "    )\n",
    "    learning_rate = trial.suggest_float('learning_rate', 0.005, 0.05, log=True)\n",
    "    rho = trial.suggest_float('rho', 0.9, 0.99, log=True)\n",
    "    epsilon = trial.suggest_float('epsilon', 1e-6, 1e-5, log=True)\n",
    "\n",
    "    model = LightFMWrapperModel(\n",
    "        LightFM(\n",
    "            no_components=no_components,\n",
    "            learning_rate=learning_rate,\n",
    "            rho=rho,\n",
    "            loss='warp',\n",
    "            epsilon=epsilon,\n",
    "            user_alpha=0,\n",
    "            item_alpha=0,\n",
    "            random_state=42,\n",
    "        ),\n",
    "        epochs=1,\n",
    "        num_threads=4,\n",
    "    )\n",
    "    model.fit(dataset)\n",
    "    recos = model.recommend(\n",
    "        users=TEST_USERS,\n",
    "        dataset=dataset,\n",
    "        k=10,\n",
    "        filter_viewed=True,\n",
    "    )\n",
    "\n",
    "    map10 = calc_metrics(metrics, recos, test, train)['MAP@10']\n",
    "    return map10"
   ]
  },
  {
   "cell_type": "code",
   "execution_count": null,
   "metadata": {
    "id": "1yeGQeGMcnsK"
   },
   "outputs": [],
   "source": [
    "study = optuna.create_study(direction='maximize')\n",
    "study.optimize(lfm_objective, n_trials=30)"
   ]
  },
  {
   "cell_type": "markdown",
   "metadata": {
    "id": "gdI56X-YcnsK"
   },
   "source": [
    "# Обучение моделей"
   ]
  },
  {
   "cell_type": "code",
   "execution_count": null,
   "metadata": {
    "colab": {
     "base_uri": "https://localhost:8080/"
    },
    "id": "YKjjYgIrcnsK",
    "outputId": "7f642f29-ebe4-4d1c-b6c9-95d424ee055d"
   },
   "outputs": [],
   "source": [
    "models = {\n",
    "    'popular': PopularModel(),\n",
    "    'ease': EASEModel(),\n",
    "    'ials': ImplicitALSWrapperModel(\n",
    "        AlternatingLeastSquares(\n",
    "            factors=32,\n",
    "            regularization=0.01883534498756549,\n",
    "            iterations=5,\n",
    "        )\n",
    "    ),\n",
    "    'lightfm_1epoch': LightFMWrapperModel(\n",
    "        LightFM(\n",
    "            no_components=128,\n",
    "            learning_rate=0.002680734151218913,\n",
    "            rho=0.927338160882052,\n",
    "            loss='warp',\n",
    "            epsilon=3.2185481401279125e-06,\n",
    "            user_alpha=0,\n",
    "            item_alpha=0,\n",
    "            random_state=RANDOM_STATE,\n",
    "        ),\n",
    "        epochs=1,\n",
    "        num_threads=4,\n",
    "        verbose=1,\n",
    "    ),\n",
    "    'lightfm_15epoch': LightFMWrapperModel(\n",
    "        LightFM(\n",
    "            no_components=128,\n",
    "            learning_rate=0.002680734151218913,\n",
    "            rho=0.927338160882052,\n",
    "            loss='warp',\n",
    "            epsilon=3.2185481401279125e-06,\n",
    "            user_alpha=0,\n",
    "            item_alpha=0,\n",
    "            random_state=RANDOM_STATE,\n",
    "        ),\n",
    "        epochs=15,\n",
    "        num_threads=4,\n",
    "        verbose=1,\n",
    "    ),\n",
    "    'bert4rec_softmax_ids_and_cat': BERT4RecModel(\n",
    "        mask_prob=0.15,\n",
    "        deterministic=True,\n",
    "    ),\n",
    "}\n"
   ]
  },
  {
   "cell_type": "code",
   "execution_count": null,
   "metadata": {
    "colab": {
     "base_uri": "https://localhost:8080/",
     "height": 205,
     "referenced_widgets": [
      "ca96a5017b5b4d5d84d9612e2db3a162",
      "bff611db8b7b4280ac12787adfd7de56",
      "49b28aef58644e7fae933ff5afcb5b7d",
      "576d551b106e480989b75b33c54627ba",
      "ac4b2712709e4a2580983908900e3e6d",
      "8aee4e9393e3477f856919c32c7be13a",
      "5ca7ede46bbc433995651742c6ec4219",
      "8e0bb6eeb3924ab881078d4ca68926d5",
      "9cd8841ae9f24e44ab243504d84c68ea",
      "76ef8f76ca594d2db02d9bbbed5389aa",
      "e0e6bac7519b4db6a747a0ad06fb81f9",
      "f52bd34c98674c0e91f16ffe30b56859",
      "a8691d47a5de4b4586aab01668b47e5b",
      "1b181cd9bbb94b87bf96936b3e043590",
      "0caa63967e354a69b2bc96f98956f34d",
      "38ddcd5748a6401892ae5bb8ea005902",
      "66e0517600bf41f3acf539874414966c",
      "7de7e36c820c4fa7a3e41e1d840972ca",
      "f58dc34885fa43d2a10ec1995cf9c533",
      "eb555a2dcb8a46d8810ed410d156fa4a",
      "67f3f1cf818042cab8a9f4b4e2fb9c09",
      "486f1259096e471e91aaf9da441e7ea5"
     ]
    },
    "id": "aB04KvFtcnsM",
    "outputId": "99096766-0ac8-4835-c6e8-1ef3329e4156"
   },
   "outputs": [],
   "source": [
    "timestamp = datetime.now().strftime('%Y%m%d_%H-%M-%S')\n",
    "\n",
    "for model_name, model_obj in models.items():\n",
    "    model_obj.fit(dataset)\n",
    "    model_dir = f'../models/{model_name}'\n",
    "    if not os.path.exists(model_dir):\n",
    "        os.makedirs(model_dir)\n",
    "    model_obj.save(model_dir + rf'/{timestamp}.model')"
   ]
  }
 ],
 "metadata": {
  "accelerator": "GPU",
  "colab": {
   "collapsed_sections": [
    "oxLdU4RlcnsJ"
   ],
   "gpuType": "T4",
   "provenance": []
  },
  "kernelspec": {
   "display_name": ".venv",
   "language": "python",
   "name": "python3"
  },
  "language_info": {
   "codemirror_mode": {
    "name": "ipython",
    "version": 3
   },
   "file_extension": ".py",
   "mimetype": "text/x-python",
   "name": "python",
   "nbconvert_exporter": "python",
   "pygments_lexer": "ipython3",
   "version": "3.9.13"
  }
 },
 "nbformat": 4,
 "nbformat_minor": 0
}
